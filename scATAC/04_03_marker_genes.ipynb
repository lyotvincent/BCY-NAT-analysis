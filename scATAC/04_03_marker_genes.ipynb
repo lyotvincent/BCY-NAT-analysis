{
 "cells": [
  {
   "cell_type": "code",
   "execution_count": 1,
   "metadata": {
    "vscode": {
     "languageId": "r"
    }
   },
   "outputs": [],
   "source": [
    "suppressMessages(library(ArchR))\n",
    "suppressMessages(library(Seurat))\n",
    "suppressMessages(library(Signac))\n",
    "suppressMessages(library(cowplot))\n",
    "suppressMessages(library(dplyr))\n",
    "suppressMessages(library(tidyr))\n",
    "suppressMessages(library(Ipaper))"
   ]
  },
  {
   "cell_type": "code",
   "execution_count": 2,
   "metadata": {
    "vscode": {
     "languageId": "r"
    }
   },
   "outputs": [
    {
     "name": "stderr",
     "output_type": "stream",
     "text": [
      "Setting default number of Parallel threads to 64.\n",
      "\n"
     ]
    }
   ],
   "source": [
    "set.seed(42)\n",
    "addArchRThreads(threads = 64)"
   ]
  },
  {
   "cell_type": "code",
   "execution_count": 3,
   "metadata": {
    "vscode": {
     "languageId": "r"
    }
   },
   "outputs": [
    {
     "name": "stderr",
     "output_type": "stream",
     "text": [
      "Successfully loaded ArchRProject!\n",
      "\n"
     ]
    }
   ],
   "source": [
    "proj <- loadArchRProject(\"./ArchRProject\", showLogo = FALSE)"
   ]
  },
  {
   "cell_type": "code",
   "execution_count": 7,
   "metadata": {
    "vscode": {
     "languageId": "r"
    }
   },
   "outputs": [
    {
     "name": "stderr",
     "output_type": "stream",
     "text": [
      "ArchR logging to : ArchRLogs/ArchR-getMarkerFeatures-1f51472ce63b38-Date-2025-02-25_Time-01-25-52.728932.log\n",
      "If there is an issue, please report to github with logFile!\n",
      "\n"
     ]
    },
    {
     "name": "stderr",
     "output_type": "stream",
     "text": [
      "MatrixClass = Sparse.Double.Matrix\n",
      "\n",
      "2025-02-25 01:25:53.173393 : Matching Known Biases, 0.006 mins elapsed.\n",
      "\n",
      "###########\n",
      "2025-02-25 01:28:56.692052 : Completed Pairwise Tests, 3.065 mins elapsed.\n",
      "###########\n",
      "\n",
      "ArchR logging successful to : ArchRLogs/ArchR-getMarkerFeatures-1f51472ce63b38-Date-2025-02-25_Time-01-25-52.728932.log\n",
      "\n"
     ]
    }
   ],
   "source": [
    "markersGS <- getMarkerFeatures(\n",
    "    ArchRProj = proj, \n",
    "    useMatrix = \"GeneScoreMatrix\", \n",
    "    groupBy = \"Clusters\",\n",
    "    bias = c(\"TSSEnrichment\", \"log10(nFrags)\"),\n",
    "    testMethod = \"wilcoxon\"\n",
    ")"
   ]
  },
  {
   "cell_type": "code",
   "execution_count": 8,
   "metadata": {
    "vscode": {
     "languageId": "r"
    }
   },
   "outputs": [],
   "source": [
    "saveRDS(markersGS, file = \"./ArchRProject/markersGS.rds\")"
   ]
  },
  {
   "cell_type": "code",
   "execution_count": 4,
   "metadata": {
    "vscode": {
     "languageId": "r"
    }
   },
   "outputs": [],
   "source": [
    "markersGS <- readRDS(file = \"./ArchRProject/markersGS.rds\" )"
   ]
  },
  {
   "cell_type": "code",
   "execution_count": 12,
   "metadata": {
    "vscode": {
     "languageId": "r"
    }
   },
   "outputs": [],
   "source": [
    "markerList <- getMarkers(markersGS, cutOff = \"FDR <= 0.05 & Log2FC >= 1.25\")\n",
    "## Clusters差异基因，按照MeanDiff排序，并保存为Excel文件\n",
    "markerList <- lapply(markerList, as.data.frame)\n",
    "library(writexl)\n",
    "\n",
    "for(i in 1:length(markerList)){\n",
    "    markerList[[i]] <- markerList[[i]][order(-markerList[[i]]$MeanDiff), ]\n",
    "}\n",
    "\n",
    "WriteXLS::WriteXLS(markerList,\n",
    "                   ExcelFileName = \"./ArchRProject/markersGS_MeanDiff.xlsx\",\n",
    "                   SheetNames = names(markerList))"
   ]
  },
  {
   "cell_type": "code",
   "execution_count": 13,
   "metadata": {
    "vscode": {
     "languageId": "r"
    }
   },
   "outputs": [],
   "source": [
    "markerList <- getMarkers(markersGS, cutOff = \"FDR <= 0.05 & Log2FC >= 1.25\")\n",
    "## Clusters差异基因，按照FDR排序，并保存为Excel文件\n",
    "markerList <- lapply(markerList, as.data.frame)\n",
    "\n",
    "for(i in 1:length(markerList)){\n",
    "    markerList[[i]] <- markerList[[i]][order(markerList[[i]]$FDR), ]\n",
    "}\n",
    "WriteXLS::WriteXLS(markerList,\n",
    "                   ExcelFileName = \"./ArchRProject/markersGS_FDR.xlsx\",\n",
    "                   SheetNames = names(markerList))"
   ]
  },
  {
   "cell_type": "code",
   "execution_count": 5,
   "metadata": {
    "vscode": {
     "languageId": "r"
    }
   },
   "outputs": [
    {
     "name": "stderr",
     "output_type": "stream",
     "text": [
      "ArchR logging to : ArchRLogs/ArchR-plotMarkerHeatmap-3a92907df19dcb-Date-2025-03-21_Time-02-55-35.583313.log\n",
      "If there is an issue, please report to github with logFile!\n",
      "\n",
      "Printing Top Marker Genes:\n",
      "\n",
      "C1:\n",
      "\n",
      "\tTMEM240, ARHGEF16, TNFRSF25, UBXN10, CAMK2N1, SERINC2, LINC01226, ARTN, KNCN, CYP4A22, HOOK1, RNVU1-15, NBPF20, GPR89A, PDZK1\n",
      "\n",
      "C2:\n",
      "\n",
      "\tCELA2B, FAM131C, LOC284632, SLC30A2, GUCA2A, CYP4Z1, RAB3B, TTC22, LEXM, OVGP1, MAB21L3, LINGO4, ATP1A2, ATP1A4, C1orf105\n",
      "\n",
      "C3:\n",
      "\n",
      "\tCASQ1, OR6F1, OR1C1, PCDH20, FAM174B, LINC00923, ARRDC4, LINC01582, FAM169B, IGF1R, MIR4714, PGPEP1L, SYNM, TTC23, HSP90B2P\n",
      "\n",
      "C4:\n",
      "\n",
      "\tCDA, BEND5, PRKAA2, SLC44A5, AK5, LINC01555, GBP7, HAO2-IT1, KCNMA1-AS3, CUZD1, TCERG1L-AS1, TPH1, MIR1252, LINC02410, SLITRK6\n",
      "\n",
      "C5:\n",
      "\n",
      "\tMIR6727, LINC01351, TRIM6, RAG2, YEATS4, LOC101928002, RAB3IP, LOC100130238, LINC00359, SERPINA6, MEG9, SULT1A1, SGK494, SPAG5-AS1, KIAA0100\n",
      "\n",
      "C6:\n",
      "\n",
      "\tCCDC190, LOC101926942, FRG2B, ARNTL2-AS1, PCDH9-AS3, BAG5, MRPL12, LINC01882, DSG2-AS1, STARD6, LINC01538, GTSCR1, LINC01927, APOL5, MIR128-2\n",
      "\n",
      "C7:\n",
      "\n",
      "\tIVL, SPRR4, SPRR3, SPRR1B, SPRR2D, SPRR2G, LOC101929646, MUC2, MRGPRG, SYT9, TMPRSS4, GPRC5A, MIR614, PRPH, ADPRHL1\n",
      "\n",
      "C8:\n",
      "\n",
      "\tCLCNKA, SLC22A15, FAM72B, SETDB1, FLG2, CRNN, SH2D1B, RABGAP1L, GPR52, LINC01645, KCNH1, WNT9A, HIST3H2BB, CCSAP, GATA3-AS1\n",
      "\n",
      "C9:\n",
      "\n",
      "\tLINC01342, CASZ1, SRARP, PADI6, NCMAP, SPOCD1, KIAA1522, EVA1B, TMEM125, TSPAN1, CYP4A11, LOC100129046, AGL, SLC35A3, KIAA1324\n",
      "\n",
      "C10:\n",
      "\n",
      "\tMIR4422, MIR7852, SLC16A4, OR10T2, RALGPS2, LYPLAL1, LINC01655, FAM177B, OR2L2, OR2T1, OR2T11, LOC100506258, OR4S2, OR5AN1, OR5A1\n",
      "\n",
      "C11:\n",
      "\n",
      "\tSLC2A7, SLC2A5, BMP8A, BMP8B, OXCT2, LINC01364, GPR88, NTNG1, KCNA2, TENT5C, KCNJ10, OCLM, LOC102724919, LEFTY2, MIXL1\n",
      "\n",
      "C12:\n",
      "\n",
      "\tTNFRSF4, MRPL20, MMP23A, TNFRSF9, PIK3CD-AS1, RCAN3, RUNX3, MIR6731, UBXN11, ZNF683, LCK, TMCO2, IL23R, IL12RB2, IFI44\n",
      "\n",
      "C13:\n",
      "\n",
      "\tTCTEX1D1, LINC01140, SLC45A3, SPATA45, GCSAML, GCSAML-AS1, OR2C3, OR2G2, LINC00200, HACD1, LINC01264, MIR5100, LOC102724264, FAM25C, MRLN\n",
      "\n",
      "C14:\n",
      "\n",
      "\tC8A, GREM2, CCDC179, OR6X1, TMEM132D-AS1, LINC00433, ZNF667, MIR4431, LINC01828, GALNT13, MIR548AE1, LINC01718, MIR548AB, IGSF10, KCNIP4-IT1\n",
      "\n",
      "C15:\n",
      "\n",
      "\tC1QB, TMIGD3, SYT6, LOC105371433, TMOD4, RPTN, ETV3L, CD1E, FCER1A, OR10J1, SLAMF8, ITLN1, FCGR2B, MR1, GPR137B\n",
      "\n",
      "C16:\n",
      "\n",
      "\tFNDC10, NADK, TNFRSF14, CTRC, PADI4, LOC100506801, RPS6KA1, ZDHHC18, SMPDL3B, MED18, MARCKSL1, GNAT2, AMPD2, OR10K2, APCS\n",
      "\n",
      "C17:\n",
      "\n",
      "\tRBP7, ANGPTL3, NEGR1, PGLYRP3, OR6K2, PDC, LINC01036, LINC01037, BRINP3, RGS21, CFHR2, C4BPA, LOC100130331, ZP4, MIR3123\n",
      "\n",
      "C18:\n",
      "\n",
      "\tVWA1, LINC01770, LOC102724659, HSPG2, FAM110D, TIE1, MIR4794, S1PR1, LOC101928370, SRGAP2B, FAM72D, CRCT1, LCE3E, SHE, CADM3-AS1\n",
      "\n",
      "C19:\n",
      "\n",
      "\tACTRT2, AJAP1, MARC1, C1QL3, SHANK2-AS1, LOC105369486, ABCC9, LHFPL6, FGF14-IT1, FGF14-AS2, SOX1-OT, CCDC196, HS3ST4, MIR8058, CBFA2T3\n",
      "\n",
      "C20:\n",
      "\n",
      "\tFAM87B, PRDM16, NPPA, NPPB, HSPB7, LINC01654, GJA4, MIR3659, LINC01349, SPATA42, INKA2-AS1, CASQ2, ZNF697, SMCP, S100A3\n",
      "\n",
      "C21:\n",
      "\n",
      "\tMIR6729, HNRNPCL1, PRAMEF17, PRAMEF20, TMEM200B, C1orf94, RSPO1, FHL3, ROR1, MIR3117, DIRAS3, LINC01787, PLPPR5, OLFML3, OR10X1\n",
      "\n",
      "C22:\n",
      "\n",
      "\tMIR34A, ACTL8, PLA2G2A, PLA2G5, FABP3, MIR3605, PODN, HSD52, ROR1-AS1, NEXN-AS1, CLCA1, PTGFRN, LOC105378933, HRNR, LINC01133\n",
      "\n",
      "C23:\n",
      "\n",
      "\tANKRD65, TMEM88B, LINC01777, IL22RA1, TRNP1, SYTL1, CD164L2, HCRTR1, ZBTB8B, COL8A2, MIR4255, CLDN19, FAM183A, ACOT11, TMEM61\n",
      "\n",
      "C24:\n",
      "\n",
      "\tLRRC47, PADI3, HMGB4, LINC00853, SLC5A9, LOC101927434, LOC101927143, OR2G6, GDF2, LOC105376599, KRTAP5-9, KRTAP5-11, DEFB131B, MIR4696, KRT86\n",
      "\n",
      "C25:\n",
      "\n",
      "\tAADACL3, MIR30C1, PDE4B, LOC101927139, FNBP1L, SLC44A3, KCNC4, S100A2, KLHDC8A, LEMD1-AS1, CHRM3-AS2, MIR604, PCAT5, LINC00842, PYROXD2\n",
      "\n",
      "Identified 7492 markers!\n",
      "\n"
     ]
    },
    {
     "name": "stdout",
     "output_type": "stream",
     "text": [
      " [1] \"CD38\"   \"IGLL5\"  \"PAX5\"   \"ITGAM\"  \"FAP\"    \"FOXP3\"  \"VIM\"    \"PDCD1\" \n",
      " [9] \"CD8A\"   \"CD3D\"   \"CD4\"    \"CXCL12\" \"THY1\"   \"PECAM1\" \"KDR\"    \"EPACM\" \n",
      "[17] \"ERBB2\"  \"FOXA1\"  \"KRT8\"   \"ESR1\"   \"KRT14\"  \"CDH1\"  \n"
     ]
    },
    {
     "name": "stderr",
     "output_type": "stream",
     "text": [
      "Preparing Main Heatmap..\n",
      "\n",
      "ArchR logging successful to : ArchRLogs/ArchR-plotMarkerHeatmap-3a92907df19dcb-Date-2025-03-21_Time-02-55-35.583313.log\n",
      "\n"
     ]
    },
    {
     "data": {
      "text/html": [
       "<strong>pdf:</strong> 2"
      ],
      "text/latex": [
       "\\textbf{pdf:} 2"
      ],
      "text/markdown": [
       "**pdf:** 2"
      ],
      "text/plain": [
       "pdf \n",
       "  2 "
      ]
     },
     "metadata": {},
     "output_type": "display_data"
    }
   ],
   "source": [
    "# Heatmap\n",
    "## marker genes, 根据05_01_annotation中的显著表达来确定绘图的marker genes\n",
    "markerGenes <- c(\n",
    "    \"CD38\", \"IGLL5\", \"PAX5\", \"ITGAM\", \"FAP\",\n",
    "    \"FOXP3\", \"VIM\", \"PDCD1\", \"CD8A\", \"CD3D\",\n",
    "    \"CD4\", \"CXCL12\", \"THY1\", \"PECAM1\", \"KDR\",\n",
    "    \"EPACM\", \"ERBB2\", \"FOXA1\", \"KRT8\", \"ESR1\",\n",
    "    \"KRT14\", \"CDH1\"\n",
    ")\n",
    "\n",
    "heatmapGS <- plotMarkerHeatmap(\n",
    "  seMarker = markersGS, \n",
    "  cutOff = \"FDR <= 0.05 & Log2FC >= 1.25\", \n",
    "  labelMarkers = markerGenes\n",
    ")\n",
    "\n",
    "options(repr.plot.height = 10, repr.plot.width = 10)\n",
    "svg(\"/data/hanxue/BCY_ATAC/joint_output/MarkerGeneScore.svg\",width = 10, height = 10)\n",
    "ComplexHeatmap::draw(heatmapGS, \n",
    "                     heatmap_legend_side = \"bot\", \n",
    "                     annotation_legend_side = \"bot\")\n",
    "dev.off()"
   ]
  },
  {
   "cell_type": "code",
   "execution_count": null,
   "metadata": {
    "vscode": {
     "languageId": "r"
    }
   },
   "outputs": [
    {
     "name": "stderr",
     "output_type": "stream",
     "text": [
      "Plotting ComplexHeatmap!\n",
      "\n"
     ]
    }
   ],
   "source": [
    "plotPDF(heatmapGS, name = \"GeneScores-Marker-Heatmap.pdf\", width = 8, height = 6, ArchRProj = proj, addDOC = FALSE)"
   ]
  },
  {
   "cell_type": "code",
   "execution_count": 6,
   "metadata": {
    "vscode": {
     "languageId": "r"
    }
   },
   "outputs": [
    {
     "data": {
      "image/png": "[encoded data removed]",
      "text/plain": [
       "plot without title"
      ]
     },
     "metadata": {
      "image/png": {
       "height": 600,
       "width": 600
      }
     },
     "output_type": "display_data"
    }
   ],
   "source": [
    "## 绘制只有marker基因的热图，Mean GS z-score\n",
    "\n",
    "### 提取差异基因中在marker genes中的基因\n",
    "idx <- which(mcols(markersGS)$name %in% markerGenes)\n",
    "### 提取指定行，为矩阵\n",
    "mtx <- assays(markersGS[idx,])$Mean %>% `rownames<-`(., mcols(markersGS)$name[idx])\n",
    "### 标准化（z-score），并转置\n",
    "mtx <- t(scale(t(mtx)))\n",
    "### 定义层次聚类函数\n",
    "fh <- function(x) hclust(dist(x), method=\"ward.D2\")\n",
    "### 定义颜色函数\n",
    "col_fun1 <- colorRamp2(c(-2,-1,0,1,2), paletteContinuous(set = \"horizonExtra\", n = 5))\n",
    "\n",
    "ht1 <- Heatmap(mtx, name = \"Mean GS z-score\", cluster_rows = fh, cluster_columns = F, show_row_dend = F, col = col_fun1)\n",
    "# svg(\"/data/hanxue/BCY_ATAC/joint_output/Mean GS z-score.svg\",width = 10, height = 10)\n",
    "p3 <- draw(ht1)\n",
    "p3\n",
    "# dev.off()"
   ]
  },
  {
   "cell_type": "code",
   "execution_count": 7,
   "metadata": {
    "vscode": {
     "languageId": "r"
    }
   },
   "outputs": [
    {
     "data": {
      "text/html": [
       "<table class=\"dataframe\">\n",
       "<caption>A matrix: 21 × 25 of type dbl</caption>\n",
       "<thead>\n",
       "\t<tr><th></th><th scope=col>C1</th><th scope=col>C2</th><th scope=col>C3</th><th scope=col>C4</th><th scope=col>C5</th><th scope=col>C6</th><th scope=col>C7</th><th scope=col>C8</th><th scope=col>C9</th><th scope=col>C10</th><th scope=col>⋯</th><th scope=col>C16</th><th scope=col>C17</th><th scope=col>C18</th><th scope=col>C19</th><th scope=col>C20</th><th scope=col>C21</th><th scope=col>C22</th><th scope=col>C23</th><th scope=col>C24</th><th scope=col>C25</th></tr>\n",
       "</thead>\n",
       "<tbody>\n",
       "\t<tr><th scope=row>VIM</th><td>-1.16287304</td><td>-1.23676497</td><td>-1.04436571</td><td>-0.971685589</td><td>-1.23356970</td><td>-0.48497199</td><td>-1.36093267</td><td>-0.75972469</td><td>-1.4771106</td><td> 0.86711078</td><td>⋯</td><td> 0.48652721</td><td>-0.03850349</td><td> 1.0590487</td><td> 0.4153683</td><td> 0.48453718</td><td> 0.4892246962</td><td> 1.067610104</td><td> 0.27910088</td><td>-0.628757293</td><td>-0.70941473</td></tr>\n",
       "\t<tr><th scope=row>CXCL12</th><td> 1.12792349</td><td> 2.34364444</td><td> 0.25716903</td><td> 0.481815229</td><td> 0.33435994</td><td>-0.35332204</td><td>-0.11154863</td><td>-0.60781625</td><td>-0.4194566</td><td>-1.42360948</td><td>⋯</td><td>-1.55451675</td><td> 1.43288340</td><td>-0.4276006</td><td>-0.3554901</td><td> 0.99291290</td><td> 1.2628867646</td><td> 0.903067638</td><td>-0.39873431</td><td>-0.548004126</td><td> 0.63284345</td></tr>\n",
       "\t<tr><th scope=row>CD3D</th><td>-0.45033630</td><td> 0.04987766</td><td>-0.28310121</td><td>-0.302265629</td><td>-0.28267241</td><td>-0.16232799</td><td>-0.22755058</td><td>-0.27646429</td><td>-0.1585276</td><td> 0.25726969</td><td>⋯</td><td> 0.08988587</td><td> 0.01758291</td><td>-0.3577211</td><td>-0.4381039</td><td>-0.32510552</td><td>-0.3747821664</td><td>-0.393948938</td><td>-0.40175386</td><td>-0.401693025</td><td>-0.47495285</td></tr>\n",
       "\t<tr><th scope=row>THY1</th><td>-0.82879127</td><td> 0.49262122</td><td>-0.45273142</td><td>-0.089090972</td><td>-0.61634012</td><td>-0.34859122</td><td>-0.50311393</td><td>-0.91224036</td><td>-0.8806093</td><td>-0.63714725</td><td>⋯</td><td>-0.51511361</td><td> 0.10509404</td><td>-0.4060865</td><td> 0.5106722</td><td> 0.76965806</td><td> 1.8094419672</td><td> 3.518004318</td><td> 1.01147931</td><td>-0.333681604</td><td>-0.16543219</td></tr>\n",
       "\t<tr><th scope=row>CD4</th><td>-0.47124175</td><td>-0.49684129</td><td> 0.37666278</td><td> 0.101032217</td><td> 0.32449888</td><td>-0.20241376</td><td> 0.38583374</td><td>-2.05964029</td><td>-0.8048965</td><td>-0.08804807</td><td>⋯</td><td> 1.28816545</td><td>-0.91076304</td><td>-0.8784569</td><td>-0.9234279</td><td> 0.79153598</td><td> 0.1325374510</td><td>-0.266437448</td><td>-0.45641416</td><td> 0.419674547</td><td>-0.29622274</td></tr>\n",
       "\t<tr><th scope=row>KRT8</th><td> 1.13433527</td><td> 0.72370342</td><td> 0.79786323</td><td> 0.992865473</td><td> 0.95289139</td><td> 0.23344502</td><td> 0.76716270</td><td> 1.63946399</td><td> 2.5864067</td><td>-0.99483567</td><td>⋯</td><td>-1.12237340</td><td>-0.48862400</td><td>-0.7605929</td><td>-0.8467111</td><td>-0.64998121</td><td>-0.8730476546</td><td>-0.844765779</td><td>-0.22546895</td><td> 0.821915476</td><td> 0.12125392</td></tr>\n",
       "\t<tr><th scope=row>FOXA1</th><td> 0.66011191</td><td> 1.71654228</td><td> 0.90598322</td><td> 0.715866537</td><td> 0.56803938</td><td> 0.09697198</td><td> 0.42452350</td><td> 2.07108957</td><td> 2.7646294</td><td>-0.75556183</td><td>⋯</td><td>-0.80185385</td><td>-0.36996133</td><td>-0.7294356</td><td>-0.6771344</td><td>-0.63920627</td><td>-0.7065625770</td><td>-0.730774716</td><td>-0.71388598</td><td>-0.310815696</td><td>-0.03695199</td></tr>\n",
       "\t<tr><th scope=row>ITGAM</th><td>-0.91572360</td><td> 0.13479612</td><td> 0.27442861</td><td> 0.743520724</td><td> 0.30451987</td><td> 0.27909025</td><td> 0.49931165</td><td> 0.19502094</td><td> 0.1655299</td><td> 0.48789247</td><td>⋯</td><td> 1.89176311</td><td>-0.40099581</td><td>-1.3247295</td><td>-0.8503288</td><td>-0.77665043</td><td>-0.8017110940</td><td>-1.470603807</td><td>-0.93060296</td><td>-0.451013224</td><td> 0.42359753</td></tr>\n",
       "\t<tr><th scope=row>CDH1</th><td> 1.27865592</td><td> 1.43124442</td><td> 0.90433654</td><td> 1.518724887</td><td> 1.17278188</td><td> 0.05448144</td><td> 0.71777792</td><td>-0.46838136</td><td> 0.4081852</td><td>-0.93647537</td><td>⋯</td><td>-1.12622266</td><td>-0.38286657</td><td>-1.0414888</td><td>-0.8842630</td><td>-1.13899245</td><td>-0.6619927966</td><td>-0.687030965</td><td> 0.57808008</td><td> 1.169649372</td><td> 1.80995075</td></tr>\n",
       "\t<tr><th scope=row>ERBB2</th><td>-0.18388821</td><td>-0.33857883</td><td>-0.20092843</td><td>-0.269796245</td><td> 2.54174955</td><td> 1.96430842</td><td> 3.21134844</td><td>-0.17211061</td><td> 0.2921746</td><td>-0.46944418</td><td>⋯</td><td>-0.48130000</td><td>-0.43036120</td><td>-0.4564637</td><td>-0.4500334</td><td>-0.45309798</td><td>-0.4537718331</td><td>-0.448032108</td><td>-0.27820781</td><td>-0.287063579</td><td>-0.34878046</td></tr>\n",
       "\t<tr><th scope=row>KRT14</th><td> 0.31403139</td><td>-0.21019669</td><td>-0.03935466</td><td>-0.178554762</td><td>-0.24809680</td><td>-0.18283979</td><td>-0.22927412</td><td> 0.08309422</td><td> 0.2663716</td><td>-0.71788972</td><td>⋯</td><td>-0.45879115</td><td>-0.08268981</td><td>-0.5777899</td><td>-0.6241163</td><td>-0.50301190</td><td>-0.4755640905</td><td>-0.622104013</td><td> 3.52503740</td><td> 0.878640526</td><td> 2.59962283</td></tr>\n",
       "\t<tr><th scope=row>PECAM1</th><td> 0.01469924</td><td>-0.77562372</td><td>-0.30979893</td><td>-0.721841055</td><td> 0.68444344</td><td> 0.49918721</td><td> 0.19085569</td><td>-0.78616101</td><td>-0.4961040</td><td>-0.64190252</td><td>⋯</td><td> 0.32820206</td><td> 0.10153341</td><td> 3.3812843</td><td> 1.4356741</td><td>-0.02912740</td><td> 0.0002218746</td><td> 0.246727796</td><td>-0.94512063</td><td>-0.913215156</td><td>-0.70075801</td></tr>\n",
       "\t<tr><th scope=row>CD8A</th><td>-0.01066588</td><td>-0.38035709</td><td> 0.09402939</td><td> 0.009391301</td><td>-0.02838924</td><td>-0.20843620</td><td>-0.28175778</td><td> 0.06674302</td><td>-0.3243837</td><td>-0.31135645</td><td>⋯</td><td>-1.02538468</td><td> 0.23880263</td><td>-0.1411370</td><td>-0.4503690</td><td>-0.69129036</td><td>-0.5524401487</td><td>-0.684555891</td><td>-0.01161096</td><td> 0.106638684</td><td>-0.18670425</td></tr>\n",
       "\t<tr><th scope=row>FAP</th><td>-0.96134566</td><td>-0.94312495</td><td>-0.75883290</td><td>-1.059079624</td><td>-0.91501133</td><td> 0.28965952</td><td>-0.73133772</td><td>-0.61380005</td><td>-0.8007581</td><td>-0.69444019</td><td>⋯</td><td>-0.41713720</td><td> 1.38226021</td><td> 1.0316586</td><td> 0.2679263</td><td> 0.34866332</td><td> 2.0209950988</td><td> 2.494830777</td><td>-0.77155470</td><td> 0.003202196</td><td> 0.04330499</td></tr>\n",
       "\t<tr><th scope=row>PDCD1</th><td>-0.78872967</td><td>-0.75305648</td><td>-0.69370597</td><td>-0.541636706</td><td>-0.76196999</td><td>-0.24472503</td><td>-0.85402039</td><td>-1.25367818</td><td>-0.8492873</td><td> 1.66591540</td><td>⋯</td><td>-1.05094915</td><td> 0.13578820</td><td>-0.2588336</td><td>-0.3915968</td><td>-0.04125246</td><td> 0.5937586033</td><td> 0.895968127</td><td>-0.71913842</td><td>-0.201317842</td><td>-0.28637893</td></tr>\n",
       "\t<tr><th scope=row>IGLL5</th><td>-0.01865035</td><td>-0.16259878</td><td>-0.25547669</td><td>-0.357034414</td><td>-0.29908833</td><td>-0.11837697</td><td>-0.06409214</td><td>-0.44735240</td><td>-0.3094363</td><td> 1.31828551</td><td>⋯</td><td>-0.34895938</td><td>-0.10397700</td><td>-0.2907924</td><td>-0.1554031</td><td>-0.30442585</td><td>-0.1926347076</td><td>-0.488287443</td><td>-0.47223108</td><td>-0.416261381</td><td>-0.44443747</td></tr>\n",
       "\t<tr><th scope=row>CD38</th><td>-0.84129829</td><td>-0.87473360</td><td>-0.27779564</td><td>-0.521512904</td><td>-0.70008002</td><td>-0.40948603</td><td>-0.62399675</td><td>-0.07174771</td><td>-0.7836322</td><td> 0.48126821</td><td>⋯</td><td> 0.01351784</td><td> 0.35663426</td><td>-0.7025737</td><td>-0.6241545</td><td>-0.19567249</td><td>-0.2181424252</td><td> 0.240278837</td><td>-0.71044037</td><td>-0.114035412</td><td> 0.13165661</td></tr>\n",
       "\t<tr><th scope=row>KDR</th><td>-0.53110516</td><td>-0.59379031</td><td> 0.05916050</td><td>-0.251856014</td><td>-0.55068445</td><td> 0.09973057</td><td>-0.25524005</td><td> 0.13510398</td><td>-0.5260153</td><td>-0.86136793</td><td>⋯</td><td>-0.64885023</td><td> 1.39399954</td><td> 3.2037574</td><td> 1.9963238</td><td>-0.51312356</td><td>-0.3466695304</td><td>-0.660650468</td><td> 0.67878280</td><td> 0.122995113</td><td> 1.22556799</td></tr>\n",
       "\t<tr><th scope=row>ESR1</th><td> 0.43494242</td><td> 0.60032784</td><td> 0.84134356</td><td> 1.484164959</td><td> 2.26023014</td><td> 1.09411177</td><td> 1.29819853</td><td>-0.74218518</td><td> 0.8715053</td><td>-1.18131004</td><td>⋯</td><td>-1.65034183</td><td> 0.40441661</td><td>-1.1991583</td><td>-0.9037181</td><td>-0.18233969</td><td>-0.3217360879</td><td> 0.008065172</td><td>-0.69999295</td><td>-0.349538508</td><td> 0.32466257</td></tr>\n",
       "\t<tr><th scope=row>PAX5</th><td> 0.09897471</td><td>-1.02941868</td><td> 0.10901083</td><td>-0.417081481</td><td>-0.65391752</td><td>-0.18685178</td><td>-0.52167243</td><td> 0.41985275</td><td>-0.1915000</td><td> 3.56995339</td><td>⋯</td><td>-1.13036482</td><td> 0.94327699</td><td>-0.4916960</td><td>-0.1334582</td><td>-0.30679762</td><td>-0.4563075696</td><td>-0.875589524</td><td>-0.38291718</td><td> 0.024903624</td><td> 0.57471783</td></tr>\n",
       "\t<tr><th scope=row>FOXP3</th><td>-0.45348857</td><td>-0.70272802</td><td>-0.25494655</td><td>-0.947650108</td><td>-0.35913033</td><td> 0.32785138</td><td> 0.10225407</td><td> 1.93800753</td><td>-0.9738716</td><td> 0.49932824</td><td>⋯</td><td> 2.44458707</td><td>-0.01500301</td><td> 0.3276114</td><td>-0.9343676</td><td>-0.07388955</td><td>-0.5309783679</td><td>-0.883650031</td><td> 0.42173599</td><td>-0.967932903</td><td>-0.87667874</td></tr>\n",
       "</tbody>\n",
       "</table>\n"
      ],
      "text/latex": [
       "A matrix: 21 × 25 of type dbl\n",
       "\\begin{tabular}{r|lllllllllllllllllllll}\n",
       "  & C1 & C2 & C3 & C4 & C5 & C6 & C7 & C8 & C9 & C10 & ⋯ & C16 & C17 & C18 & C19 & C20 & C21 & C22 & C23 & C24 & C25\\\\\n",
       "\\hline\n",
       "\tVIM & -1.16287304 & -1.23676497 & -1.04436571 & -0.971685589 & -1.23356970 & -0.48497199 & -1.36093267 & -0.75972469 & -1.4771106 &  0.86711078 & ⋯ &  0.48652721 & -0.03850349 &  1.0590487 &  0.4153683 &  0.48453718 &  0.4892246962 &  1.067610104 &  0.27910088 & -0.628757293 & -0.70941473\\\\\n",
       "\tCXCL12 &  1.12792349 &  2.34364444 &  0.25716903 &  0.481815229 &  0.33435994 & -0.35332204 & -0.11154863 & -0.60781625 & -0.4194566 & -1.42360948 & ⋯ & -1.55451675 &  1.43288340 & -0.4276006 & -0.3554901 &  0.99291290 &  1.2628867646 &  0.903067638 & -0.39873431 & -0.548004126 &  0.63284345\\\\\n",
       "\tCD3D & -0.45033630 &  0.04987766 & -0.28310121 & -0.302265629 & -0.28267241 & -0.16232799 & -0.22755058 & -0.27646429 & -0.1585276 &  0.25726969 & ⋯ &  0.08988587 &  0.01758291 & -0.3577211 & -0.4381039 & -0.32510552 & -0.3747821664 & -0.393948938 & -0.40175386 & -0.401693025 & -0.47495285\\\\\n",
       "\tTHY1 & -0.82879127 &  0.49262122 & -0.45273142 & -0.089090972 & -0.61634012 & -0.34859122 & -0.50311393 & -0.91224036 & -0.8806093 & -0.63714725 & ⋯ & -0.51511361 &  0.10509404 & -0.4060865 &  0.5106722 &  0.76965806 &  1.8094419672 &  3.518004318 &  1.01147931 & -0.333681604 & -0.16543219\\\\\n",
       "\tCD4 & -0.47124175 & -0.49684129 &  0.37666278 &  0.101032217 &  0.32449888 & -0.20241376 &  0.38583374 & -2.05964029 & -0.8048965 & -0.08804807 & ⋯ &  1.28816545 & -0.91076304 & -0.8784569 & -0.9234279 &  0.79153598 &  0.1325374510 & -0.266437448 & -0.45641416 &  0.419674547 & -0.29622274\\\\\n",
       "\tKRT8 &  1.13433527 &  0.72370342 &  0.79786323 &  0.992865473 &  0.95289139 &  0.23344502 &  0.76716270 &  1.63946399 &  2.5864067 & -0.99483567 & ⋯ & -1.12237340 & -0.48862400 & -0.7605929 & -0.8467111 & -0.64998121 & -0.8730476546 & -0.844765779 & -0.22546895 &  0.821915476 &  0.12125392\\\\\n",
       "\tFOXA1 &  0.66011191 &  1.71654228 &  0.90598322 &  0.715866537 &  0.56803938 &  0.09697198 &  0.42452350 &  2.07108957 &  2.7646294 & -0.75556183 & ⋯ & -0.80185385 & -0.36996133 & -0.7294356 & -0.6771344 & -0.63920627 & -0.7065625770 & -0.730774716 & -0.71388598 & -0.310815696 & -0.03695199\\\\\n",
       "\tITGAM & -0.91572360 &  0.13479612 &  0.27442861 &  0.743520724 &  0.30451987 &  0.27909025 &  0.49931165 &  0.19502094 &  0.1655299 &  0.48789247 & ⋯ &  1.89176311 & -0.40099581 & -1.3247295 & -0.8503288 & -0.77665043 & -0.8017110940 & -1.470603807 & -0.93060296 & -0.451013224 &  0.42359753\\\\\n",
       "\tCDH1 &  1.27865592 &  1.43124442 &  0.90433654 &  1.518724887 &  1.17278188 &  0.05448144 &  0.71777792 & -0.46838136 &  0.4081852 & -0.93647537 & ⋯ & -1.12622266 & -0.38286657 & -1.0414888 & -0.8842630 & -1.13899245 & -0.6619927966 & -0.687030965 &  0.57808008 &  1.169649372 &  1.80995075\\\\\n",
       "\tERBB2 & -0.18388821 & -0.33857883 & -0.20092843 & -0.269796245 &  2.54174955 &  1.96430842 &  3.21134844 & -0.17211061 &  0.2921746 & -0.46944418 & ⋯ & -0.48130000 & -0.43036120 & -0.4564637 & -0.4500334 & -0.45309798 & -0.4537718331 & -0.448032108 & -0.27820781 & -0.287063579 & -0.34878046\\\\\n",
       "\tKRT14 &  0.31403139 & -0.21019669 & -0.03935466 & -0.178554762 & -0.24809680 & -0.18283979 & -0.22927412 &  0.08309422 &  0.2663716 & -0.71788972 & ⋯ & -0.45879115 & -0.08268981 & -0.5777899 & -0.6241163 & -0.50301190 & -0.4755640905 & -0.622104013 &  3.52503740 &  0.878640526 &  2.59962283\\\\\n",
       "\tPECAM1 &  0.01469924 & -0.77562372 & -0.30979893 & -0.721841055 &  0.68444344 &  0.49918721 &  0.19085569 & -0.78616101 & -0.4961040 & -0.64190252 & ⋯ &  0.32820206 &  0.10153341 &  3.3812843 &  1.4356741 & -0.02912740 &  0.0002218746 &  0.246727796 & -0.94512063 & -0.913215156 & -0.70075801\\\\\n",
       "\tCD8A & -0.01066588 & -0.38035709 &  0.09402939 &  0.009391301 & -0.02838924 & -0.20843620 & -0.28175778 &  0.06674302 & -0.3243837 & -0.31135645 & ⋯ & -1.02538468 &  0.23880263 & -0.1411370 & -0.4503690 & -0.69129036 & -0.5524401487 & -0.684555891 & -0.01161096 &  0.106638684 & -0.18670425\\\\\n",
       "\tFAP & -0.96134566 & -0.94312495 & -0.75883290 & -1.059079624 & -0.91501133 &  0.28965952 & -0.73133772 & -0.61380005 & -0.8007581 & -0.69444019 & ⋯ & -0.41713720 &  1.38226021 &  1.0316586 &  0.2679263 &  0.34866332 &  2.0209950988 &  2.494830777 & -0.77155470 &  0.003202196 &  0.04330499\\\\\n",
       "\tPDCD1 & -0.78872967 & -0.75305648 & -0.69370597 & -0.541636706 & -0.76196999 & -0.24472503 & -0.85402039 & -1.25367818 & -0.8492873 &  1.66591540 & ⋯ & -1.05094915 &  0.13578820 & -0.2588336 & -0.3915968 & -0.04125246 &  0.5937586033 &  0.895968127 & -0.71913842 & -0.201317842 & -0.28637893\\\\\n",
       "\tIGLL5 & -0.01865035 & -0.16259878 & -0.25547669 & -0.357034414 & -0.29908833 & -0.11837697 & -0.06409214 & -0.44735240 & -0.3094363 &  1.31828551 & ⋯ & -0.34895938 & -0.10397700 & -0.2907924 & -0.1554031 & -0.30442585 & -0.1926347076 & -0.488287443 & -0.47223108 & -0.416261381 & -0.44443747\\\\\n",
       "\tCD38 & -0.84129829 & -0.87473360 & -0.27779564 & -0.521512904 & -0.70008002 & -0.40948603 & -0.62399675 & -0.07174771 & -0.7836322 &  0.48126821 & ⋯ &  0.01351784 &  0.35663426 & -0.7025737 & -0.6241545 & -0.19567249 & -0.2181424252 &  0.240278837 & -0.71044037 & -0.114035412 &  0.13165661\\\\\n",
       "\tKDR & -0.53110516 & -0.59379031 &  0.05916050 & -0.251856014 & -0.55068445 &  0.09973057 & -0.25524005 &  0.13510398 & -0.5260153 & -0.86136793 & ⋯ & -0.64885023 &  1.39399954 &  3.2037574 &  1.9963238 & -0.51312356 & -0.3466695304 & -0.660650468 &  0.67878280 &  0.122995113 &  1.22556799\\\\\n",
       "\tESR1 &  0.43494242 &  0.60032784 &  0.84134356 &  1.484164959 &  2.26023014 &  1.09411177 &  1.29819853 & -0.74218518 &  0.8715053 & -1.18131004 & ⋯ & -1.65034183 &  0.40441661 & -1.1991583 & -0.9037181 & -0.18233969 & -0.3217360879 &  0.008065172 & -0.69999295 & -0.349538508 &  0.32466257\\\\\n",
       "\tPAX5 &  0.09897471 & -1.02941868 &  0.10901083 & -0.417081481 & -0.65391752 & -0.18685178 & -0.52167243 &  0.41985275 & -0.1915000 &  3.56995339 & ⋯ & -1.13036482 &  0.94327699 & -0.4916960 & -0.1334582 & -0.30679762 & -0.4563075696 & -0.875589524 & -0.38291718 &  0.024903624 &  0.57471783\\\\\n",
       "\tFOXP3 & -0.45348857 & -0.70272802 & -0.25494655 & -0.947650108 & -0.35913033 &  0.32785138 &  0.10225407 &  1.93800753 & -0.9738716 &  0.49932824 & ⋯ &  2.44458707 & -0.01500301 &  0.3276114 & -0.9343676 & -0.07388955 & -0.5309783679 & -0.883650031 &  0.42173599 & -0.967932903 & -0.87667874\\\\\n",
       "\\end{tabular}\n"
      ],
      "text/markdown": [
       "\n",
       "A matrix: 21 × 25 of type dbl\n",
       "\n",
       "| <!--/--> | C1 | C2 | C3 | C4 | C5 | C6 | C7 | C8 | C9 | C10 | ⋯ | C16 | C17 | C18 | C19 | C20 | C21 | C22 | C23 | C24 | C25 |\n",
       "|---|---|---|---|---|---|---|---|---|---|---|---|---|---|---|---|---|---|---|---|---|---|\n",
       "| VIM | -1.16287304 | -1.23676497 | -1.04436571 | -0.971685589 | -1.23356970 | -0.48497199 | -1.36093267 | -0.75972469 | -1.4771106 |  0.86711078 | ⋯ |  0.48652721 | -0.03850349 |  1.0590487 |  0.4153683 |  0.48453718 |  0.4892246962 |  1.067610104 |  0.27910088 | -0.628757293 | -0.70941473 |\n",
       "| CXCL12 |  1.12792349 |  2.34364444 |  0.25716903 |  0.481815229 |  0.33435994 | -0.35332204 | -0.11154863 | -0.60781625 | -0.4194566 | -1.42360948 | ⋯ | -1.55451675 |  1.43288340 | -0.4276006 | -0.3554901 |  0.99291290 |  1.2628867646 |  0.903067638 | -0.39873431 | -0.548004126 |  0.63284345 |\n",
       "| CD3D | -0.45033630 |  0.04987766 | -0.28310121 | -0.302265629 | -0.28267241 | -0.16232799 | -0.22755058 | -0.27646429 | -0.1585276 |  0.25726969 | ⋯ |  0.08988587 |  0.01758291 | -0.3577211 | -0.4381039 | -0.32510552 | -0.3747821664 | -0.393948938 | -0.40175386 | -0.401693025 | -0.47495285 |\n",
       "| THY1 | -0.82879127 |  0.49262122 | -0.45273142 | -0.089090972 | -0.61634012 | -0.34859122 | -0.50311393 | -0.91224036 | -0.8806093 | -0.63714725 | ⋯ | -0.51511361 |  0.10509404 | -0.4060865 |  0.5106722 |  0.76965806 |  1.8094419672 |  3.518004318 |  1.01147931 | -0.333681604 | -0.16543219 |\n",
       "| CD4 | -0.47124175 | -0.49684129 |  0.37666278 |  0.101032217 |  0.32449888 | -0.20241376 |  0.38583374 | -2.05964029 | -0.8048965 | -0.08804807 | ⋯ |  1.28816545 | -0.91076304 | -0.8784569 | -0.9234279 |  0.79153598 |  0.1325374510 | -0.266437448 | -0.45641416 |  0.419674547 | -0.29622274 |\n",
       "| KRT8 |  1.13433527 |  0.72370342 |  0.79786323 |  0.992865473 |  0.95289139 |  0.23344502 |  0.76716270 |  1.63946399 |  2.5864067 | -0.99483567 | ⋯ | -1.12237340 | -0.48862400 | -0.7605929 | -0.8467111 | -0.64998121 | -0.8730476546 | -0.844765779 | -0.22546895 |  0.821915476 |  0.12125392 |\n",
       "| FOXA1 |  0.66011191 |  1.71654228 |  0.90598322 |  0.715866537 |  0.56803938 |  0.09697198 |  0.42452350 |  2.07108957 |  2.7646294 | -0.75556183 | ⋯ | -0.80185385 | -0.36996133 | -0.7294356 | -0.6771344 | -0.63920627 | -0.7065625770 | -0.730774716 | -0.71388598 | -0.310815696 | -0.03695199 |\n",
       "| ITGAM | -0.91572360 |  0.13479612 |  0.27442861 |  0.743520724 |  0.30451987 |  0.27909025 |  0.49931165 |  0.19502094 |  0.1655299 |  0.48789247 | ⋯ |  1.89176311 | -0.40099581 | -1.3247295 | -0.8503288 | -0.77665043 | -0.8017110940 | -1.470603807 | -0.93060296 | -0.451013224 |  0.42359753 |\n",
       "| CDH1 |  1.27865592 |  1.43124442 |  0.90433654 |  1.518724887 |  1.17278188 |  0.05448144 |  0.71777792 | -0.46838136 |  0.4081852 | -0.93647537 | ⋯ | -1.12622266 | -0.38286657 | -1.0414888 | -0.8842630 | -1.13899245 | -0.6619927966 | -0.687030965 |  0.57808008 |  1.169649372 |  1.80995075 |\n",
       "| ERBB2 | -0.18388821 | -0.33857883 | -0.20092843 | -0.269796245 |  2.54174955 |  1.96430842 |  3.21134844 | -0.17211061 |  0.2921746 | -0.46944418 | ⋯ | -0.48130000 | -0.43036120 | -0.4564637 | -0.4500334 | -0.45309798 | -0.4537718331 | -0.448032108 | -0.27820781 | -0.287063579 | -0.34878046 |\n",
       "| KRT14 |  0.31403139 | -0.21019669 | -0.03935466 | -0.178554762 | -0.24809680 | -0.18283979 | -0.22927412 |  0.08309422 |  0.2663716 | -0.71788972 | ⋯ | -0.45879115 | -0.08268981 | -0.5777899 | -0.6241163 | -0.50301190 | -0.4755640905 | -0.622104013 |  3.52503740 |  0.878640526 |  2.59962283 |\n",
       "| PECAM1 |  0.01469924 | -0.77562372 | -0.30979893 | -0.721841055 |  0.68444344 |  0.49918721 |  0.19085569 | -0.78616101 | -0.4961040 | -0.64190252 | ⋯ |  0.32820206 |  0.10153341 |  3.3812843 |  1.4356741 | -0.02912740 |  0.0002218746 |  0.246727796 | -0.94512063 | -0.913215156 | -0.70075801 |\n",
       "| CD8A | -0.01066588 | -0.38035709 |  0.09402939 |  0.009391301 | -0.02838924 | -0.20843620 | -0.28175778 |  0.06674302 | -0.3243837 | -0.31135645 | ⋯ | -1.02538468 |  0.23880263 | -0.1411370 | -0.4503690 | -0.69129036 | -0.5524401487 | -0.684555891 | -0.01161096 |  0.106638684 | -0.18670425 |\n",
       "| FAP | -0.96134566 | -0.94312495 | -0.75883290 | -1.059079624 | -0.91501133 |  0.28965952 | -0.73133772 | -0.61380005 | -0.8007581 | -0.69444019 | ⋯ | -0.41713720 |  1.38226021 |  1.0316586 |  0.2679263 |  0.34866332 |  2.0209950988 |  2.494830777 | -0.77155470 |  0.003202196 |  0.04330499 |\n",
       "| PDCD1 | -0.78872967 | -0.75305648 | -0.69370597 | -0.541636706 | -0.76196999 | -0.24472503 | -0.85402039 | -1.25367818 | -0.8492873 |  1.66591540 | ⋯ | -1.05094915 |  0.13578820 | -0.2588336 | -0.3915968 | -0.04125246 |  0.5937586033 |  0.895968127 | -0.71913842 | -0.201317842 | -0.28637893 |\n",
       "| IGLL5 | -0.01865035 | -0.16259878 | -0.25547669 | -0.357034414 | -0.29908833 | -0.11837697 | -0.06409214 | -0.44735240 | -0.3094363 |  1.31828551 | ⋯ | -0.34895938 | -0.10397700 | -0.2907924 | -0.1554031 | -0.30442585 | -0.1926347076 | -0.488287443 | -0.47223108 | -0.416261381 | -0.44443747 |\n",
       "| CD38 | -0.84129829 | -0.87473360 | -0.27779564 | -0.521512904 | -0.70008002 | -0.40948603 | -0.62399675 | -0.07174771 | -0.7836322 |  0.48126821 | ⋯ |  0.01351784 |  0.35663426 | -0.7025737 | -0.6241545 | -0.19567249 | -0.2181424252 |  0.240278837 | -0.71044037 | -0.114035412 |  0.13165661 |\n",
       "| KDR | -0.53110516 | -0.59379031 |  0.05916050 | -0.251856014 | -0.55068445 |  0.09973057 | -0.25524005 |  0.13510398 | -0.5260153 | -0.86136793 | ⋯ | -0.64885023 |  1.39399954 |  3.2037574 |  1.9963238 | -0.51312356 | -0.3466695304 | -0.660650468 |  0.67878280 |  0.122995113 |  1.22556799 |\n",
       "| ESR1 |  0.43494242 |  0.60032784 |  0.84134356 |  1.484164959 |  2.26023014 |  1.09411177 |  1.29819853 | -0.74218518 |  0.8715053 | -1.18131004 | ⋯ | -1.65034183 |  0.40441661 | -1.1991583 | -0.9037181 | -0.18233969 | -0.3217360879 |  0.008065172 | -0.69999295 | -0.349538508 |  0.32466257 |\n",
       "| PAX5 |  0.09897471 | -1.02941868 |  0.10901083 | -0.417081481 | -0.65391752 | -0.18685178 | -0.52167243 |  0.41985275 | -0.1915000 |  3.56995339 | ⋯ | -1.13036482 |  0.94327699 | -0.4916960 | -0.1334582 | -0.30679762 | -0.4563075696 | -0.875589524 | -0.38291718 |  0.024903624 |  0.57471783 |\n",
       "| FOXP3 | -0.45348857 | -0.70272802 | -0.25494655 | -0.947650108 | -0.35913033 |  0.32785138 |  0.10225407 |  1.93800753 | -0.9738716 |  0.49932824 | ⋯ |  2.44458707 | -0.01500301 |  0.3276114 | -0.9343676 | -0.07388955 | -0.5309783679 | -0.883650031 |  0.42173599 | -0.967932903 | -0.87667874 |\n",
       "\n"
      ],
      "text/plain": [
       "       C1          C2          C3          C4           C5          C6         \n",
       "VIM    -1.16287304 -1.23676497 -1.04436571 -0.971685589 -1.23356970 -0.48497199\n",
       "CXCL12  1.12792349  2.34364444  0.25716903  0.481815229  0.33435994 -0.35332204\n",
       "CD3D   -0.45033630  0.04987766 -0.28310121 -0.302265629 -0.28267241 -0.16232799\n",
       "THY1   -0.82879127  0.49262122 -0.45273142 -0.089090972 -0.61634012 -0.34859122\n",
       "CD4    -0.47124175 -0.49684129  0.37666278  0.101032217  0.32449888 -0.20241376\n",
       "KRT8    1.13433527  0.72370342  0.79786323  0.992865473  0.95289139  0.23344502\n",
       "FOXA1   0.66011191  1.71654228  0.90598322  0.715866537  0.56803938  0.09697198\n",
       "ITGAM  -0.91572360  0.13479612  0.27442861  0.743520724  0.30451987  0.27909025\n",
       "CDH1    1.27865592  1.43124442  0.90433654  1.518724887  1.17278188  0.05448144\n",
       "ERBB2  -0.18388821 -0.33857883 -0.20092843 -0.269796245  2.54174955  1.96430842\n",
       "KRT14   0.31403139 -0.21019669 -0.03935466 -0.178554762 -0.24809680 -0.18283979\n",
       "PECAM1  0.01469924 -0.77562372 -0.30979893 -0.721841055  0.68444344  0.49918721\n",
       "CD8A   -0.01066588 -0.38035709  0.09402939  0.009391301 -0.02838924 -0.20843620\n",
       "FAP    -0.96134566 -0.94312495 -0.75883290 -1.059079624 -0.91501133  0.28965952\n",
       "PDCD1  -0.78872967 -0.75305648 -0.69370597 -0.541636706 -0.76196999 -0.24472503\n",
       "IGLL5  -0.01865035 -0.16259878 -0.25547669 -0.357034414 -0.29908833 -0.11837697\n",
       "CD38   -0.84129829 -0.87473360 -0.27779564 -0.521512904 -0.70008002 -0.40948603\n",
       "KDR    -0.53110516 -0.59379031  0.05916050 -0.251856014 -0.55068445  0.09973057\n",
       "ESR1    0.43494242  0.60032784  0.84134356  1.484164959  2.26023014  1.09411177\n",
       "PAX5    0.09897471 -1.02941868  0.10901083 -0.417081481 -0.65391752 -0.18685178\n",
       "FOXP3  -0.45348857 -0.70272802 -0.25494655 -0.947650108 -0.35913033  0.32785138\n",
       "       C7          C8          C9         C10         ⋯ C16         C17        \n",
       "VIM    -1.36093267 -0.75972469 -1.4771106  0.86711078 ⋯  0.48652721 -0.03850349\n",
       "CXCL12 -0.11154863 -0.60781625 -0.4194566 -1.42360948 ⋯ -1.55451675  1.43288340\n",
       "CD3D   -0.22755058 -0.27646429 -0.1585276  0.25726969 ⋯  0.08988587  0.01758291\n",
       "THY1   -0.50311393 -0.91224036 -0.8806093 -0.63714725 ⋯ -0.51511361  0.10509404\n",
       "CD4     0.38583374 -2.05964029 -0.8048965 -0.08804807 ⋯  1.28816545 -0.91076304\n",
       "KRT8    0.76716270  1.63946399  2.5864067 -0.99483567 ⋯ -1.12237340 -0.48862400\n",
       "FOXA1   0.42452350  2.07108957  2.7646294 -0.75556183 ⋯ -0.80185385 -0.36996133\n",
       "ITGAM   0.49931165  0.19502094  0.1655299  0.48789247 ⋯  1.89176311 -0.40099581\n",
       "CDH1    0.71777792 -0.46838136  0.4081852 -0.93647537 ⋯ -1.12622266 -0.38286657\n",
       "ERBB2   3.21134844 -0.17211061  0.2921746 -0.46944418 ⋯ -0.48130000 -0.43036120\n",
       "KRT14  -0.22927412  0.08309422  0.2663716 -0.71788972 ⋯ -0.45879115 -0.08268981\n",
       "PECAM1  0.19085569 -0.78616101 -0.4961040 -0.64190252 ⋯  0.32820206  0.10153341\n",
       "CD8A   -0.28175778  0.06674302 -0.3243837 -0.31135645 ⋯ -1.02538468  0.23880263\n",
       "FAP    -0.73133772 -0.61380005 -0.8007581 -0.69444019 ⋯ -0.41713720  1.38226021\n",
       "PDCD1  -0.85402039 -1.25367818 -0.8492873  1.66591540 ⋯ -1.05094915  0.13578820\n",
       "IGLL5  -0.06409214 -0.44735240 -0.3094363  1.31828551 ⋯ -0.34895938 -0.10397700\n",
       "CD38   -0.62399675 -0.07174771 -0.7836322  0.48126821 ⋯  0.01351784  0.35663426\n",
       "KDR    -0.25524005  0.13510398 -0.5260153 -0.86136793 ⋯ -0.64885023  1.39399954\n",
       "ESR1    1.29819853 -0.74218518  0.8715053 -1.18131004 ⋯ -1.65034183  0.40441661\n",
       "PAX5   -0.52167243  0.41985275 -0.1915000  3.56995339 ⋯ -1.13036482  0.94327699\n",
       "FOXP3   0.10225407  1.93800753 -0.9738716  0.49932824 ⋯  2.44458707 -0.01500301\n",
       "       C18        C19        C20         C21           C22          C23        \n",
       "VIM     1.0590487  0.4153683  0.48453718  0.4892246962  1.067610104  0.27910088\n",
       "CXCL12 -0.4276006 -0.3554901  0.99291290  1.2628867646  0.903067638 -0.39873431\n",
       "CD3D   -0.3577211 -0.4381039 -0.32510552 -0.3747821664 -0.393948938 -0.40175386\n",
       "THY1   -0.4060865  0.5106722  0.76965806  1.8094419672  3.518004318  1.01147931\n",
       "CD4    -0.8784569 -0.9234279  0.79153598  0.1325374510 -0.266437448 -0.45641416\n",
       "KRT8   -0.7605929 -0.8467111 -0.64998121 -0.8730476546 -0.844765779 -0.22546895\n",
       "FOXA1  -0.7294356 -0.6771344 -0.63920627 -0.7065625770 -0.730774716 -0.71388598\n",
       "ITGAM  -1.3247295 -0.8503288 -0.77665043 -0.8017110940 -1.470603807 -0.93060296\n",
       "CDH1   -1.0414888 -0.8842630 -1.13899245 -0.6619927966 -0.687030965  0.57808008\n",
       "ERBB2  -0.4564637 -0.4500334 -0.45309798 -0.4537718331 -0.448032108 -0.27820781\n",
       "KRT14  -0.5777899 -0.6241163 -0.50301190 -0.4755640905 -0.622104013  3.52503740\n",
       "PECAM1  3.3812843  1.4356741 -0.02912740  0.0002218746  0.246727796 -0.94512063\n",
       "CD8A   -0.1411370 -0.4503690 -0.69129036 -0.5524401487 -0.684555891 -0.01161096\n",
       "FAP     1.0316586  0.2679263  0.34866332  2.0209950988  2.494830777 -0.77155470\n",
       "PDCD1  -0.2588336 -0.3915968 -0.04125246  0.5937586033  0.895968127 -0.71913842\n",
       "IGLL5  -0.2907924 -0.1554031 -0.30442585 -0.1926347076 -0.488287443 -0.47223108\n",
       "CD38   -0.7025737 -0.6241545 -0.19567249 -0.2181424252  0.240278837 -0.71044037\n",
       "KDR     3.2037574  1.9963238 -0.51312356 -0.3466695304 -0.660650468  0.67878280\n",
       "ESR1   -1.1991583 -0.9037181 -0.18233969 -0.3217360879  0.008065172 -0.69999295\n",
       "PAX5   -0.4916960 -0.1334582 -0.30679762 -0.4563075696 -0.875589524 -0.38291718\n",
       "FOXP3   0.3276114 -0.9343676 -0.07388955 -0.5309783679 -0.883650031  0.42173599\n",
       "       C24          C25        \n",
       "VIM    -0.628757293 -0.70941473\n",
       "CXCL12 -0.548004126  0.63284345\n",
       "CD3D   -0.401693025 -0.47495285\n",
       "THY1   -0.333681604 -0.16543219\n",
       "CD4     0.419674547 -0.29622274\n",
       "KRT8    0.821915476  0.12125392\n",
       "FOXA1  -0.310815696 -0.03695199\n",
       "ITGAM  -0.451013224  0.42359753\n",
       "CDH1    1.169649372  1.80995075\n",
       "ERBB2  -0.287063579 -0.34878046\n",
       "KRT14   0.878640526  2.59962283\n",
       "PECAM1 -0.913215156 -0.70075801\n",
       "CD8A    0.106638684 -0.18670425\n",
       "FAP     0.003202196  0.04330499\n",
       "PDCD1  -0.201317842 -0.28637893\n",
       "IGLL5  -0.416261381 -0.44443747\n",
       "CD38   -0.114035412  0.13165661\n",
       "KDR     0.122995113  1.22556799\n",
       "ESR1   -0.349538508  0.32466257\n",
       "PAX5    0.024903624  0.57471783\n",
       "FOXP3  -0.967932903 -0.87667874"
      ]
     },
     "metadata": {},
     "output_type": "display_data"
    }
   ],
   "source": [
    "mtx"
   ]
  },
  {
   "cell_type": "code",
   "execution_count": 12,
   "metadata": {
    "vscode": {
     "languageId": "r"
    }
   },
   "outputs": [
    {
     "name": "stderr",
     "output_type": "stream",
     "text": [
      "Plotting ComplexHeatmap!\n",
      "\n"
     ]
    }
   ],
   "source": [
    "plotPDF(ht1, name = \"Mean GS z-score.pdf\", width = 8, height = 6, ArchRProj = proj, addDOC = FALSE)"
   ]
  },
  {
   "cell_type": "code",
   "execution_count": 13,
   "metadata": {
    "vscode": {
     "languageId": "r"
    }
   },
   "outputs": [
    {
     "name": "stderr",
     "output_type": "stream",
     "text": [
      "ArchR logging to : ArchRLogs/ArchR-plotBrowserTrack-3f86e022ae9ac0-Date-2025-03-05_Time-12-35-47.856915.log\n",
      "If there is an issue, please report to github with logFile!\n",
      "\n",
      "2025-03-05 12:35:47.920245 : Validating Region, 0.001 mins elapsed.\n",
      "\n"
     ]
    },
    {
     "name": "stdout",
     "output_type": "stream",
     "text": [
      "GRanges object with 20 ranges and 2 metadata columns:\n",
      "       seqnames              ranges strand |     gene_id      symbol\n",
      "          <Rle>           <IRanges>  <Rle> | <character> <character>\n",
      "   [1]     chr4   15778275-15853230      + |         952        CD38\n",
      "   [2]    chr22   22887780-22896107      + |   100423062       IGLL5\n",
      "   [3]     chr9   36833275-37034185      - |        5079        PAX5\n",
      "   [4]    chr16   31259990-31332892      + |        3684       ITGAM\n",
      "   [5]     chr2 162170684-162243535      - |        2191         FAP\n",
      "   ...      ...                 ...    ... .         ...         ...\n",
      "  [16]    chr17   39687914-39728662      + |        2064       ERBB2\n",
      "  [17]    chr14   37589984-37595110      - |        3169       FOXA1\n",
      "  [18]    chr12   52897187-52949954      - |        3856        KRT8\n",
      "  [19]     chr6 151656691-152129619      + |        2099        ESR1\n",
      "  [20]    chr17   41582279-41586921      - |        3861       KRT14\n",
      "  -------\n",
      "  seqinfo: 24 sequences from hg38 genome\n"
     ]
    },
    {
     "name": "stderr",
     "output_type": "stream",
     "text": [
      "2025-03-05 12:35:48.020538 : Adding Bulk Tracks (1 of 20), 0.003 mins elapsed.\n",
      "\n",
      "Length of unique values greater than palette, interpolating..\n",
      "\n",
      "2025-03-05 12:36:31.816106 : Adding Feature Tracks (1 of 20), 0.733 mins elapsed.\n",
      "\n",
      "2025-03-05 12:36:31.914595 : Adding Gene Tracks (1 of 20), 0.734 mins elapsed.\n",
      "\n",
      "2025-03-05 12:36:32.618041 : Plotting, 0.746 mins elapsed.\n",
      "\n",
      "2025-03-05 12:36:34.807485 : Adding Bulk Tracks (2 of 20), 0.783 mins elapsed.\n",
      "\n",
      "Length of unique values greater than palette, interpolating..\n",
      "\n",
      "2025-03-05 12:36:40.067309 : Adding Feature Tracks (2 of 20), 0.87 mins elapsed.\n",
      "\n",
      "2025-03-05 12:36:40.134408 : Adding Gene Tracks (2 of 20), 0.871 mins elapsed.\n",
      "\n",
      "2025-03-05 12:36:40.427466 : Plotting, 0.876 mins elapsed.\n",
      "\n",
      "2025-03-05 12:36:42.577117 : Adding Bulk Tracks (3 of 20), 0.912 mins elapsed.\n",
      "\n",
      "Length of unique values greater than palette, interpolating..\n",
      "\n",
      "2025-03-05 12:37:21.898414 : Adding Feature Tracks (3 of 20), 1.567 mins elapsed.\n",
      "\n",
      "2025-03-05 12:37:21.973815 : Adding Gene Tracks (3 of 20), 1.569 mins elapsed.\n",
      "\n",
      "2025-03-05 12:37:22.389388 : Plotting, 1.576 mins elapsed.\n",
      "\n",
      "2025-03-05 12:37:24.951238 : Adding Bulk Tracks (4 of 20), 1.618 mins elapsed.\n",
      "\n",
      "Length of unique values greater than palette, interpolating..\n",
      "\n",
      "2025-03-05 12:38:04.166458 : Adding Feature Tracks (4 of 20), 2.272 mins elapsed.\n",
      "\n",
      "2025-03-05 12:38:04.237413 : Adding Gene Tracks (4 of 20), 2.273 mins elapsed.\n",
      "\n",
      "2025-03-05 12:38:06.91436 : Plotting, 2.318 mins elapsed.\n",
      "\n",
      "2025-03-05 12:38:09.339032 : Adding Bulk Tracks (5 of 20), 2.358 mins elapsed.\n",
      "\n",
      "Length of unique values greater than palette, interpolating..\n",
      "\n",
      "2025-03-05 12:38:49.642666 : Adding Feature Tracks (5 of 20), 3.03 mins elapsed.\n",
      "\n",
      "2025-03-05 12:38:49.714316 : Adding Gene Tracks (5 of 20), 3.031 mins elapsed.\n",
      "\n",
      "2025-03-05 12:38:50.031287 : Plotting, 3.036 mins elapsed.\n",
      "\n",
      "2025-03-05 12:38:52.069674 : Adding Bulk Tracks (6 of 20), 3.07 mins elapsed.\n",
      "\n",
      "Length of unique values greater than palette, interpolating..\n",
      "\n",
      "2025-03-05 12:39:33.75016 : Adding Feature Tracks (6 of 20), 3.765 mins elapsed.\n",
      "\n",
      "2025-03-05 12:39:35.050213 : Adding Gene Tracks (6 of 20), 3.787 mins elapsed.\n",
      "\n",
      "2025-03-05 12:39:35.409007 : Plotting, 3.793 mins elapsed.\n",
      "\n",
      "2025-03-05 12:39:37.994467 : Adding Bulk Tracks (7 of 20), 3.836 mins elapsed.\n",
      "\n",
      "Length of unique values greater than palette, interpolating..\n",
      "\n",
      "2025-03-05 12:39:59.127032 : Adding Feature Tracks (7 of 20), 4.188 mins elapsed.\n",
      "\n",
      "2025-03-05 12:39:59.264949 : Adding Gene Tracks (7 of 20), 4.19 mins elapsed.\n",
      "\n",
      "2025-03-05 12:39:59.532596 : Plotting, 4.195 mins elapsed.\n",
      "\n",
      "2025-03-05 12:40:01.840836 : Adding Bulk Tracks (8 of 20), 4.233 mins elapsed.\n",
      "\n",
      "Length of unique values greater than palette, interpolating..\n",
      "\n",
      "2025-03-05 12:40:07.208202 : Adding Feature Tracks (8 of 20), 4.323 mins elapsed.\n",
      "\n",
      "2025-03-05 12:40:07.285254 : Adding Gene Tracks (8 of 20), 4.324 mins elapsed.\n",
      "\n",
      "2025-03-05 12:40:07.686624 : Plotting, 4.331 mins elapsed.\n",
      "\n",
      "2025-03-05 12:40:11.767374 : Adding Bulk Tracks (9 of 20), 4.399 mins elapsed.\n",
      "\n",
      "Length of unique values greater than palette, interpolating..\n",
      "\n",
      "2025-03-05 12:40:17.071131 : Adding Feature Tracks (9 of 20), 4.487 mins elapsed.\n",
      "\n",
      "2025-03-05 12:40:18.591964 : Adding Gene Tracks (9 of 20), 4.512 mins elapsed.\n",
      "\n",
      "2025-03-05 12:40:18.895045 : Plotting, 4.517 mins elapsed.\n",
      "\n",
      "2025-03-05 12:40:21.257212 : Adding Bulk Tracks (10 of 20), 4.557 mins elapsed.\n",
      "\n",
      "Length of unique values greater than palette, interpolating..\n",
      "\n",
      "2025-03-05 12:40:33.340394 : Adding Feature Tracks (10 of 20), 4.758 mins elapsed.\n",
      "\n",
      "2025-03-05 12:40:33.415284 : Adding Gene Tracks (10 of 20), 4.759 mins elapsed.\n",
      "\n",
      "2025-03-05 12:40:33.728225 : Plotting, 4.765 mins elapsed.\n",
      "\n",
      "2025-03-05 12:40:36.062858 : Adding Bulk Tracks (11 of 20), 4.803 mins elapsed.\n",
      "\n",
      "Length of unique values greater than palette, interpolating..\n",
      "\n",
      "2025-03-05 12:40:50.737132 : Adding Feature Tracks (11 of 20), 5.048 mins elapsed.\n",
      "\n",
      "2025-03-05 12:40:50.809161 : Adding Gene Tracks (11 of 20), 5.049 mins elapsed.\n",
      "\n",
      "2025-03-05 12:40:51.614414 : Plotting, 5.063 mins elapsed.\n",
      "\n",
      "2025-03-05 12:40:54.278869 : Adding Bulk Tracks (12 of 20), 5.107 mins elapsed.\n",
      "\n",
      "Length of unique values greater than palette, interpolating..\n",
      "\n",
      "2025-03-05 12:40:59.335666 : Adding Feature Tracks (12 of 20), 5.191 mins elapsed.\n",
      "\n",
      "2025-03-05 12:41:00.807324 : Adding Gene Tracks (12 of 20), 5.216 mins elapsed.\n",
      "\n",
      "2025-03-05 12:41:01.110823 : Plotting, 5.221 mins elapsed.\n",
      "\n",
      "2025-03-05 12:41:03.546175 : Adding Bulk Tracks (13 of 20), 5.261 mins elapsed.\n",
      "\n",
      "Length of unique values greater than palette, interpolating..\n",
      "\n",
      "2025-03-05 12:41:08.068216 : Adding Feature Tracks (13 of 20), 5.337 mins elapsed.\n",
      "\n",
      "2025-03-05 12:41:08.141005 : Adding Gene Tracks (13 of 20), 5.338 mins elapsed.\n",
      "\n",
      "2025-03-05 12:41:08.449111 : Plotting, 5.343 mins elapsed.\n",
      "\n",
      "2025-03-05 12:41:10.792715 : Adding Bulk Tracks (14 of 20), 5.382 mins elapsed.\n",
      "\n",
      "Length of unique values greater than palette, interpolating..\n",
      "\n",
      "2025-03-05 12:41:46.54261 : Adding Feature Tracks (14 of 20), 5.978 mins elapsed.\n",
      "\n",
      "2025-03-05 12:41:46.635503 : Adding Gene Tracks (14 of 20), 5.98 mins elapsed.\n",
      "\n",
      "2025-03-05 12:41:47.028605 : Plotting, 5.986 mins elapsed.\n",
      "\n",
      "2025-03-05 12:41:50.596244 : Adding Bulk Tracks (15 of 20), 6.046 mins elapsed.\n",
      "\n",
      "Length of unique values greater than palette, interpolating..\n",
      "\n",
      "2025-03-05 12:41:54.356764 : Adding Feature Tracks (15 of 20), 6.108 mins elapsed.\n",
      "\n",
      "2025-03-05 12:41:54.419449 : Adding Gene Tracks (15 of 20), 6.109 mins elapsed.\n",
      "\n",
      "2025-03-05 12:41:54.68866 : Plotting, 6.114 mins elapsed.\n",
      "\n",
      "2025-03-05 12:41:56.528707 : Adding Bulk Tracks (16 of 20), 6.145 mins elapsed.\n",
      "\n",
      "Length of unique values greater than palette, interpolating..\n",
      "\n",
      "2025-03-05 12:42:01.216467 : Adding Feature Tracks (16 of 20), 6.223 mins elapsed.\n",
      "\n",
      "2025-03-05 12:42:01.296571 : Adding Gene Tracks (16 of 20), 6.224 mins elapsed.\n",
      "\n",
      "2025-03-05 12:42:01.608188 : Plotting, 6.229 mins elapsed.\n",
      "\n",
      "2025-03-05 12:42:04.609095 : Adding Bulk Tracks (17 of 20), 6.279 mins elapsed.\n",
      "\n",
      "Length of unique values greater than palette, interpolating..\n",
      "\n",
      "2025-03-05 12:42:16.42462 : Adding Feature Tracks (17 of 20), 6.476 mins elapsed.\n",
      "\n",
      "2025-03-05 12:42:16.507183 : Adding Gene Tracks (17 of 20), 6.478 mins elapsed.\n",
      "\n",
      "2025-03-05 12:42:16.823075 : Plotting, 6.483 mins elapsed.\n",
      "\n",
      "2025-03-05 12:42:19.219094 : Adding Bulk Tracks (18 of 20), 6.523 mins elapsed.\n",
      "\n",
      "Length of unique values greater than palette, interpolating..\n",
      "\n",
      "2025-03-05 12:42:23.23888 : Adding Feature Tracks (18 of 20), 6.59 mins elapsed.\n",
      "\n",
      "2025-03-05 12:42:23.307232 : Adding Gene Tracks (18 of 20), 6.591 mins elapsed.\n",
      "\n",
      "2025-03-05 12:42:23.597811 : Plotting, 6.596 mins elapsed.\n",
      "\n",
      "2025-03-05 12:42:26.228835 : Adding Bulk Tracks (19 of 20), 6.64 mins elapsed.\n",
      "\n",
      "Length of unique values greater than palette, interpolating..\n",
      "\n",
      "2025-03-05 12:42:49.020075 : Adding Feature Tracks (19 of 20), 7.019 mins elapsed.\n",
      "\n",
      "2025-03-05 12:42:49.09865 : Adding Gene Tracks (19 of 20), 7.021 mins elapsed.\n",
      "\n",
      "2025-03-05 12:42:49.442502 : Plotting, 7.026 mins elapsed.\n",
      "\n",
      "2025-03-05 12:42:51.809182 : Adding Bulk Tracks (20 of 20), 7.066 mins elapsed.\n",
      "\n",
      "Length of unique values greater than palette, interpolating..\n",
      "\n",
      "2025-03-05 12:42:54.320588 : Adding Feature Tracks (20 of 20), 7.108 mins elapsed.\n",
      "\n",
      "2025-03-05 12:42:54.392886 : Adding Gene Tracks (20 of 20), 7.109 mins elapsed.\n",
      "\n",
      "2025-03-05 12:42:54.701529 : Plotting, 7.114 mins elapsed.\n",
      "\n",
      "ArchR logging successful to : ArchRLogs/ArchR-plotBrowserTrack-3f86e022ae9ac0-Date-2025-03-05_Time-12-35-47.856915.log\n",
      "\n",
      "Plotting Gtable!\n",
      "\n"
     ]
    },
    {
     "name": "stdout",
     "output_type": "stream",
     "text": [
      "NULL\n",
      "_msg_send errno: 4 strerror: Interrupted system call\n"
     ]
    },
    {
     "name": "stderr",
     "output_type": "stream",
     "text": [
      "Plotting Gtable!\n",
      "\n",
      "Plotting Gtable!\n",
      "\n",
      "Plotting Gtable!\n",
      "\n",
      "Plotting Gtable!\n",
      "\n",
      "Plotting Gtable!\n",
      "\n",
      "Plotting Gtable!\n",
      "\n",
      "Plotting Gtable!\n",
      "\n",
      "Plotting Gtable!\n",
      "\n",
      "Plotting Gtable!\n",
      "\n",
      "Plotting Gtable!\n",
      "\n",
      "Plotting Gtable!\n",
      "\n"
     ]
    },
    {
     "name": "stdout",
     "output_type": "stream",
     "text": [
      "L\n"
     ]
    },
    {
     "name": "stderr",
     "output_type": "stream",
     "text": [
      "Plotting Gtable!\n",
      "\n"
     ]
    },
    {
     "name": "stdout",
     "output_type": "stream",
     "text": [
      "NULL\n"
     ]
    },
    {
     "name": "stderr",
     "output_type": "stream",
     "text": [
      "Plotting Gtable!\n",
      "\n"
     ]
    },
    {
     "name": "stdout",
     "output_type": "stream",
     "text": [
      "NULL\n"
     ]
    },
    {
     "name": "stderr",
     "output_type": "stream",
     "text": [
      "Plotting Gtable!\n",
      "\n"
     ]
    },
    {
     "name": "stdout",
     "output_type": "stream",
     "text": [
      "NULL\n"
     ]
    },
    {
     "name": "stderr",
     "output_type": "stream",
     "text": [
      "Plotting Gtable!\n",
      "\n"
     ]
    },
    {
     "name": "stdout",
     "output_type": "stream",
     "text": [
      "NULL\n"
     ]
    },
    {
     "name": "stderr",
     "output_type": "stream",
     "text": [
      "Plotting Gtable!\n",
      "\n"
     ]
    },
    {
     "name": "stdout",
     "output_type": "stream",
     "text": [
      "NULL\n"
     ]
    },
    {
     "name": "stderr",
     "output_type": "stream",
     "text": [
      "Plotting Gtable!\n",
      "\n"
     ]
    },
    {
     "name": "stdout",
     "output_type": "stream",
     "text": [
      "NULL\n"
     ]
    },
    {
     "name": "stderr",
     "output_type": "stream",
     "text": [
      "Plotting Gtable!\n",
      "\n"
     ]
    },
    {
     "name": "stdout",
     "output_type": "stream",
     "text": [
      "NULL\n"
     ]
    },
    {
     "name": "stderr",
     "output_type": "stream",
     "text": [
      "Plotting Gtable!\n",
      "\n"
     ]
    },
    {
     "name": "stdout",
     "output_type": "stream",
     "text": [
      "NULL\n"
     ]
    }
   ],
   "source": [
    "# scATAC signal tracks\n",
    "p <- plotBrowserTrack(\n",
    "    ArchRProj = proj,\n",
    "    groupBy = \"Clusters\",\n",
    "    geneSymbol = markerGenes,\n",
    "    upstream = 50000,\n",
    "    downstream = 50000\n",
    ")\n",
    "plotPDF(\n",
    "    plotList = p, \n",
    "    name = \"Plot-Tracks-Marker-Genes_01.pdf\", \n",
    "    ArchRProj = proj, \n",
    "    addDOC = FALSE, width = 5, height = 5\n",
    ")"
   ]
  },
  {
   "cell_type": "code",
   "execution_count": null,
   "metadata": {
    "vscode": {
     "languageId": "r"
    }
   },
   "outputs": [
    {
     "name": "stderr",
     "output_type": "stream",
     "text": [
      "ArchR logging to : ArchRLogs/ArchR-plotBrowserTrack-1196a264839490-Date-2024-07-04_Time-07-57-55.779588.log\n",
      "If there is an issue, please report to github with logFile!\n",
      "\n",
      "2024-07-04 07:57:55.86018 : Validating Region, 0.001 mins elapsed.\n",
      "\n"
     ]
    },
    {
     "name": "stdout",
     "output_type": "stream",
     "text": [
      "GRanges object with 9 ranges and 2 metadata columns:\n",
      "      seqnames              ranges strand |     gene_id      symbol\n",
      "         <Rle>           <IRanges>  <Rle> | <character> <character>\n",
      "  [1]     chr2   47345158-47387601      + |        4072       EPCAM\n",
      "  [2]    chr10   17228259-17237593      + |        7431         VIM\n",
      "  [3]    chr12   52948871-52952901      + |        3875       KRT18\n",
      "  [4]     chr5 180601506-180649624      - |        2324        FLT4\n",
      "  [5]    chr11 119417378-119424985      - |        7070        THY1\n",
      "  [6]    chr11 118338954-118342744      - |         915        CD3D\n",
      "  [7]     chr9   36833275-37034185      - |        5079        PAX5\n",
      "  [8]    chr22   22887780-22896107      + |   100423062       IGLL5\n",
      "  [9]    chr16   31355134-31382997      + |        3687       ITGAX\n",
      "  -------\n",
      "  seqinfo: 24 sequences from hg38 genome\n"
     ]
    },
    {
     "name": "stderr",
     "output_type": "stream",
     "text": [
      "2024-07-04 07:57:55.974653 : Adding Bulk Tracks (1 of 9), 0.003 mins elapsed.\n",
      "\n",
      "Length of unique values greater than palette, interpolating..\n",
      "\n",
      "2024-07-04 07:57:59.099376 : Adding Gene Tracks (1 of 9), 0.055 mins elapsed.\n",
      "\n",
      "2024-07-04 07:57:59.693769 : Plotting, 0.065 mins elapsed.\n",
      "\n",
      "2024-07-04 07:58:01.757672 : Adding Bulk Tracks (2 of 9), 0.1 mins elapsed.\n",
      "\n",
      "Length of unique values greater than palette, interpolating..\n",
      "\n",
      "2024-07-04 07:58:04.070955 : Adding Gene Tracks (2 of 9), 0.138 mins elapsed.\n",
      "\n",
      "2024-07-04 07:58:04.639509 : Plotting, 0.148 mins elapsed.\n",
      "\n",
      "2024-07-04 07:58:06.871437 : Adding Bulk Tracks (3 of 9), 0.185 mins elapsed.\n",
      "\n",
      "Length of unique values greater than palette, interpolating..\n",
      "\n",
      "2024-07-04 07:58:09.248578 : Adding Gene Tracks (3 of 9), 0.224 mins elapsed.\n",
      "\n",
      "2024-07-04 07:58:09.829644 : Plotting, 0.234 mins elapsed.\n",
      "\n",
      "2024-07-04 07:58:11.871835 : Adding Bulk Tracks (4 of 9), 0.268 mins elapsed.\n",
      "\n",
      "Length of unique values greater than palette, interpolating..\n",
      "\n",
      "2024-07-04 07:58:14.322366 : Adding Gene Tracks (4 of 9), 0.309 mins elapsed.\n",
      "\n",
      "2024-07-04 07:58:14.8871 : Plotting, 0.318 mins elapsed.\n",
      "\n",
      "2024-07-04 07:58:16.943711 : Adding Bulk Tracks (5 of 9), 0.353 mins elapsed.\n",
      "\n",
      "Length of unique values greater than palette, interpolating..\n",
      "\n",
      "2024-07-04 07:58:19.616333 : Adding Gene Tracks (5 of 9), 0.397 mins elapsed.\n",
      "\n",
      "2024-07-04 07:58:20.155221 : Plotting, 0.406 mins elapsed.\n",
      "\n",
      "2024-07-04 07:58:22.246118 : Adding Bulk Tracks (6 of 9), 0.441 mins elapsed.\n",
      "\n",
      "Length of unique values greater than palette, interpolating..\n",
      "\n",
      "2024-07-04 07:58:24.826315 : Adding Gene Tracks (6 of 9), 0.484 mins elapsed.\n",
      "\n",
      "2024-07-04 07:58:25.41418 : Plotting, 0.494 mins elapsed.\n",
      "\n",
      "2024-07-04 07:58:27.576509 : Adding Bulk Tracks (7 of 9), 0.53 mins elapsed.\n",
      "\n",
      "Length of unique values greater than palette, interpolating..\n",
      "\n",
      "2024-07-04 07:58:29.910258 : Adding Gene Tracks (7 of 9), 0.569 mins elapsed.\n",
      "\n",
      "2024-07-04 07:58:30.503297 : Plotting, 0.579 mins elapsed.\n",
      "\n",
      "2024-07-04 07:58:32.706353 : Adding Bulk Tracks (8 of 9), 0.615 mins elapsed.\n",
      "\n",
      "Length of unique values greater than palette, interpolating..\n",
      "\n",
      "2024-07-04 07:58:34.339705 : Adding Gene Tracks (8 of 9), 0.643 mins elapsed.\n",
      "\n",
      "2024-07-04 07:58:35.086588 : Plotting, 0.655 mins elapsed.\n",
      "\n",
      "2024-07-04 07:58:37.027243 : Adding Bulk Tracks (9 of 9), 0.687 mins elapsed.\n",
      "\n",
      "Length of unique values greater than palette, interpolating..\n",
      "\n",
      "2024-07-04 07:58:39.434655 : Adding Gene Tracks (9 of 9), 0.728 mins elapsed.\n",
      "\n",
      "2024-07-04 07:58:39.978544 : Plotting, 0.737 mins elapsed.\n",
      "\n",
      "ArchR logging successful to : ArchRLogs/ArchR-plotBrowserTrack-1196a264839490-Date-2024-07-04_Time-07-57-55.779588.log\n",
      "\n",
      "Plotting Gtable!\n",
      "\n"
     ]
    },
    {
     "name": "stdout",
     "output_type": "stream",
     "text": [
      "NULL\n"
     ]
    },
    {
     "name": "stderr",
     "output_type": "stream",
     "text": [
      "Plotting Gtable!\n",
      "\n"
     ]
    },
    {
     "name": "stdout",
     "output_type": "stream",
     "text": [
      "NULL\n"
     ]
    },
    {
     "name": "stderr",
     "output_type": "stream",
     "text": [
      "Plotting Gtable!\n",
      "\n"
     ]
    },
    {
     "name": "stdout",
     "output_type": "stream",
     "text": [
      "NULL\n"
     ]
    },
    {
     "name": "stderr",
     "output_type": "stream",
     "text": [
      "Plotting Gtable!\n",
      "\n"
     ]
    },
    {
     "name": "stdout",
     "output_type": "stream",
     "text": [
      "NULL\n"
     ]
    },
    {
     "name": "stderr",
     "output_type": "stream",
     "text": [
      "Plotting Gtable!\n",
      "\n"
     ]
    },
    {
     "name": "stdout",
     "output_type": "stream",
     "text": [
      "NULL\n"
     ]
    },
    {
     "name": "stderr",
     "output_type": "stream",
     "text": [
      "Plotting Gtable!\n",
      "\n"
     ]
    },
    {
     "name": "stdout",
     "output_type": "stream",
     "text": [
      "NULL\n"
     ]
    },
    {
     "name": "stderr",
     "output_type": "stream",
     "text": [
      "Plotting Gtable!\n",
      "\n"
     ]
    },
    {
     "name": "stdout",
     "output_type": "stream",
     "text": [
      "NULL\n"
     ]
    },
    {
     "name": "stderr",
     "output_type": "stream",
     "text": [
      "Plotting Gtable!\n",
      "\n"
     ]
    },
    {
     "name": "stdout",
     "output_type": "stream",
     "text": [
      "NULL\n"
     ]
    },
    {
     "name": "stderr",
     "output_type": "stream",
     "text": [
      "Plotting Gtable!\n",
      "\n"
     ]
    },
    {
     "name": "stdout",
     "output_type": "stream",
     "text": [
      "NULL\n"
     ]
    }
   ],
   "source": [
    "p4 <- plotBrowserTrack(\n",
    "    ArchRProj = proj, \n",
    "    groupBy = \"Clusters\", \n",
    "    geneSymbol = c(\"EPCAM\",\"VIM\",\"KRT18\",\"FLT4\",\"THY1\",\"CD3D\",\"PAX5\",\"IGLL5\",\"ITGAX\"), \n",
    "    upstream = 10000, # 10kb\n",
    "    downstream = 10000, # 10kb\n",
    "    plotSummary = c(\"bulkTrack\",\"geneTrack\")\n",
    ")\n",
    "plotPDF(\n",
    "    p4,\n",
    "    name = \"Plot-Tracks-Marker-Genes_02.pdf\", \n",
    "    ArchRProj = proj, \n",
    "    addDOC = FALSE, \n",
    "    width = 7, \n",
    "    height = 10\n",
    "    )"
   ]
  }
 ],
 "metadata": {
  "kernelspec": {
   "display_name": "R",
   "language": "R",
   "name": "ir"
  },
  "language_info": {
   "codemirror_mode": "r",
   "file_extension": ".r",
   "mimetype": "text/x-r-source",
   "name": "R",
   "pygments_lexer": "r",
   "version": "4.4.1"
  }
 },
 "nbformat": 4,
 "nbformat_minor": 2
}
