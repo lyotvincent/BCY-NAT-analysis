{
 "cells": [
  {
   "cell_type": "code",
   "execution_count": 1,
   "metadata": {
    "vscode": {
     "languageId": "r"
    }
   },
   "outputs": [
    {
     "name": "stderr",
     "output_type": "stream",
     "text": [
      "Warning message in scan(file = file, what = what, sep = sep, quote = quote, dec = dec, :\n",
      "“number of items read is not a multiple of the number of columns”\n",
      "Warning message in scan(file = file, what = what, sep = sep, quote = quote, dec = dec, :\n",
      "“EOF within quoted string”\n",
      "Warning message in scan(file = file, what = what, sep = sep, quote = quote, dec = dec, :\n",
      "“number of items read is not a multiple of the number of columns”\n"
     ]
    }
   ],
   "source": [
    "# 读取标准化计数数据\n",
    "log2norm_counts <- read.table(\"/data/hanxue/BCY_ATAC/TCGA/TCGA-ATAC_PanCan_Log2Norm_Counts.txt\", header = TRUE, sep = \"\\t\")\n",
    "\n",
    "# 读取峰集数据\n",
    "peak_set <- read.table(\"/data/hanxue/BCY_ATAC/TCGA/TCGA-ATAC_PanCancer_PeakSet.txt\", header = TRUE, sep = \"\\t\")\n"
   ]
  },
  {
   "cell_type": "code",
   "execution_count": 2,
   "metadata": {
    "vscode": {
     "languageId": "r"
    }
   },
   "outputs": [
    {
     "data": {
      "text/html": [
       "<table class=\"dataframe\">\n",
       "<caption>A data.frame: 6 × 7</caption>\n",
       "<thead>\n",
       "\t<tr><th></th><th scope=col>seqnames</th><th scope=col>start</th><th scope=col>end</th><th scope=col>name</th><th scope=col>score</th><th scope=col>annotation</th><th scope=col>percentGC</th></tr>\n",
       "\t<tr><th></th><th scope=col>&lt;chr&gt;</th><th scope=col>&lt;int&gt;</th><th scope=col>&lt;int&gt;</th><th scope=col>&lt;chr&gt;</th><th scope=col>&lt;dbl&gt;</th><th scope=col>&lt;chr&gt;</th><th scope=col>&lt;dbl&gt;</th></tr>\n",
       "</thead>\n",
       "<tbody>\n",
       "\t<tr><th scope=row>1</th><td>chr1</td><td>   906012</td><td>   906513</td><td>ACC_10   </td><td> 7.171193</td><td>Intron  </td><td>0.6127745</td></tr>\n",
       "\t<tr><th scope=row>2</th><td>chr2</td><td>112541661</td><td>112542162</td><td>ACC_10008</td><td>22.030579</td><td>Promoter</td><td>0.5548902</td></tr>\n",
       "\t<tr><th scope=row>3</th><td>chr1</td><td> 21673421</td><td> 21673922</td><td>ACC_1001 </td><td> 6.459954</td><td>Distal  </td><td>0.5089820</td></tr>\n",
       "\t<tr><th scope=row>4</th><td>chr2</td><td>112584205</td><td>112584706</td><td>ACC_10013</td><td>43.208555</td><td>Promoter</td><td>0.5868263</td></tr>\n",
       "\t<tr><th scope=row>5</th><td>chr2</td><td>112596243</td><td>112596744</td><td>ACC_10016</td><td> 5.428209</td><td>Intron  </td><td>0.4910180</td></tr>\n",
       "\t<tr><th scope=row>6</th><td>chr1</td><td> 21725692</td><td> 21726193</td><td>ACC_1002 </td><td> 5.201273</td><td>Intron  </td><td>0.4051896</td></tr>\n",
       "</tbody>\n",
       "</table>\n"
      ],
      "text/latex": [
       "A data.frame: 6 × 7\n",
       "\\begin{tabular}{r|lllllll}\n",
       "  & seqnames & start & end & name & score & annotation & percentGC\\\\\n",
       "  & <chr> & <int> & <int> & <chr> & <dbl> & <chr> & <dbl>\\\\\n",
       "\\hline\n",
       "\t1 & chr1 &    906012 &    906513 & ACC\\_10    &  7.171193 & Intron   & 0.6127745\\\\\n",
       "\t2 & chr2 & 112541661 & 112542162 & ACC\\_10008 & 22.030579 & Promoter & 0.5548902\\\\\n",
       "\t3 & chr1 &  21673421 &  21673922 & ACC\\_1001  &  6.459954 & Distal   & 0.5089820\\\\\n",
       "\t4 & chr2 & 112584205 & 112584706 & ACC\\_10013 & 43.208555 & Promoter & 0.5868263\\\\\n",
       "\t5 & chr2 & 112596243 & 112596744 & ACC\\_10016 &  5.428209 & Intron   & 0.4910180\\\\\n",
       "\t6 & chr1 &  21725692 &  21726193 & ACC\\_1002  &  5.201273 & Intron   & 0.4051896\\\\\n",
       "\\end{tabular}\n"
      ],
      "text/markdown": [
       "\n",
       "A data.frame: 6 × 7\n",
       "\n",
       "| <!--/--> | seqnames &lt;chr&gt; | start &lt;int&gt; | end &lt;int&gt; | name &lt;chr&gt; | score &lt;dbl&gt; | annotation &lt;chr&gt; | percentGC &lt;dbl&gt; |\n",
       "|---|---|---|---|---|---|---|---|\n",
       "| 1 | chr1 |    906012 |    906513 | ACC_10    |  7.171193 | Intron   | 0.6127745 |\n",
       "| 2 | chr2 | 112541661 | 112542162 | ACC_10008 | 22.030579 | Promoter | 0.5548902 |\n",
       "| 3 | chr1 |  21673421 |  21673922 | ACC_1001  |  6.459954 | Distal   | 0.5089820 |\n",
       "| 4 | chr2 | 112584205 | 112584706 | ACC_10013 | 43.208555 | Promoter | 0.5868263 |\n",
       "| 5 | chr2 | 112596243 | 112596744 | ACC_10016 |  5.428209 | Intron   | 0.4910180 |\n",
       "| 6 | chr1 |  21725692 |  21726193 | ACC_1002  |  5.201273 | Intron   | 0.4051896 |\n",
       "\n"
      ],
      "text/plain": [
       "  seqnames start     end       name      score     annotation percentGC\n",
       "1 chr1        906012    906513 ACC_10     7.171193 Intron     0.6127745\n",
       "2 chr2     112541661 112542162 ACC_10008 22.030579 Promoter   0.5548902\n",
       "3 chr1      21673421  21673922 ACC_1001   6.459954 Distal     0.5089820\n",
       "4 chr2     112584205 112584706 ACC_10013 43.208555 Promoter   0.5868263\n",
       "5 chr2     112596243 112596744 ACC_10016  5.428209 Intron     0.4910180\n",
       "6 chr1      21725692  21726193 ACC_1002   5.201273 Intron     0.4051896"
      ]
     },
     "metadata": {},
     "output_type": "display_data"
    }
   ],
   "source": [
    "head(peak_set)"
   ]
  },
  {
   "cell_type": "code",
   "execution_count": 3,
   "metadata": {
    "vscode": {
     "languageId": "r"
    }
   },
   "outputs": [],
   "source": [
    "## 将峰集数据转换为GRanges对象\n",
    "suppressMessages(library(GenomicRanges))"
   ]
  },
  {
   "cell_type": "code",
   "execution_count": 4,
   "metadata": {
    "vscode": {
     "languageId": "r"
    }
   },
   "outputs": [
    {
     "data": {
      "text/html": [
       "FALSE"
      ],
      "text/latex": [
       "FALSE"
      ],
      "text/markdown": [
       "FALSE"
      ],
      "text/plain": [
       "[1] FALSE"
      ]
     },
     "metadata": {},
     "output_type": "display_data"
    },
    {
     "data": {
      "text/html": [
       "FALSE"
      ],
      "text/latex": [
       "FALSE"
      ],
      "text/markdown": [
       "FALSE"
      ],
      "text/plain": [
       "[1] FALSE"
      ]
     },
     "metadata": {},
     "output_type": "display_data"
    }
   ],
   "source": [
    "any(is.null(peak_set$seqnames))  # 这应该返回 FALSE\n",
    "any(is.na(peak_set$seqnames)) "
   ]
  },
  {
   "cell_type": "code",
   "execution_count": 5,
   "metadata": {
    "vscode": {
     "languageId": "r"
    }
   },
   "outputs": [],
   "source": [
    "peaks_gr <- GRanges(\n",
    "    seqnames = Rle(peak_set$seqnames),,\n",
    "    ranges = IRanges(peak_set$start, peak_set$end),\n",
    "    # 添加其他注释信息作为元数据\n",
    "    mcols = peak_set[, -(1:3)]\n",
    ")"
   ]
  },
  {
   "cell_type": "code",
   "execution_count": 6,
   "metadata": {
    "vscode": {
     "languageId": "r"
    }
   },
   "outputs": [
    {
     "data": {
      "text/plain": [
       "GRanges object with 280871 ranges and 4 metadata columns:\n",
       "           seqnames              ranges strand |  mcols.name mcols.score\n",
       "              <Rle>           <IRanges>  <Rle> | <character>   <numeric>\n",
       "       [1]     chr1       906012-906513      * |      ACC_10     7.17119\n",
       "       [2]     chr2 112541661-112542162      * |   ACC_10008    22.03058\n",
       "       [3]     chr1   21673421-21673922      * |    ACC_1001     6.45995\n",
       "       [4]     chr2 112584205-112584706      * |   ACC_10013    43.20856\n",
       "       [5]     chr2 112596243-112596744      * |   ACC_10016     5.42821\n",
       "       ...      ...                 ...    ... .         ...         ...\n",
       "  [280867]    chr20   62401431-62401932      * |  UCEC_99421     4.22892\n",
       "  [280868]    chr20   62426668-62427169      * |  UCEC_99426    11.76871\n",
       "  [280869]    chr20   62427430-62427931      * |  UCEC_99427    33.15610\n",
       "  [280870]     chr1 211959494-211959995      * |   UCEC_9943     9.25131\n",
       "  [280871]    chr20   62761158-62761659      * |  UCEC_99449     5.62505\n",
       "                   mcols.annotation mcols.percentGC\n",
       "                        <character>       <numeric>\n",
       "       [1]                   Intron        0.612774\n",
       "       [2]                 Promoter        0.554890\n",
       "       [3]                   Distal        0.508982\n",
       "       [4]                 Promoter        0.586826\n",
       "       [5]                   Intron        0.491018\n",
       "       ...                      ...             ...\n",
       "  [280867]                   Intron        0.626747\n",
       "  [280868]                   Intron        0.676647\n",
       "  [280869]                 Promoter        0.622754\n",
       "  [280870]                   Intron        0.596806\n",
       "  [280871] 3 UTR\\t0.612774451\\nch..              NA\n",
       "  -------\n",
       "  seqinfo: 23 sequences from an unspecified genome; no seqlengths"
      ]
     },
     "metadata": {},
     "output_type": "display_data"
    }
   ],
   "source": [
    "peaks_gr"
   ]
  },
  {
   "cell_type": "code",
   "execution_count": 7,
   "metadata": {
    "vscode": {
     "languageId": "r"
    }
   },
   "outputs": [],
   "source": [
    "library(rtracklayer)"
   ]
  },
  {
   "cell_type": "code",
   "execution_count": 8,
   "metadata": {
    "vscode": {
     "languageId": "r"
    }
   },
   "outputs": [],
   "source": [
    "# 导出 BED 文件\n",
    "export.bed(peaks_gr, \"/data/hanxue/BCY_ATAC/TCGA/TCGA-BRCA-PeaksHg19.bed\")"
   ]
  }
 ],
 "metadata": {
  "kernelspec": {
   "display_name": "R",
   "language": "R",
   "name": "ir"
  },
  "language_info": {
   "codemirror_mode": "r",
   "file_extension": ".r",
   "mimetype": "text/x-r-source",
   "name": "R",
   "pygments_lexer": "r",
   "version": "4.4.1"
  }
 },
 "nbformat": 4,
 "nbformat_minor": 2
}
