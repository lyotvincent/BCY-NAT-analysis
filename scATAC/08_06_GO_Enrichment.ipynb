{
 "cells": [
  {
   "cell_type": "code",
   "execution_count": 10,
   "metadata": {
    "vscode": {
     "languageId": "r"
    }
   },
   "outputs": [],
   "source": [
    "suppressMessages(library(ggplot2))\n",
    "suppressMessages(library(dplyr))\n",
    "suppressMessages(library(ArchR))\n",
    "suppressMessages(library(Seurat))\n",
    "suppressMessages(library(Signac))\n",
    "suppressMessages(library(writexl))"
   ]
  },
  {
   "cell_type": "code",
   "execution_count": 2,
   "metadata": {
    "vscode": {
     "languageId": "r"
    }
   },
   "outputs": [
    {
     "name": "stderr",
     "output_type": "stream",
     "text": [
      "Setting default number of Parallel threads to 64.\n",
      "\n"
     ]
    }
   ],
   "source": [
    "set.seed(42)\n",
    "addArchRThreads(threads = 64)"
   ]
  },
  {
   "cell_type": "code",
   "execution_count": 3,
   "metadata": {
    "vscode": {
     "languageId": "r"
    }
   },
   "outputs": [
    {
     "name": "stderr",
     "output_type": "stream",
     "text": [
      "Successfully loaded ArchRProject!\n",
      "\n"
     ]
    }
   ],
   "source": [
    "proj <- loadArchRProject(\"./ArchRProject\", showLogo = FALSE)"
   ]
  },
  {
   "cell_type": "markdown",
   "metadata": {},
   "source": [
    "### 提取主要细胞类型差异峰"
   ]
  },
  {
   "cell_type": "code",
   "execution_count": 3,
   "metadata": {
    "vscode": {
     "languageId": "r"
    }
   },
   "outputs": [],
   "source": [
    "markers <- readRDS(file = \"./ArchRProject/markersPK_majorType.rds\")"
   ]
  },
  {
   "cell_type": "code",
   "execution_count": 5,
   "metadata": {
    "vscode": {
     "languageId": "r"
    }
   },
   "outputs": [],
   "source": [
    "markerList <- getMarkers(markers, cutOff = \"FDR <= 0.05 & Log2FC >=1\")"
   ]
  },
  {
   "cell_type": "code",
   "execution_count": 17,
   "metadata": {
    "vscode": {
     "languageId": "r"
    }
   },
   "outputs": [
    {
     "data": {
      "text/plain": [
       "List of length 9\n",
       "names(9): B_cell Endothelial Epithelial ... PeriVascular Plasma T_cell"
      ]
     },
     "metadata": {},
     "output_type": "display_data"
    }
   ],
   "source": [
    "markerList"
   ]
  },
  {
   "cell_type": "code",
   "execution_count": null,
   "metadata": {
    "vscode": {
     "languageId": "r"
    }
   },
   "outputs": [
    {
     "name": "stdout",
     "output_type": "stream",
     "text": [
      "BED file saved as: ./output/output_bed/celltype_DARB_cell_DARs.bed \n",
      "BED file saved as: ./output/output_bed/celltype_DAREndothelial_DARs.bed \n",
      "BED file saved as: ./output/output_bed/celltype_DAREpithelial_DARs.bed \n",
      "BED file saved as: ./output/output_bed/celltype_DARFibroblast_DARs.bed \n",
      "BED file saved as: ./output/output_bed/celltype_DARMast_DARs.bed \n",
      "BED file saved as: ./output/output_bed/celltype_DARMyeloid_DARs.bed \n",
      "BED file saved as: ./output/output_bed/celltype_DARPeriVascular_DARs.bed \n",
      "BED file saved as: ./output/output_bed/celltype_DARPlasma_DARs.bed \n",
      "BED file saved as: ./output/output_bed/celltype_DART_cell_DARs.bed \n"
     ]
    }
   ],
   "source": [
    "# 假设 markerList 已通过 getMarkers 生成\n",
    "# markerList 是一个列表，每个元素是一个 GRanges 对象\n",
    "\n",
    "# 遍历 markerList 中的每个聚类\n",
    "for (cell_type in names(markerList)) {\n",
    "# 提取当前聚类的 GRanges 对象\n",
    "dar_gr <- markerList[[cell_type]]\n",
    "\n",
    "# 如果当前聚类没有显著区域，跳过\n",
    "if (length(dar_gr) == 0) {\n",
    "cat(paste(\"No significant regions found for\", cell_type, \"\\n\"))\n",
    "next\n",
    "}\n",
    "\n",
    "# 转换为数据框\n",
    "dar_df <- as.data.frame(dar_gr)\n",
    "\n",
    "# 提取 BED 所需的列并重命名\n",
    "bed_df <- dar_df[, c(\"seqnames\", \"start\", \"end\")]\n",
    "colnames(bed_df) <- c(\"chr\", \"start\", \"end\")\n",
    "\n",
    "# 将 start 转换为 0-based 坐标系（BED 格式要求）\n",
    "bed_df$start <- bed_df$start - 1\n",
    "\n",
    "# 生成输出文件名（例如 cell_type1_DARs.bed）\n",
    "output_file <- paste0(\"./output/output_bed/celltype_DAR\", cell_type, \"_DARs.bed\")\n",
    "\n",
    "# 保存为 BED 文件\n",
    "write.table(bed_df, file = output_file,\n",
    "quote = FALSE, sep = \"\\t\",\n",
    "row.names = FALSE, col.names = FALSE)\n",
    "\n",
    "# 打印提示信息\n",
    "cat(paste(\"BED file saved as:\", output_file, \"\\n\"))\n",
    "}"
   ]
  },
  {
   "cell_type": "markdown",
   "metadata": {},
   "source": [
    "### 提取主要细胞类型差异基因"
   ]
  },
  {
   "cell_type": "code",
   "execution_count": 11,
   "metadata": {
    "vscode": {
     "languageId": "r"
    }
   },
   "outputs": [],
   "source": [
    "markersGS <- readRDS(file = \"./ArchRProject/markersGS_majorType.rds\")"
   ]
  },
  {
   "cell_type": "code",
   "execution_count": 19,
   "metadata": {
    "vscode": {
     "languageId": "r"
    }
   },
   "outputs": [],
   "source": [
    "markerGSList <- getMarkers(markersGS, cutOff = \"FDR <= 0.05 & Log2FC >=1.25\")"
   ]
  },
  {
   "cell_type": "code",
   "execution_count": 20,
   "metadata": {
    "vscode": {
     "languageId": "r"
    }
   },
   "outputs": [
    {
     "data": {
      "text/plain": [
       "List of length 9\n",
       "names(9): B_cell Endothelial Epithelial ... PeriVascular Plasma T_cell"
      ]
     },
     "metadata": {},
     "output_type": "display_data"
    }
   ],
   "source": [
    "markerGSList"
   ]
  },
  {
   "cell_type": "code",
   "execution_count": 25,
   "metadata": {
    "vscode": {
     "languageId": "r"
    }
   },
   "outputs": [
    {
     "data": {
      "text/plain": [
       "DataFrame with 563 rows and 9 columns\n",
       "      seqnames     start       end    strand        name       idx    Log2FC\n",
       "         <Rle> <integer> <integer> <integer> <character> <integer> <numeric>\n",
       "20904     chr6 167149480 167196913         1     TCP10L2      1249   2.66264\n",
       "22435     chr8  55879813  56014168         1         LYN       355   2.05615\n",
       "1702      chr1 160796074 160828261         1         LY9      1702   2.90187\n",
       "20902     chr6 166999405 167139696         1        CCR6      1247   1.88617\n",
       "8864     chr16  23836001  24220611         1       PRKCB       379   1.90599\n",
       "...        ...       ...       ...       ...         ...       ...       ...\n",
       "8743     chr16  11273641  11273218         2        PRM3       258   1.72193\n",
       "15299    chr21  25583326  25582770         2   LINC00515        55   1.28698\n",
       "8900     chr16  28637654  28658682         1      NPIPB8       415   1.82882\n",
       "5175     chr12  10826358  10825317         2     TAS2R10       190   2.34049\n",
       "4580     chr11  89968502  89975228         1      TRIM64      1158   1.35727\n",
       "              FDR   MeanDiff\n",
       "        <numeric>  <numeric>\n",
       "20904 7.69758e-91   0.731115\n",
       "22435 1.09768e-80   1.298065\n",
       "1702  1.45064e-76   0.914626\n",
       "20902 7.38376e-76   1.300143\n",
       "8864  4.87560e-74   1.374552\n",
       "...           ...        ...\n",
       "8743    0.0342810 0.04340854\n",
       "15299   0.0353112 0.06911070\n",
       "8900    0.0357681 0.01605435\n",
       "5175    0.0410957 0.01845072\n",
       "4580    0.0496208 0.00314286"
      ]
     },
     "metadata": {},
     "output_type": "display_data"
    }
   ],
   "source": [
    "markerGSList[[\"B_cell\"]]"
   ]
  },
  {
   "cell_type": "code",
   "execution_count": 36,
   "metadata": {
    "vscode": {
     "languageId": "r"
    }
   },
   "outputs": [
    {
     "name": "stdout",
     "output_type": "stream",
     "text": [
      "所有聚类的基因列表文件已生成，可上传至 Metascape 进行分析。\n"
     ]
    }
   ],
   "source": [
    "# 通过循环为每个聚类筛选前 100 个基因并生成单独的文件\n",
    "for (cell_type in names(markerGSList)) {\n",
    "df <- markerGSList[[cell_type]] # 提取当前聚类的数据框\n",
    "df_sorted <- df[order(-df$Log2FC), ] # 按 Log2FC 降序排序\n",
    "top_genes <- df_sorted$name[1:min(100, nrow(df_sorted))] # 取前 100 个基因名称\n",
    "\n",
    "# 写入表头\n",
    "write(\"Gene\", file = paste0(\"./output/output_marker/celltype_marker/\", cell_type, \"_top_100_genes.txt\"))\n",
    "\n",
    "con <- file(paste0(\"./output/output_marker/celltype_marker/\", cell_type, \"_top_100_genes.txt\"), \"a\")\n",
    "\n",
    "# 将基因列表写入文本文件，每行一个基因\n",
    "writeLines(top_genes, con)\n",
    "close(con)\n",
    "}\n",
    "\n",
    "# 提示所有操作完成\n",
    "cat(\"所有聚类的基因列表文件已生成，可上传至 Metascape 进行分析。\\n\")"
   ]
  },
  {
   "cell_type": "code",
   "execution_count": null,
   "metadata": {
    "vscode": {
     "languageId": "r"
    }
   },
   "outputs": [],
   "source": []
  }
 ],
 "metadata": {
  "kernelspec": {
   "display_name": "R",
   "language": "R",
   "name": "ir"
  },
  "language_info": {
   "codemirror_mode": "r",
   "file_extension": ".r",
   "mimetype": "text/x-r-source",
   "name": "R",
   "pygments_lexer": "r",
   "version": "4.4.1"
  }
 },
 "nbformat": 4,
 "nbformat_minor": 2
}
