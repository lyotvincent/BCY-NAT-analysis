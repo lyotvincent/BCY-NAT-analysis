{
 "cells": [
  {
   "cell_type": "code",
   "execution_count": 105,
   "metadata": {
    "vscode": {
     "languageId": "r"
    }
   },
   "outputs": [
    {
     "ename": "ERROR",
     "evalue": "Error in library(scater): there is no package called ‘scater’\n",
     "output_type": "error",
     "traceback": [
      "Error in library(scater): there is no package called ‘scater’\nTraceback:\n",
      "1. stop(packageNotFoundError(package, lib.loc, sys.call()))"
     ]
    }
   ],
   "source": [
    "suppressMessages(library(zellkonverter))\n",
    "suppressMessages(library(SingleCellExperiment))\n",
    "suppressMessages(library(miloR))\n",
    "suppressMessages(library(ArchR))\n",
    "library(ggplot2)\n",
    "library(ggbeeswarm)\n",
    "library(colorspace)\n",
    "library(scater)\n",
    "library(dplyr)\n",
    "library(patchwork)"
   ]
  },
  {
   "cell_type": "code",
   "execution_count": 17,
   "metadata": {
    "vscode": {
     "languageId": "r"
    }
   },
   "outputs": [
    {
     "name": "stderr",
     "output_type": "stream",
     "text": [
      "Successfully loaded ArchRProject!\n",
      "\n"
     ]
    }
   ],
   "source": [
    "proj <- loadArchRProject(\"./ArchRProject\", showLogo = FALSE)"
   ]
  },
  {
   "cell_type": "code",
   "execution_count": 18,
   "metadata": {
    "vscode": {
     "languageId": "r"
    }
   },
   "outputs": [
    {
     "name": "stderr",
     "output_type": "stream",
     "text": [
      "ArchR logging to : ArchRLogs/ArchR-getMatrixFromProject-19630f5690c538-Date-2025-03-19_Time-10-26-42.389639.log\n",
      "If there is an issue, please report to github with logFile!\n",
      "\n",
      "2025-03-19 10:32:17.348426 : Organizing colData, 5.583 mins elapsed.\n",
      "\n",
      "2025-03-19 10:32:17.79273 : Organizing rowData, 5.59 mins elapsed.\n",
      "\n",
      "2025-03-19 10:32:17.809588 : Organizing rowRanges, 5.59 mins elapsed.\n",
      "\n",
      "2025-03-19 10:32:17.831129 : Organizing Assays (1 of 1), 5.591 mins elapsed.\n",
      "\n",
      "2025-03-19 10:33:00.767198 : Constructing SummarizedExperiment, 6.306 mins elapsed.\n",
      "\n",
      "2025-03-19 10:34:22.933205 : Finished Matrix Creation, 7.676 mins elapsed.\n",
      "\n"
     ]
    }
   ],
   "source": [
    "peakMatrix <- getMatrixFromProject(proj, useMatrix = \"PeakMatrix\")"
   ]
  },
  {
   "cell_type": "code",
   "execution_count": null,
   "metadata": {
    "vscode": {
     "languageId": "r"
    }
   },
   "outputs": [],
   "source": [
    "cellColData <- proj@cellColData"
   ]
  },
  {
   "cell_type": "code",
   "execution_count": null,
   "metadata": {
    "vscode": {
     "languageId": "r"
    }
   },
   "outputs": [],
   "source": [
    "# PeakMatrix 与 cellcOlData列名内容不一致或顺序不一致都会报错\n",
    "peak_colnames <- colnames(assay(peakMatrix))\n",
    "\n",
    "# 按peakMatrix列名顺序重排cellColData\n",
    "cellColData <- cellColData[peak_colnames, ]"
   ]
  },
  {
   "cell_type": "code",
   "execution_count": 67,
   "metadata": {
    "vscode": {
     "languageId": "r"
    }
   },
   "outputs": [],
   "source": [
    "# SingleCellExperiment对象为miloR的输入格式\n",
    "sce <- SingleCellExperiment(assays = list(counts = assay(peakMatrix)), colData = cellColData)"
   ]
  },
  {
   "cell_type": "code",
   "execution_count": 68,
   "metadata": {
    "vscode": {
     "languageId": "r"
    }
   },
   "outputs": [],
   "source": [
    "# 提取LSI降维结果\n",
    "lsi <- proj@reducedDims$IterativeLSI"
   ]
  },
  {
   "cell_type": "code",
   "execution_count": 69,
   "metadata": {
    "vscode": {
     "languageId": "r"
    }
   },
   "outputs": [
    {
     "name": "stderr",
     "output_type": "stream",
     "text": [
      "Warning message in .check_reddim_names(x, value, withDimnames):\n",
      "“non-NULL 'rownames(value)' should be the same as 'colnames(x)' for\n",
      "'reducedDim<-'. This will be an error in the next release of\n",
      "Bioconductor.”\n"
     ]
    }
   ],
   "source": [
    "# 添加结果\n",
    "reducedDim(sce, \"LSI\") <- lsi$matSVD"
   ]
  },
  {
   "cell_type": "code",
   "execution_count": 98,
   "metadata": {
    "vscode": {
     "languageId": "r"
    }
   },
   "outputs": [
    {
     "data": {
      "text/html": [
       "<style>\n",
       ".list-inline {list-style: none; margin:0; padding: 0}\n",
       ".list-inline>li {display: inline-block}\n",
       ".list-inline>li:not(:last-child)::after {content: \"\\00b7\"; padding: 0 .5ex}\n",
       "</style>\n",
       "<ol class=list-inline><li>'Epithelial'</li><li>'Myeloid'</li><li>'Endothelial'</li><li>'Mast'</li><li>'PeriVascular'</li><li>'Fibroblast'</li><li>'T_cell'</li><li>'B_cell'</li><li>'Plasma'</li></ol>\n"
      ],
      "text/latex": [
       "\\begin{enumerate*}\n",
       "\\item 'Epithelial'\n",
       "\\item 'Myeloid'\n",
       "\\item 'Endothelial'\n",
       "\\item 'Mast'\n",
       "\\item 'PeriVascular'\n",
       "\\item 'Fibroblast'\n",
       "\\item 'T\\_cell'\n",
       "\\item 'B\\_cell'\n",
       "\\item 'Plasma'\n",
       "\\end{enumerate*}\n"
      ],
      "text/markdown": [
       "1. 'Epithelial'\n",
       "2. 'Myeloid'\n",
       "3. 'Endothelial'\n",
       "4. 'Mast'\n",
       "5. 'PeriVascular'\n",
       "6. 'Fibroblast'\n",
       "7. 'T_cell'\n",
       "8. 'B_cell'\n",
       "9. 'Plasma'\n",
       "\n",
       "\n"
      ],
      "text/plain": [
       "[1] \"Epithelial\"   \"Myeloid\"      \"Endothelial\"  \"Mast\"         \"PeriVascular\"\n",
       "[6] \"Fibroblast\"   \"T_cell\"       \"B_cell\"       \"Plasma\"      "
      ]
     },
     "metadata": {},
     "output_type": "display_data"
    }
   ],
   "source": [
    "unique(sce$majorType)"
   ]
  },
  {
   "cell_type": "code",
   "execution_count": 70,
   "metadata": {
    "vscode": {
     "languageId": "r"
    }
   },
   "outputs": [],
   "source": [
    "# 创建 Milo 对象\n",
    "milo <- Milo(sce)"
   ]
  },
  {
   "cell_type": "code",
   "execution_count": 71,
   "metadata": {
    "vscode": {
     "languageId": "r"
    }
   },
   "outputs": [
    {
     "name": "stderr",
     "output_type": "stream",
     "text": [
      "Constructing kNN graph with k:20\n",
      "\n"
     ]
    }
   ],
   "source": [
    "# 构建 k 近邻图\n",
    "milo <- buildGraph(milo, k = 20, d = 30, reduced.dim = \"LSI\")"
   ]
  },
  {
   "cell_type": "code",
   "execution_count": 72,
   "metadata": {
    "vscode": {
     "languageId": "r"
    }
   },
   "outputs": [
    {
     "name": "stderr",
     "output_type": "stream",
     "text": [
      "Checking valid object\n",
      "\n"
     ]
    },
    {
     "name": "stderr",
     "output_type": "stream",
     "text": [
      "Running refined sampling with reduced_dim\n",
      "\n"
     ]
    }
   ],
   "source": [
    "# 定义邻域\n",
    "milo <- makeNhoods(milo, prop = 0.1, k = 20, d = 30, refined = TRUE, reduced_dims = \"LSI\")"
   ]
  },
  {
   "cell_type": "code",
   "execution_count": 73,
   "metadata": {
    "vscode": {
     "languageId": "r"
    }
   },
   "outputs": [
    {
     "name": "stderr",
     "output_type": "stream",
     "text": [
      "Checking meta.data validity\n",
      "\n",
      "Counting cells in neighbourhoods\n",
      "\n"
     ]
    }
   ],
   "source": [
    "# 计算邻域中的细胞数（替换 \"samples\" 为元数据中的样本列名）\n",
    "milo <- countCells(milo, meta.data = colData(sce), samples = \"Sample\")"
   ]
  },
  {
   "cell_type": "code",
   "execution_count": 95,
   "metadata": {
    "vscode": {
     "languageId": "r"
    }
   },
   "outputs": [
    {
     "data": {
      "text/plain": [
       "DataFrame with 11 rows and 2 columns\n",
       "                       Sample         neoadjuvant\n",
       "                        <Rle>               <Rle>\n",
       "10T#TTGCGAAGTCTCTAAG-1    10T without_neoadjuvant\n",
       "10N#TGTGGCGAGTTCGCGC-1    10N without_neoadjuvant\n",
       "13T#GTGATCAAGTGTCCCG-1    13T   after_neoadjuvant\n",
       "20T#TGCTCACTCTCTATCA-1    20T without_neoadjuvant\n",
       "21T#TCACCTGCAACTGCGC-1    21T without_neoadjuvant\n",
       "18T#CAATCCCAGAACTCCT-1    18T without_neoadjuvant\n",
       "11T#CGCACAGTCGATGTAC-1    11T   after_neoadjuvant\n",
       "22T#AAAGGATAGCGTCAAG-1    22T without_neoadjuvant\n",
       "12N#AGACAAAAGCGTTGCC-1    12N   after_neoadjuvant\n",
       "19T#TGTAGCAGTAAGGTCG-1    19T   after_neoadjuvant\n",
       "12T#GAGGTCCGTATCTGCA-1    12T   after_neoadjuvant"
      ]
     },
     "metadata": {},
     "output_type": "display_data"
    }
   ],
   "source": [
    "unique(colData(sce)[, c(\"Sample\", \"neoadjuvant\")])"
   ]
  },
  {
   "cell_type": "code",
   "execution_count": 74,
   "metadata": {
    "vscode": {
     "languageId": "r"
    }
   },
   "outputs": [],
   "source": [
    "sample_metadata <- unique(colData(sce)[, c(\"Sample\", \"neoadjuvant\")])\n",
    "rownames(sample_metadata) <- sample_metadata$Sample"
   ]
  },
  {
   "cell_type": "code",
   "execution_count": 58,
   "metadata": {
    "vscode": {
     "languageId": "r"
    }
   },
   "outputs": [
    {
     "data": {
      "text/plain": [
       "DataFrame with 11 rows and 2 columns\n",
       "    Sample         neoadjuvant\n",
       "     <Rle>               <Rle>\n",
       "10T    10T without_neoadjuvant\n",
       "10N    10N without_neoadjuvant\n",
       "13T    13T   after_neoadjuvant\n",
       "20T    20T without_neoadjuvant\n",
       "21T    21T without_neoadjuvant\n",
       "18T    18T without_neoadjuvant\n",
       "11T    11T   after_neoadjuvant\n",
       "22T    22T without_neoadjuvant\n",
       "12N    12N   after_neoadjuvant\n",
       "19T    19T   after_neoadjuvant\n",
       "12T    12T   after_neoadjuvant"
      ]
     },
     "metadata": {},
     "output_type": "display_data"
    }
   ],
   "source": [
    "sample_metadata"
   ]
  },
  {
   "cell_type": "code",
   "execution_count": 75,
   "metadata": {
    "vscode": {
     "languageId": "r"
    }
   },
   "outputs": [
    {
     "data": {
      "text/html": [
       "<style>\n",
       ".list-inline {list-style: none; margin:0; padding: 0}\n",
       ".list-inline>li {display: inline-block}\n",
       ".list-inline>li:not(:last-child)::after {content: \"\\00b7\"; padding: 0 .5ex}\n",
       "</style>\n",
       "<ol class=list-inline><li>'10T'</li><li>'10N'</li><li>'13T'</li><li>'20T'</li><li>'21T'</li><li>'18T'</li><li>'11T'</li><li>'22T'</li><li>'12N'</li><li>'19T'</li><li>'12T'</li></ol>\n"
      ],
      "text/latex": [
       "\\begin{enumerate*}\n",
       "\\item '10T'\n",
       "\\item '10N'\n",
       "\\item '13T'\n",
       "\\item '20T'\n",
       "\\item '21T'\n",
       "\\item '18T'\n",
       "\\item '11T'\n",
       "\\item '22T'\n",
       "\\item '12N'\n",
       "\\item '19T'\n",
       "\\item '12T'\n",
       "\\end{enumerate*}\n"
      ],
      "text/markdown": [
       "1. '10T'\n",
       "2. '10N'\n",
       "3. '13T'\n",
       "4. '20T'\n",
       "5. '21T'\n",
       "6. '18T'\n",
       "7. '11T'\n",
       "8. '22T'\n",
       "9. '12N'\n",
       "10. '19T'\n",
       "11. '12T'\n",
       "\n",
       "\n"
      ],
      "text/plain": [
       " [1] \"10T\" \"10N\" \"13T\" \"20T\" \"21T\" \"18T\" \"11T\" \"22T\" \"12N\" \"19T\" \"12T\""
      ]
     },
     "metadata": {},
     "output_type": "display_data"
    }
   ],
   "source": [
    "colnames(nhoodCounts(milo))\n",
    "stopifnot(all(colnames(nhoodCounts(milo)) %in% rownames(sample_metadata)))"
   ]
  },
  {
   "cell_type": "code",
   "execution_count": 79,
   "metadata": {
    "vscode": {
     "languageId": "r"
    }
   },
   "outputs": [
    {
     "name": "stderr",
     "output_type": "stream",
     "text": [
      "Using TMM normalisation\n",
      "\n",
      "Performing spatial FDR correction with k-distance weighting\n",
      "\n"
     ]
    }
   ],
   "source": [
    "# 进行差异丰度分析（替换 \"condition\" 为元数据中的条件列名）\n",
    "DA_results <- testNhoods(milo, design = ~ neoadjuvant, design.df = sample_metadata, reduced.dim = \"LSI\")"
   ]
  },
  {
   "cell_type": "code",
   "execution_count": 92,
   "metadata": {
    "vscode": {
     "languageId": "r"
    }
   },
   "outputs": [
    {
     "data": {
      "text/html": [
       "<style>\n",
       ".list-inline {list-style: none; margin:0; padding: 0}\n",
       ".list-inline>li {display: inline-block}\n",
       ".list-inline>li:not(:last-child)::after {content: \"\\00b7\"; padding: 0 .5ex}\n",
       "</style>\n",
       "<ol class=list-inline><li>'T_cell'</li><li>'PeriVascular'</li><li>'Myeloid'</li><li>'Fibroblast'</li><li>'Epithelial'</li><li>'Endothelial'</li></ol>\n"
      ],
      "text/latex": [
       "\\begin{enumerate*}\n",
       "\\item 'T\\_cell'\n",
       "\\item 'PeriVascular'\n",
       "\\item 'Myeloid'\n",
       "\\item 'Fibroblast'\n",
       "\\item 'Epithelial'\n",
       "\\item 'Endothelial'\n",
       "\\end{enumerate*}\n"
      ],
      "text/markdown": [
       "1. 'T_cell'\n",
       "2. 'PeriVascular'\n",
       "3. 'Myeloid'\n",
       "4. 'Fibroblast'\n",
       "5. 'Epithelial'\n",
       "6. 'Endothelial'\n",
       "\n",
       "\n"
      ],
      "text/plain": [
       "[1] \"T_cell\"       \"PeriVascular\" \"Myeloid\"      \"Fibroblast\"   \"Epithelial\"  \n",
       "[6] \"Endothelial\" "
      ]
     },
     "metadata": {},
     "output_type": "display_data"
    }
   ],
   "source": [
    "unique(DA_results[[\"majorType\"]])"
   ]
  },
  {
   "cell_type": "code",
   "execution_count": 80,
   "metadata": {
    "vscode": {
     "languageId": "r"
    }
   },
   "outputs": [],
   "source": [
    "milo <- buildNhoodGraph(milo)"
   ]
  },
  {
   "cell_type": "code",
   "execution_count": 101,
   "metadata": {
    "vscode": {
     "languageId": "r"
    }
   },
   "outputs": [
    {
     "data": {
      "text/html": [
       "<style>\n",
       ".list-inline {list-style: none; margin:0; padding: 0}\n",
       ".list-inline>li {display: inline-block}\n",
       ".list-inline>li:not(:last-child)::after {content: \"\\00b7\"; padding: 0 .5ex}\n",
       "</style>\n",
       "<ol class=list-inline><li>'Epithelial'</li><li>'Myeloid'</li><li>'Endothelial'</li><li>'Mast'</li><li>'PeriVascular'</li><li>'Fibroblast'</li><li>'T_cell'</li><li>'B_cell'</li><li>'Plasma'</li></ol>\n"
      ],
      "text/latex": [
       "\\begin{enumerate*}\n",
       "\\item 'Epithelial'\n",
       "\\item 'Myeloid'\n",
       "\\item 'Endothelial'\n",
       "\\item 'Mast'\n",
       "\\item 'PeriVascular'\n",
       "\\item 'Fibroblast'\n",
       "\\item 'T\\_cell'\n",
       "\\item 'B\\_cell'\n",
       "\\item 'Plasma'\n",
       "\\end{enumerate*}\n"
      ],
      "text/markdown": [
       "1. 'Epithelial'\n",
       "2. 'Myeloid'\n",
       "3. 'Endothelial'\n",
       "4. 'Mast'\n",
       "5. 'PeriVascular'\n",
       "6. 'Fibroblast'\n",
       "7. 'T_cell'\n",
       "8. 'B_cell'\n",
       "9. 'Plasma'\n",
       "\n",
       "\n"
      ],
      "text/plain": [
       "[1] \"Epithelial\"   \"Myeloid\"      \"Endothelial\"  \"Mast\"         \"PeriVascular\"\n",
       "[6] \"Fibroblast\"   \"T_cell\"       \"B_cell\"       \"Plasma\"      "
      ]
     },
     "metadata": {},
     "output_type": "display_data"
    }
   ],
   "source": [
    "unique(milo$majorType)"
   ]
  },
  {
   "cell_type": "code",
   "execution_count": 81,
   "metadata": {
    "vscode": {
     "languageId": "r"
    }
   },
   "outputs": [
    {
     "name": "stderr",
     "output_type": "stream",
     "text": [
      "Converting majorType to factor...\n",
      "\n"
     ]
    }
   ],
   "source": [
    "DA_results <- annotateNhoods(milo, DA_results, coldata_col = \"majorType\")"
   ]
  },
  {
   "cell_type": "code",
   "execution_count": 103,
   "metadata": {
    "vscode": {
     "languageId": "r"
    }
   },
   "outputs": [
    {
     "data": {
      "text/html": [
       "<style>\n",
       ".list-inline {list-style: none; margin:0; padding: 0}\n",
       ".list-inline>li {display: inline-block}\n",
       ".list-inline>li:not(:last-child)::after {content: \"\\00b7\"; padding: 0 .5ex}\n",
       "</style>\n",
       "<ol class=list-inline><li>'T_cell'</li><li>'PeriVascular'</li><li>'Myeloid'</li><li>'Fibroblast'</li><li>'Epithelial'</li><li>'Endothelial'</li></ol>\n"
      ],
      "text/latex": [
       "\\begin{enumerate*}\n",
       "\\item 'T\\_cell'\n",
       "\\item 'PeriVascular'\n",
       "\\item 'Myeloid'\n",
       "\\item 'Fibroblast'\n",
       "\\item 'Epithelial'\n",
       "\\item 'Endothelial'\n",
       "\\end{enumerate*}\n"
      ],
      "text/markdown": [
       "1. 'T_cell'\n",
       "2. 'PeriVascular'\n",
       "3. 'Myeloid'\n",
       "4. 'Fibroblast'\n",
       "5. 'Epithelial'\n",
       "6. 'Endothelial'\n",
       "\n",
       "\n"
      ],
      "text/plain": [
       "[1] \"T_cell\"       \"PeriVascular\" \"Myeloid\"      \"Fibroblast\"   \"Epithelial\"  \n",
       "[6] \"Endothelial\" "
      ]
     },
     "metadata": {},
     "output_type": "display_data"
    }
   ],
   "source": [
    "unique(DA_results[['majorType']])"
   ]
  },
  {
   "cell_type": "code",
   "execution_count": 89,
   "metadata": {
    "vscode": {
     "languageId": "r"
    }
   },
   "outputs": [
    {
     "name": "stderr",
     "output_type": "stream",
     "text": [
      "Warning message:\n",
      "“\u001b[1m\u001b[22mThe dot-dot notation (`..x..`) was deprecated in ggplot2 3.4.0.\n",
      "\u001b[36mℹ\u001b[39m Please use `after_stat(x)` instead.”\n",
      "\u001b[1m\u001b[22mOrientation inferred to be along y-axis; override with\n",
      "`position_quasirandom(orientation = 'x')`\n",
      "\u001b[1m\u001b[22mOrientation inferred to be along y-axis; override with\n",
      "`position_quasirandom(orientation = 'x')`\n"
     ]
    }
   ],
   "source": [
    "# 可视化结果\n",
    "DA_results <- DA_results[order(DA_results[['majorType']], decreasing=T), ]\n",
    "p <- ggplot(DA_results, aes(x = logFC, y = majorType)) +\n",
    "  geom_quasirandom(data=DA_results[DA_results$SpatialFDR > 0.1,], alpha=0.5, colour='grey50', size=1) + \n",
    "  geom_quasirandom(data=DA_results[DA_results$SpatialFDR <= 0.1,], aes(colour=logFC, alpha=abs(logFC)), size=1.5) + \n",
    "  geom_violin(color = \"#44403f\", alpha=0) +\n",
    "  theme_bw() +\n",
    "  scale_colour_gradient2(low=darken('blue'), mid='grey80', high=darken('#ff0000'), midpoint=0) +\n",
    "  labs(x=\"Log Fold Change\", y=\"majorType\") +\n",
    "  theme(axis.text.y=element_text(size=12,colour='black'), axis.title.y=element_text(size=14),\n",
    "        axis.text.x=element_text(size=12,colour='black'), axis.title.x=element_text(size=14),\n",
    "        panel.grid.major = element_blank(), \n",
    "        panel.grid.minor = element_blank()) +\n",
    "  stat_summary(aes(label = sprintf(\"%.2f\",..x..)),\n",
    "        fun = mean, geom = \"text\") +\n",
    "  guides(colour=FALSE, alpha=FALSE)\n",
    "ggsave(\"DA.pdf\", p, width = 4.5, height = 4.5, units = \"in\")"
   ]
  },
  {
   "cell_type": "code",
   "execution_count": 106,
   "metadata": {
    "vscode": {
     "languageId": "r"
    }
   },
   "outputs": [
    {
     "name": "stderr",
     "output_type": "stream",
     "text": [
      "\u001b[1m\u001b[22mSaving 7 x 7 in image\n",
      "\u001b[1m\u001b[22mOrientation inferred to be along y-axis; override with\n",
      "`position_quasirandom(orientation = 'x')`\n",
      "\u001b[1m\u001b[22mOrientation inferred to be along y-axis; override with\n",
      "`position_quasirandom(orientation = 'x')`\n"
     ]
    }
   ],
   "source": [
    "ggsave(\"/data/hanxue/BCY_ATAC/joint_output/DA.svg\",plot = p, device = \"svg\")"
   ]
  }
 ],
 "metadata": {
  "kernelspec": {
   "display_name": "R",
   "language": "R",
   "name": "ir"
  },
  "language_info": {
   "codemirror_mode": "r",
   "file_extension": ".r",
   "mimetype": "text/x-r-source",
   "name": "R",
   "pygments_lexer": "r",
   "version": "4.4.1"
  }
 },
 "nbformat": 4,
 "nbformat_minor": 2
}
