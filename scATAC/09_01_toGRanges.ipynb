{
 "cells": [
  {
   "cell_type": "code",
   "execution_count": 7,
   "metadata": {
    "vscode": {
     "languageId": "r"
    }
   },
   "outputs": [],
   "source": [
    "suppressMessages(library(GenomicRanges))\n",
    "suppressMessages(library(GenomeInfoDb))\n",
    "suppressMessages(library(data.table))\n",
    "suppressMessages(library(ggplot2))\n",
    "suppressMessages(library(ArchR))\n",
    "suppressMessages(library(Seurat))\n",
    "suppressMessages(library(Signac))"
   ]
  },
  {
   "cell_type": "code",
   "execution_count": 8,
   "metadata": {
    "vscode": {
     "languageId": "r"
    }
   },
   "outputs": [
    {
     "name": "stderr",
     "output_type": "stream",
     "text": [
      "Setting default number of Parallel threads to 64.\n",
      "\n"
     ]
    }
   ],
   "source": [
    "set.seed(42)\n",
    "addArchRThreads(threads = 64)"
   ]
  },
  {
   "cell_type": "code",
   "execution_count": 9,
   "metadata": {
    "vscode": {
     "languageId": "r"
    }
   },
   "outputs": [
    {
     "name": "stderr",
     "output_type": "stream",
     "text": [
      "Successfully loaded ArchRProject!\n",
      "\n"
     ]
    }
   ],
   "source": [
    "proj <- loadArchRProject(\"./ArchRProject_epithelial\", showLogo = FALSE)"
   ]
  },
  {
   "cell_type": "code",
   "execution_count": 10,
   "metadata": {
    "vscode": {
     "languageId": "r"
    }
   },
   "outputs": [],
   "source": [
    "dataPath = \"/data/hanxue/BCY_ATAC/scATAC/fragments\"\n",
    "batches <- c(\"10T\", \"10N\", \"11T\", \"12N\", \"12T\", \"13T\", \"18T\", \"19T\", \"20T\", \"21T\", \"22T\")"
   ]
  },
  {
   "cell_type": "code",
   "execution_count": 11,
   "metadata": {
    "vscode": {
     "languageId": "r"
    }
   },
   "outputs": [
    {
     "name": "stdout",
     "output_type": "stream",
     "text": [
      "[1] \"/data/hanxue/BCY_ATAC/scATAC/fragments/10T/fragments.tsv.gz\"\n",
      "[1] \"/data/hanxue/BCY_ATAC/scATAC/fragments/10N/fragments.tsv.gz\"\n",
      "[1] \"/data/hanxue/BCY_ATAC/scATAC/fragments/11T/fragments.tsv.gz\"\n",
      "[1] \"/data/hanxue/BCY_ATAC/scATAC/fragments/12N/fragments.tsv.gz\"\n",
      "[1] \"/data/hanxue/BCY_ATAC/scATAC/fragments/12T/fragments.tsv.gz\"\n",
      "[1] \"/data/hanxue/BCY_ATAC/scATAC/fragments/13T/fragments.tsv.gz\"\n",
      "[1] \"/data/hanxue/BCY_ATAC/scATAC/fragments/18T/fragments.tsv.gz\"\n",
      "[1] \"/data/hanxue/BCY_ATAC/scATAC/fragments/19T/fragments.tsv.gz\"\n",
      "[1] \"/data/hanxue/BCY_ATAC/scATAC/fragments/20T/fragments.tsv.gz\"\n",
      "[1] \"/data/hanxue/BCY_ATAC/scATAC/fragments/21T/fragments.tsv.gz\"\n",
      "[1] \"/data/hanxue/BCY_ATAC/scATAC/fragments/22T/fragments.tsv.gz\"\n"
     ]
    },
    {
     "data": {
      "text/plain": [
       "$`10T`\n",
       "GRanges object with 175311175 ranges and 2 metadata columns:\n",
       "                seqnames      ranges strand |                 RG read_count\n",
       "                   <Rle>   <IRanges>  <Rle> |        <character>  <integer>\n",
       "          [1]       chr1  9989-10012      * | TTCTGTACATGGTTTG-1          1\n",
       "          [2]       chr1 10103-10277      * | CCAGATATCTTGGCCT-1          2\n",
       "          [3]       chr1 10151-10204      * | TAAACCGGTTGGAGGT-1          1\n",
       "          [4]       chr1 10163-10210      * | GTGATCAGTGGAAAGA-1          2\n",
       "          [5]       chr1 10221-10307      * | TGAGTCAAGACTAGGC-1          2\n",
       "          ...        ...         ...    ... .                ...        ...\n",
       "  [175311171] KI270713.1 34589-34746      * | CTTGAAGCATTGTGAC-1          1\n",
       "  [175311172] KI270713.1 34608-34980      * | ATGTCGAGTCATGAGG-1          1\n",
       "  [175311173] KI270713.1 36307-36360      * | TGTAAGCAGTCGCCTG-1          2\n",
       "  [175311174] KI270713.1 37672-37840      * | AACAAAGAGAGCTCCC-1          1\n",
       "  [175311175] KI270713.1 38991-39338      * | TGGGTTACACGCGATC-1          1\n",
       "  -------\n",
       "  seqinfo: 39 sequences from an unspecified genome; no seqlengths\n",
       "\n",
       "$`10N`\n",
       "GRanges object with 71550888 ranges and 2 metadata columns:\n",
       "               seqnames      ranges strand |                 RG read_count\n",
       "                  <Rle>   <IRanges>  <Rle> |        <character>  <integer>\n",
       "         [1]       chr1 10077-10278      * | TAGCGGCAGGATTGAT-1          1\n",
       "         [2]       chr1 10151-10185      * | GCGAGAAAGACTAGCG-1          1\n",
       "         [3]       chr1 10151-10192      * | TTTGCGCCACACACAT-1          1\n",
       "         [4]       chr1 10151-10216      * | CCGTACTAGTTCGACT-1          1\n",
       "         [5]       chr1 10157-10210      * | AGCCTCTAGTGGTGTG-1          1\n",
       "         ...        ...         ...    ... .                ...        ...\n",
       "  [71550884] KI270713.1 34417-34584      * | GGAACCCGTACGGAGT-1          1\n",
       "  [71550885] KI270713.1 34430-34486      * | AAACGAAGTCGCTAGC-1          1\n",
       "  [71550886] KI270713.1 34485-34656      * | AGGACGAAGTTCGTTG-1          1\n",
       "  [71550887] KI270713.1 34506-34593      * | TGCTTTATCTCTGCGT-1          1\n",
       "  [71550888] KI270713.1 37286-37342      * | TCGAGCGAGTAACACA-1          2\n",
       "  -------\n",
       "  seqinfo: 39 sequences from an unspecified genome; no seqlengths\n",
       "\n",
       "$`11T`\n",
       "GRanges object with 9477422 ranges and 2 metadata columns:\n",
       "              seqnames      ranges strand |                 RG read_count\n",
       "                 <Rle>   <IRanges>  <Rle> |        <character>  <integer>\n",
       "        [1]       chr1 10086-10346      * | CGTACAAAGTGTTCCA-1          1\n",
       "        [2]       chr1 13283-13362      * | GAGTGAGGTGGCATAG-1          3\n",
       "        [3]       chr1 47091-47138      * | GCTGAGCAGGCCTAAG-1          1\n",
       "        [4]       chr1 55970-56010      * | GAGGATGTCGGGAAAC-1          2\n",
       "        [5]       chr1 64822-64979      * | CAAAGCTCAGGCATTT-1          1\n",
       "        ...        ...         ...    ... .                ...        ...\n",
       "  [9477418] KI270713.1 32549-32968      * | AGCGATTCACAGAAGC-1          1\n",
       "  [9477419] KI270713.1 32578-32756      * | GGGTCTGTCCAGCACG-1          1\n",
       "  [9477420] KI270713.1 32946-33003      * | CTCGCTACAGCTTACA-1          1\n",
       "  [9477421] KI270713.1 33425-33619      * | TTCATCATCGGGTCCA-1          1\n",
       "  [9477422] KI270713.1 33522-33902      * | GAGGTCCAGAGGCAGG-1          1\n",
       "  -------\n",
       "  seqinfo: 38 sequences from an unspecified genome; no seqlengths\n",
       "\n",
       "$`12N`\n",
       "GRanges object with 24198618 ranges and 2 metadata columns:\n",
       "               seqnames      ranges strand |                 RG read_count\n",
       "                  <Rle>   <IRanges>  <Rle> |        <character>  <integer>\n",
       "         [1]       chr1 10078-10310      * | AGGCGAAGTAACCCAT-1          1\n",
       "         [2]       chr1 10151-10215      * | AACTGTGTCCAGAATC-1          1\n",
       "         [3]       chr1 10162-10215      * | GACCAATTCCAACAAC-1          4\n",
       "         [4]       chr1 16214-16272      * | GCGTAGCGTGCTGTCG-1          1\n",
       "         [5]       chr1 28948-29351      * | GAGCGCTGTCCATTGA-1          2\n",
       "         ...        ...         ...    ... .                ...        ...\n",
       "  [24198614] KI270713.1 33672-33845      * | TGACAACGTGGTGGTA-1          1\n",
       "  [24198615] KI270713.1 34839-34867      * | ACTAGGTAGAAAGCAG-1          2\n",
       "  [24198616] KI270713.1 34881-34921      * | TGGAAGGGTGCGTAGA-1          1\n",
       "  [24198617] KI270713.1 36534-36570      * | GAGAACGGTATTCACG-1          1\n",
       "  [24198618] KI270713.1 36759-36960      * | AATGGAAGTCTGCGCA-1          2\n",
       "  -------\n",
       "  seqinfo: 39 sequences from an unspecified genome; no seqlengths\n",
       "\n",
       "$`12T`\n",
       "GRanges object with 6594005 ranges and 2 metadata columns:\n",
       "              seqnames      ranges strand |                 RG read_count\n",
       "                 <Rle>   <IRanges>  <Rle> |        <character>  <integer>\n",
       "        [1]       chr1 17477-17659      * | ATTTGTCAGATCGCCC-1          1\n",
       "        [2]       chr1 54460-54507      * | TTTGGCCAGTTGCGCC-1          1\n",
       "        [3]       chr1 57024-57083      * | TGCCTGTAGACTAGGC-1          1\n",
       "        [4]       chr1 88452-88494      * | ACATGGTCACTGAAGG-1          1\n",
       "        [5]       chr1 89118-89307      * | CGGACCATCACTGGTA-1          3\n",
       "        ...        ...         ...    ... .                ...        ...\n",
       "  [6594001] KI270713.1 33365-33460      * | AGCGTGCAGTGAGTGC-1          1\n",
       "  [6594002] KI270713.1 33406-33457      * | CGCACAGAGGATTGAT-1          1\n",
       "  [6594003] KI270713.1 34394-34453      * | CGCACAGAGGATTGAT-1          1\n",
       "  [6594004] KI270713.1 34596-34682      * | CGCGCAACACAGGTAG-1          1\n",
       "  [6594005] KI270713.1 37308-37394      * | CTTAATCGTGCATTGT-1          1\n",
       "  -------\n",
       "  seqinfo: 39 sequences from an unspecified genome; no seqlengths\n",
       "\n",
       "$`13T`\n",
       "GRanges object with 43915507 ranges and 2 metadata columns:\n",
       "               seqnames      ranges strand |                 RG read_count\n",
       "                  <Rle>   <IRanges>  <Rle> |        <character>  <integer>\n",
       "         [1]       chr1 10150-10192      * | GAGGATGCATGGTAAA-1          1\n",
       "         [2]       chr1 10151-10204      * | TCCGACTCACAGGTAG-1          1\n",
       "         [3]       chr1 10151-10437      * | TACATTCGTTTCCTAT-1          2\n",
       "         [4]       chr1 10155-10190      * | TTACCCGTCCAACCTC-1          2\n",
       "         [5]       chr1 10157-10192      * | GGAGAACCATTCACCC-1          4\n",
       "         ...        ...         ...    ... .                ...        ...\n",
       "  [43915503] KI270713.1 33624-34010      * | AAGATAGAGCAATAAC-1          1\n",
       "  [43915504] KI270713.1 34102-34158      * | TAACTTCCAGGGTACA-1          1\n",
       "  [43915505] KI270713.1 34836-34872      * | CTACAGACAAGCAGGT-1          2\n",
       "  [43915506] KI270713.1 34857-34887      * | AAACGAATCGATCTTT-1          1\n",
       "  [43915507] KI270713.1 36315-36642      * | TGTAGCATCGTCTAGA-1          1\n",
       "  -------\n",
       "  seqinfo: 39 sequences from an unspecified genome; no seqlengths\n",
       "\n",
       "$`18T`\n",
       "GRanges object with 117757495 ranges and 2 metadata columns:\n",
       "                seqnames      ranges strand |                 RG read_count\n",
       "                   <Rle>   <IRanges>  <Rle> |        <character>  <integer>\n",
       "          [1]       chr1 10074-10192      * | GTGTGATGTACCCACG-1          1\n",
       "          [2]       chr1 10097-10309      * | GAGCGCTAGGTAGGCT-1          1\n",
       "          [3]       chr1 10151-10186      * | ATTACTCAGATATGAC-1          1\n",
       "          [4]       chr1 10151-10192      * | GGTTGCGGTCATTGCA-1          1\n",
       "          [5]       chr1 10156-10198      * | TGGCAATAGAGAAGCA-1          1\n",
       "          ...        ...         ...    ... .                ...        ...\n",
       "  [117757491] KI270713.1 34857-34889      * | GCGGTGTTCTAGCAAC-1          1\n",
       "  [117757492] KI270713.1 37645-37682      * | GGGAACAAGGCCAATG-1          1\n",
       "  [117757493] KI270713.1 37653-37693      * | ACAAACCAGTCAACTC-1          1\n",
       "  [117757494] KI270713.1 39031-39221      * | GCACCTTTCCATGACA-1          1\n",
       "  [117757495] KI270713.1 39178-39287      * | GCCTAGGCACGGCCAT-1          1\n",
       "  -------\n",
       "  seqinfo: 39 sequences from an unspecified genome; no seqlengths\n",
       "\n",
       "$`19T`\n",
       "GRanges object with 19037893 ranges and 2 metadata columns:\n",
       "               seqnames      ranges strand |                 RG read_count\n",
       "                  <Rle>   <IRanges>  <Rle> |        <character>  <integer>\n",
       "         [1]       chr1 10151-10184      * | CTCTCAGAGTAGGAAG-1          1\n",
       "         [2]       chr1 10431-10534      * | TCCAGAACATGTCCCT-1          2\n",
       "         [3]       chr1 47068-47113      * | AGTGCGCTCACGTCAA-1          1\n",
       "         [4]       chr1 55289-55429      * | ACTTCCGGTTGCAGCC-1          1\n",
       "         [5]       chr1 62416-62457      * | AACGTACGTTGGTAAA-1          1\n",
       "         ...        ...         ...    ... .                ...        ...\n",
       "  [19037889] KI270713.1 34128-34171      * | GACTAGTAGGTGTTGG-1          3\n",
       "  [19037890] KI270713.1 36867-36905      * | TAAGCCACAACGGGTA-1          6\n",
       "  [19037891] KI270713.1 36872-36916      * | CAACCAAGTACGAGAC-1          1\n",
       "  [19037892] KI270713.1 36877-36928      * | GAGCGCTGTTATCGAC-1          1\n",
       "  [19037893] KI270713.1 37271-37430      * | TGGCCTTGTCTGGATT-1          1\n",
       "  -------\n",
       "  seqinfo: 39 sequences from an unspecified genome; no seqlengths\n",
       "\n",
       "$`20T`\n",
       "GRanges object with 4892928 ranges and 2 metadata columns:\n",
       "              seqnames        ranges strand |                 RG read_count\n",
       "                 <Rle>     <IRanges>  <Rle> |        <character>  <integer>\n",
       "        [1]       chr1   10156-10184      * | TGGTCAACAATTAGGA-1          1\n",
       "        [2]       chr1   13283-13362      * | GCTTTCGCAACTCGAT-1          2\n",
       "        [3]       chr1   13295-13500      * | GGATAGGCAGATGGCA-1          1\n",
       "        [4]       chr1   13302-13532      * | AAACTGCGTTGCTTGA-1          1\n",
       "        [5]       chr1 127777-127820      * | CCTGCTAGTGCATCAT-1          2\n",
       "        ...        ...           ...    ... .                ...        ...\n",
       "  [4892924] KI270713.1   27190-27253      * | GGTAGGAAGGCGTAGT-1          3\n",
       "  [4892925] KI270713.1   27253-27305      * | GGTAGGAAGGCGTAGT-1          3\n",
       "  [4892926] KI270713.1   30428-30615      * | TACTAGGGTGGCCTTG-1          1\n",
       "  [4892927] KI270713.1   30559-30599      * | GTGCCAGAGTACGCGA-1          1\n",
       "  [4892928] KI270713.1   36223-36369      * | TTAACGGCAGTAAGAT-1          1\n",
       "  -------\n",
       "  seqinfo: 38 sequences from an unspecified genome; no seqlengths\n",
       "\n",
       "$`21T`\n",
       "GRanges object with 64001680 ranges and 2 metadata columns:\n",
       "               seqnames      ranges strand |                 RG read_count\n",
       "                  <Rle>   <IRanges>  <Rle> |        <character>  <integer>\n",
       "         [1]       chr1 10084-10297      * | ATCCAGAGTGGAAAGA-1          1\n",
       "         [2]       chr1 10084-10428      * | GCGATTACATCACAAC-1          1\n",
       "         [3]       chr1 10151-10191      * | CCGTAGGAGAGTCCGA-1          3\n",
       "         [4]       chr1 10156-10210      * | GCTTGCTGTAGGGTTG-1          1\n",
       "         [5]       chr1 10163-10209      * | TAAACCGAGGTCTTTG-1          1\n",
       "         ...        ...         ...    ... .                ...        ...\n",
       "  [64001676] KI270713.1 34116-34257      * | GAAACAATCCCGCAAG-1          1\n",
       "  [64001677] KI270713.1 36291-36352      * | GTAGTACCACTGTAAC-1          3\n",
       "  [64001678] KI270713.1 36867-36925      * | CAACGGCGTCCATTGA-1          2\n",
       "  [64001679] KI270713.1 37274-37452      * | TCGCCTAGTTTCCTAT-1          2\n",
       "  [64001680] KI270713.1 37276-37436      * | AACGGGACATCGTACA-1          1\n",
       "  -------\n",
       "  seqinfo: 39 sequences from an unspecified genome; no seqlengths\n",
       "\n",
       "$`22T`\n",
       "GRanges object with 11349621 ranges and 2 metadata columns:\n",
       "               seqnames      ranges strand |                 RG read_count\n",
       "                  <Rle>   <IRanges>  <Rle> |        <character>  <integer>\n",
       "         [1]       chr1 10073-10279      * | CTCACCAGTAGACACG-1          1\n",
       "         [2]       chr1 16228-16275      * | GAATCTGTCTGTGTCC-1          1\n",
       "         [3]       chr1 55507-55665      * | ACTGCGGTCCTGTAGA-1          2\n",
       "         [4]       chr1 64629-64706      * | CGCAATAAGTCCTTCC-1          1\n",
       "         [5]       chr1 65989-66138      * | GAAAGTACAGAACGAC-1          1\n",
       "         ...        ...         ...    ... .                ...        ...\n",
       "  [11349617] KI270713.1 31957-32338      * | TGATGCACAACTCGAT-1          1\n",
       "  [11349618] KI270713.1 32838-33200      * | GCGAGTCAGGTACACG-1          2\n",
       "  [11349619] KI270713.1 33472-33624      * | GGCACGTTCCAAGAGG-1          1\n",
       "  [11349620] KI270713.1 37658-37691      * | GAGACTTTCTACTTTG-1          1\n",
       "  [11349621] KI270713.1 39017-39338      * | CGCAGGTGTGAAACAT-1          3\n",
       "  -------\n",
       "  seqinfo: 38 sequences from an unspecified genome; no seqlengths\n"
      ]
     },
     "metadata": {},
     "output_type": "display_data"
    }
   ],
   "source": [
    "gr_list <- list()\n",
    "\n",
    "for (batch in batches) {\n",
    "    print(paste0(dataPath, \"/\", batch,\"/\", \"fragments.tsv.gz\"))\n",
    "    df <- fread(paste0(dataPath, \"/\", batch,\"/\", \"fragments.tsv.gz\"), sep = \"\\t\", header = FALSE)\n",
    "    colnames(df) <- c(\"chr\", \"start\", \"end\", \"barcode\", \"read_count\")\n",
    "    metadata <- as.data.frame(proj@cellColData)\n",
    "    cell_barcodes <- rownames(metadata)[metadata$Sample == batch]\n",
    "    cell_barcodes <- sub(\"^[^#]+#\", \"\", cell_barcodes)\n",
    "    cells <- df[barcode %in% cell_barcodes]\n",
    "    gr <- GRanges(\n",
    "        seqnames = cells$chr,\n",
    "        ranges = IRanges(start = cells$start, end = cells$end),\n",
    "        RG = cells$barcode,\n",
    "        read_count = cells$read_count\n",
    "    )\n",
    "    gr\n",
    "    gr_list[[batch]] <- gr\n",
    "}\n",
    "gr_list"
   ]
  },
  {
   "cell_type": "code",
   "execution_count": 12,
   "metadata": {
    "vscode": {
     "languageId": "r"
    }
   },
   "outputs": [
    {
     "data": {
      "text/plain": [
       "GRanges object with 103223445 ranges and 2 metadata columns:\n",
       "                seqnames      ranges strand |                 RG read_count\n",
       "                   <Rle>   <IRanges>  <Rle> |        <character>  <integer>\n",
       "          [1]       chr1 10086-10346      * | CGTACAAAGTGTTCCA-1          1\n",
       "          [2]       chr1 13283-13362      * | GAGTGAGGTGGCATAG-1          3\n",
       "          [3]       chr1 47091-47138      * | GCTGAGCAGGCCTAAG-1          1\n",
       "          [4]       chr1 55970-56010      * | GAGGATGTCGGGAAAC-1          2\n",
       "          [5]       chr1 64822-64979      * | CAAAGCTCAGGCATTT-1          1\n",
       "          ...        ...         ...    ... .                ...        ...\n",
       "  [103223441] KI270713.1 34128-34171      * | GACTAGTAGGTGTTGG-1          3\n",
       "  [103223442] KI270713.1 36867-36905      * | TAAGCCACAACGGGTA-1          6\n",
       "  [103223443] KI270713.1 36872-36916      * | CAACCAAGTACGAGAC-1          1\n",
       "  [103223444] KI270713.1 36877-36928      * | GAGCGCTGTTATCGAC-1          1\n",
       "  [103223445] KI270713.1 37271-37430      * | TGGCCTTGTCTGGATT-1          1\n",
       "  -------\n",
       "  seqinfo: 39 sequences from an unspecified genome; no seqlengths"
      ]
     },
     "metadata": {},
     "output_type": "display_data"
    }
   ],
   "source": [
    "all_gr <- c(gr_list[[\"11T\"]], gr_list[[\"12N\"]], gr_list[[\"12T\"]], gr_list[[\"13T\"]], gr_list[[\"19T\"]])\n",
    "all_gr"
   ]
  },
  {
   "cell_type": "code",
   "execution_count": 13,
   "metadata": {
    "vscode": {
     "languageId": "r"
    }
   },
   "outputs": [],
   "source": [
    "saveRDS(all_gr, file = \"./ArchRProject_epithelial/epithelial_gr.rds\")"
   ]
  }
 ],
 "metadata": {
  "kernelspec": {
   "display_name": "R",
   "language": "R",
   "name": "ir"
  },
  "language_info": {
   "codemirror_mode": "r",
   "file_extension": ".r",
   "mimetype": "text/x-r-source",
   "name": "R",
   "pygments_lexer": "r",
   "version": "4.4.1"
  }
 },
 "nbformat": 4,
 "nbformat_minor": 2
}
