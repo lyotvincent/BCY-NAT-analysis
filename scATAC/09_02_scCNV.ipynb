{
 "cells": [
  {
   "cell_type": "code",
   "execution_count": 9,
   "metadata": {
    "vscode": {
     "languageId": "r"
    }
   },
   "outputs": [],
   "source": [
    "suppressMessages(library(ggplot2))\n",
    "suppressMessages(library(ArchR))\n",
    "suppressMessages(library(Seurat))\n",
    "suppressMessages(library(Signac))\n",
    "suppressMessages(library(rtracklayer))\n",
    "suppressMessages(library(BSgenome.Hsapiens.UCSC.hg38))"
   ]
  },
  {
   "cell_type": "code",
   "execution_count": 10,
   "metadata": {
    "vscode": {
     "languageId": "r"
    }
   },
   "outputs": [
    {
     "name": "stderr",
     "output_type": "stream",
     "text": [
      "Setting default number of Parallel threads to 64.\n",
      "\n"
     ]
    }
   ],
   "source": [
    "set.seed(42)\n",
    "addArchRThreads(threads = 64)"
   ]
  },
  {
   "cell_type": "code",
   "execution_count": 11,
   "metadata": {
    "vscode": {
     "languageId": "r"
    }
   },
   "outputs": [],
   "source": [
    "epi_fragments <- readRDS(\"./ArchRProject_epithelial/epithelial_gr.rds\")\n",
    "blacklist <- import.bed(\"/data/hanxue/BCY_ATAC/blacklist/hg38-blacklist.v2.bed\")"
   ]
  },
  {
   "cell_type": "code",
   "execution_count": 12,
   "metadata": {
    "vscode": {
     "languageId": "r"
    }
   },
   "outputs": [
    {
     "data": {
      "text/plain": [
       "GRanges object with 103223445 ranges and 2 metadata columns:\n",
       "                seqnames      ranges strand |                 RG read_count\n",
       "                   <Rle>   <IRanges>  <Rle> |        <character>  <integer>\n",
       "          [1]       chr1 10086-10346      * | CGTACAAAGTGTTCCA-1          1\n",
       "          [2]       chr1 13283-13362      * | GAGTGAGGTGGCATAG-1          3\n",
       "          [3]       chr1 47091-47138      * | GCTGAGCAGGCCTAAG-1          1\n",
       "          [4]       chr1 55970-56010      * | GAGGATGTCGGGAAAC-1          2\n",
       "          [5]       chr1 64822-64979      * | CAAAGCTCAGGCATTT-1          1\n",
       "          ...        ...         ...    ... .                ...        ...\n",
       "  [103223441] KI270713.1 34128-34171      * | GACTAGTAGGTGTTGG-1          3\n",
       "  [103223442] KI270713.1 36867-36905      * | TAAGCCACAACGGGTA-1          6\n",
       "  [103223443] KI270713.1 36872-36916      * | CAACCAAGTACGAGAC-1          1\n",
       "  [103223444] KI270713.1 36877-36928      * | GAGCGCTGTTATCGAC-1          1\n",
       "  [103223445] KI270713.1 37271-37430      * | TGGCCTTGTCTGGATT-1          1\n",
       "  -------\n",
       "  seqinfo: 39 sequences from an unspecified genome; no seqlengths"
      ]
     },
     "metadata": {},
     "output_type": "display_data"
    }
   ],
   "source": [
    "epi_fragments"
   ]
  },
  {
   "cell_type": "code",
   "execution_count": 13,
   "metadata": {
    "vscode": {
     "languageId": "r"
    }
   },
   "outputs": [],
   "source": [
    "\"%ni%\" <- Negate(\"%in%\")"
   ]
  },
  {
   "cell_type": "code",
   "execution_count": 14,
   "metadata": {
    "vscode": {
     "languageId": "r"
    }
   },
   "outputs": [],
   "source": [
    "countInsertions <- function(query, fragments, by = \"RG\"){\n",
    "  # Count By Fragments Insertions\n",
    "  # 统计在给定基因组查询区域query（指windows）中的fragments的插入数（插入数：每个fragment片段有start和end两个插入点）\n",
    "\n",
    "  # inserts（start-end）\n",
    "  inserts <- c(\n",
    "    GRanges(seqnames = seqnames(fragments), ranges = IRanges(start(fragments), start(fragments)), RG = mcols(fragments)[,by]),\n",
    "    GRanges(seqnames = seqnames(fragments), ranges = IRanges(end(fragments), end(fragments)), RG = mcols(fragments)[,by])\n",
    "  )\n",
    "  # 重叠计算 - query与inserts之间的重叠\n",
    "  by <- \"RG\"\n",
    "  overlapDF <- DataFrame(findOverlaps(query, inserts, ignore.strand = TRUE, maxgap=-1L, minoverlap=0L, type = \"any\"))\n",
    "  overlapDF$name <- mcols(inserts)[overlapDF[, 2], by]\n",
    "  overlapTDF <- transform(overlapDF, id = match(name, unique(name)))\n",
    "  # Calculate Overlap Stats\n",
    "  # 计算重叠统计\n",
    "  ## inPeaks：在query中的插入位置\n",
    "  ## total：在query中的总插入数\n",
    "  ## frip：在query中的inPeaks占总插入数的比例\n",
    "  inPeaks <- table(overlapDF$name)\n",
    "  total <- table(mcols(inserts)[, by])\n",
    "  total <- total[names(inPeaks)]\n",
    "  frip <- inPeaks / total\n",
    "  # Summarize\n",
    "  # 生成稀疏矩阵\n",
    "  ## 行表示查询区域\n",
    "  ## 列表示插入位置\n",
    "  sparseM <- Matrix::sparseMatrix(\n",
    "    i = overlapTDF[, 1], \n",
    "    j = overlapTDF[, 4],\n",
    "    x = rep(1, nrow(overlapTDF)), \n",
    "    dims = c(length(query), length(unique(overlapDF$name))))\n",
    "  colnames(sparseM) <- unique(overlapDF$name)\n",
    "  total <- total[colnames(sparseM)]\n",
    "  frip <- frip[colnames(sparseM)]\n",
    "  out <- list(counts = sparseM, frip = frip, total = total)\n",
    "  return(out)\n",
    "}"
   ]
  },
  {
   "cell_type": "code",
   "execution_count": 15,
   "metadata": {
    "vscode": {
     "languageId": "r"
    }
   },
   "outputs": [],
   "source": [
    "makeWindows <- function(genome, blacklist, windowSize = 10e6, slidingSize = 2e6){\n",
    "\t# 在给定基因组（参考基因组）中生成窗口（windowSize, slidingSize），过滤黑名单区域，添加核苷酸信息（GC、AT含量）\n",
    "\t## genome：参考基因组\n",
    "\t## blacklist：黑名单\n",
    "\t## windowSize：窗口大小，默认10Mb\n",
    "\t## slidingSize：滑动步长，默认2Mb\n",
    "\tchromSizes <- GRanges(names(seqlengths(genome)), IRanges(1, seqlengths(genome)))\n",
    "\t### 去除非标准染色体\n",
    "\tchromSizes <- GenomeInfoDb::keepStandardChromosomes(chromSizes, pruning.mode = \"coarse\")\n",
    "\twindows <- slidingWindows(x = chromSizes, width = windowSize, step = slidingSize) %>% unlist %>% .[which(width(.)==windowSize),]\n",
    "\tmcols(windows)$wSeq <- as.character(seqnames(windows))\n",
    "  \tmcols(windows)$wStart <- start(windows)\n",
    "  \tmcols(windows)$wEnd <- end(windows)\n",
    "\tmessage(\"Subtracting Blacklist...\")\n",
    "\t### 去掉黑名单区域\n",
    "\twindowsBL <- lapply(seq_along(windows), function(x){\n",
    "\t\t\tif(x %% 100 == 0){\n",
    "\t\t\t\tmessage(sprintf(\"%s of %s\", x, length(windows)))\n",
    "\t\t\t}\n",
    "\t\t\tgr <- GenomicRanges::setdiff(windows[x,], blacklist)\n",
    "\t\t\tmcols(gr) <- mcols(windows[x,])\n",
    "\t\t\treturn(gr)\n",
    "\t\t})\n",
    "\tnames(windowsBL) <- paste0(\"w\",seq_along(windowsBL))\n",
    "\twindowsBL <- unlist(GRangesList(windowsBL), use.names = TRUE)\n",
    "\tmcols(windowsBL)$name <- names(windowsBL)\n",
    "\t### 添加核苷酸信息\n",
    "\tmessage(\"Adding Nucleotide Information...\")\n",
    "\twindowSplit <- split(windowsBL, as.character(seqnames(windowsBL)))\n",
    "\twindowNuc <- lapply(seq_along(windowSplit), function(x){\n",
    "\t\tmessage(sprintf(\"%s of %s\", x, length(windowSplit)))\n",
    "\t    chrSeq <- Biostrings::getSeq(genome,chromSizes[which(seqnames(chromSizes)==names(windowSplit)[x])])\n",
    "\t    grx <- windowSplit[[x]]\n",
    "\t    aFreq <- alphabetFrequency(Biostrings::Views(chrSeq[[1]], ranges(grx)))\n",
    "\t    mcols(grx)$GC <- rowSums(aFreq[, c(\"G\",\"C\")]) / rowSums(aFreq)\n",
    "\t    mcols(grx)$AT <- rowSums(aFreq[, c(\"A\",\"T\")]) / rowSums(aFreq)\n",
    "\t    return(grx)\n",
    "\t  }) %>% GRangesList %>% unlist %>% sortSeqlevels %>% sort\n",
    "\t### N非GC和AT的比例\n",
    "\twindowNuc$N <- 1 - (windowNuc$GC + windowNuc$AT)\n",
    "\twindowNuc\n",
    "}"
   ]
  },
  {
   "cell_type": "code",
   "execution_count": 16,
   "metadata": {
    "vscode": {
     "languageId": "r"
    }
   },
   "outputs": [],
   "source": [
    "scCNA <- function(windows, fragments, neighbors = 100, LFC = 1.5, FDR = 0.1, force = FALSE, remove = c(\"chrM\",\"chrX\",\"chrY\")){\n",
    "\t# 从scATAC-seq数据中推断CNA\n",
    "\t## windows：一个 GRanges 对象，表示参考基因组生成的窗口。\n",
    "\t## fragments：一个 GRanges 对象，表示 scATAC-seq 数据的片段\n",
    "\t## neighbors：用于背景计算的邻居数（默认值为100）即为GC相似的邻居数\n",
    "\t## LFC：log2FC的阈值（默认值为1.5）\n",
    "\t## FDR：假发现率的阈值（默认值为0.1）\n",
    "\t## force：如果背景均值为0时是否强制继续计算\n",
    "\t## remove：需要去除的染色体（如c(\"chrM\",\"chrX\",\"chrY\")）\n",
    "\t# 只保存标准染色体上的区域\n",
    "\twindows   <- GenomeInfoDb::keepStandardChromosomes(windows, pruning.mode = \"coarse\")\n",
    "\tfragments <- GenomeInfoDb::keepStandardChromosomes(fragments, pruning.mode = \"coarse\")\n",
    "\twindows <- windows[seqnames(windows) %ni% remove]\n",
    "\tfragments <- fragments[seqnames(fragments) %ni% remove]\n",
    "\n",
    "\t# 计算窗口内的插入数\n",
    "\tmessage(\"Getting Counts...\")\n",
    "\tcounts <- countInsertions(windows, fragments, by = \"RG\")[[1]]\n",
    "\tmessage(\"Summarizing...\")\n",
    "\t# 总结窗口信息：长度、GC、AT、N含量等，保存在windowSummary中\n",
    "\t# windowSummary <- GenomicRangesList()\n",
    "\twindowSummary <- GRangesList()\n",
    "\tcountSummary <- matrix(nrow=length(unique(windows$name)), ncol = ncol(counts))\n",
    "\tfor(x in seq_along(unique(mcols(windows)$name))){\n",
    "\t\tif(x %% 100 == 0){\n",
    "\t\t\tmessage(sprintf(\"%s of %s\", x, length(unique(mcols(windows)$name))))\n",
    "\t\t}\n",
    "\t\tidx <- which(mcols(windows)$name == unique(mcols(windows)$name)[x])\n",
    "\t\twx <- windows[idx,]\n",
    "\t\two <- GRanges(mcols(wx)$wSeq , ranges = IRanges(mcols(wx)$wStart, mcols(wx)$wEnd))[1,]\n",
    "\t\tmcols(wo)$name <- mcols(wx)$name[1]\n",
    "\t\tmcols(wo)$effectiveLength <- sum(width(wx))\n",
    "\t\tmcols(wo)$percentEffectiveLength <- 100*sum(width(wx))/width(wo)\n",
    "\t\tmcols(wo)$GC <- sum(mcols(wx)$GC * width(wx))/width(wo)\n",
    "\t\tmcols(wo)$AT <- sum(mcols(wx)$AT * width(wx))/width(wo)\n",
    "\t\tmcols(wo)$N <- sum(mcols(wx)$N * width(wx))/width(wo)\n",
    "\t\tcountSummary[x,] <- Matrix::colSums(counts[idx,,drop=FALSE])\n",
    "\t\twindowSummary[[x]] <- wo\n",
    "\t}\n",
    "\twindowSummary <- unlist(windowSummary)\n",
    "\t\n",
    "\t# Keep only regions with less than 0.1% N\n",
    "\t# 过滤低质量窗口，即N含量大于0.1%的窗口\n",
    "\tkeep <- which(windowSummary$N < 0.001) \n",
    "\twindowSummary <- windowSummary[keep,]\n",
    "\tcountSummary <- countSummary[keep,]\n",
    "\t\n",
    "\t# Now determine the nearest neighbors by GC content\n",
    "\t# 计算背景\n",
    "\tmessage(\"Computing Background...\")\n",
    "\t### 初始化，增加背景均值、标准差、log2FC、z值、p值\n",
    "\tbdgMean <- matrix(nrow=nrow(countSummary), ncol=ncol(countSummary))\n",
    "\tbdgSd <- matrix(nrow=nrow(countSummary), ncol=ncol(countSummary))\n",
    "\tlog2FC <- matrix(nrow=nrow(countSummary), ncol=ncol(countSummary))\n",
    "\tz <- matrix(nrow=nrow(countSummary), ncol=ncol(countSummary))\n",
    "\tpval <- matrix(nrow=nrow(countSummary), ncol=ncol(countSummary))\n",
    "\n",
    "\tfor(x in seq_len(nrow(countSummary))){\n",
    "\t\tif(x %% 100 == 0){\n",
    "\t\t\tmessage(sprintf(\"%s of %s\", x, nrow(countSummary)))\n",
    "\t\t}\n",
    "\t\t## 确定GC含量最接近的windows作为背景。\n",
    "\t\t#Get Nearest Indices\n",
    "\t\tidxNN <- head(order(abs(windowSummary$GC[x] - windowSummary$GC)), neighbors + 1)\n",
    "\t\tidxNN <- idxNN[idxNN %ni% x]\n",
    "\t\t#Background\n",
    "\t\t## 计算 \n",
    "\t\tif(any(colMeans(countSummary[idxNN, ])==0)){\n",
    "\t\t\tif(force){\n",
    "\t\t\t\tmessage(\"Warning! Background Mean = 0 Try a higher neighbor count or remove cells with 0 in colMins\")\n",
    "\t\t\t}else{\n",
    "\t\t\t\tstop(\"Background Mean = 0!\")\n",
    "\t\t\t}\n",
    "\t\t}\n",
    "\t\tbdgMean[x, ] <- colMeans(countSummary[idxNN, ])\n",
    "\t\tbdgSd[x, ] <- matrixStats::colSds(countSummary[idxNN, ])\n",
    "\t\tlog2FC[x, ] <- log2((countSummary[x, ]+1e-5) / (bdgMean[x, ]+1e-5))\n",
    "\t\tz[x, ] <- (countSummary[x,] - bdgMean[x, ]) / bdgSd[x, ]\n",
    "\t\tpval[x, ] <- 2*pnorm(-abs(z[x, ]))\n",
    "\t}\n",
    "\t## 调整p值\n",
    "\tpadj <- apply(pval, 2, function(x) p.adjust(x, method = \"fdr\"))\n",
    "\t## CNA\n",
    "\tCNA <- matrix(0, nrow=nrow(countSummary), ncol=ncol(countSummary))\n",
    "\t### 满足条件的设置为1\n",
    "\tCNA[which(log2FC >= LFC & padj <= FDR)] <- 1\n",
    "\t## 返回SummarizedExperiment对象\n",
    "\tse <- SummarizedExperiment(\n",
    "\t\tassays = SimpleList(\n",
    "\t\t\t\tCNA = CNA,\n",
    "\t\t\t\tcounts = countSummary,\n",
    "\t\t\t\tlog2FC = log2FC,\n",
    "\t\t\t\tpadj = padj,\n",
    "\t\t\t\tpval = pval,\n",
    "\t\t\t\tz = z,\n",
    "\t\t\t\tbdgMean = bdgMean,\n",
    "\t\t\t\tbdgSd = bdgSd\n",
    "\t\t\t),\n",
    "\t\trowRanges = windowSummary\n",
    "\t)\n",
    "\tcolnames(se) <- colnames(counts)\n",
    "\n",
    "\treturn(se)\n",
    "}"
   ]
  },
  {
   "cell_type": "markdown",
   "metadata": {},
   "source": [
    "### scATAC-seq推测拷贝数变异\n",
    " - 基因组上较大间隔（bins）上的read counts。\n",
    " - GC-matched 平均read counts\n",
    " "
   ]
  },
  {
   "cell_type": "code",
   "execution_count": 17,
   "metadata": {
    "vscode": {
     "languageId": "r"
    }
   },
   "outputs": [
    {
     "name": "stderr",
     "output_type": "stream",
     "text": [
      "Subtracting Blacklist...\n",
      "\n",
      "100 of 1438\n",
      "\n",
      "200 of 1438\n",
      "\n",
      "300 of 1438\n",
      "\n",
      "400 of 1438\n",
      "\n",
      "500 of 1438\n",
      "\n",
      "600 of 1438\n",
      "\n",
      "700 of 1438\n",
      "\n",
      "800 of 1438\n",
      "\n",
      "900 of 1438\n",
      "\n",
      "1000 of 1438\n",
      "\n",
      "1100 of 1438\n",
      "\n",
      "1200 of 1438\n",
      "\n",
      "1300 of 1438\n",
      "\n",
      "1400 of 1438\n",
      "\n",
      "Adding Nucleotide Information...\n",
      "\n",
      "1 of 24\n",
      "\n",
      "2 of 24\n",
      "\n",
      "3 of 24\n",
      "\n",
      "4 of 24\n",
      "\n",
      "5 of 24\n",
      "\n",
      "6 of 24\n",
      "\n",
      "7 of 24\n",
      "\n",
      "8 of 24\n",
      "\n",
      "9 of 24\n",
      "\n",
      "10 of 24\n",
      "\n",
      "11 of 24\n",
      "\n",
      "12 of 24\n",
      "\n",
      "13 of 24\n",
      "\n",
      "14 of 24\n",
      "\n",
      "15 of 24\n",
      "\n",
      "16 of 24\n",
      "\n",
      "17 of 24\n",
      "\n",
      "18 of 24\n",
      "\n",
      "19 of 24\n",
      "\n",
      "20 of 24\n",
      "\n",
      "21 of 24\n",
      "\n",
      "22 of 24\n",
      "\n",
      "23 of 24\n",
      "\n",
      "24 of 24\n",
      "\n"
     ]
    }
   ],
   "source": [
    "windows <- makeWindows(genome = BSgenome.Hsapiens.UCSC.hg38, blacklist)"
   ]
  },
  {
   "cell_type": "code",
   "execution_count": 18,
   "metadata": {
    "vscode": {
     "languageId": "r"
    }
   },
   "outputs": [
    {
     "name": "stderr",
     "output_type": "stream",
     "text": [
      "Getting Counts...\n",
      "\n",
      "Summarizing...\n",
      "\n",
      "100 of 1323\n",
      "\n",
      "Warning message in .merge_two_Seqinfo_objects(x, y):\n",
      "“The 2 combined objects have no sequence levels in common. (Use\n",
      "  suppressWarnings() to suppress this warning.)”\n",
      "200 of 1323\n",
      "\n",
      "Warning message in .merge_two_Seqinfo_objects(x, y):\n",
      "“The 2 combined objects have no sequence levels in common. (Use\n",
      "  suppressWarnings() to suppress this warning.)”\n",
      "300 of 1323\n",
      "\n",
      "Warning message in .merge_two_Seqinfo_objects(x, y):\n",
      "“The 2 combined objects have no sequence levels in common. (Use\n",
      "  suppressWarnings() to suppress this warning.)”\n",
      "400 of 1323\n",
      "\n",
      "Warning message in .merge_two_Seqinfo_objects(x, y):\n",
      "“The 2 combined objects have no sequence levels in common. (Use\n",
      "  suppressWarnings() to suppress this warning.)”\n",
      "500 of 1323\n",
      "\n",
      "Warning message in .merge_two_Seqinfo_objects(x, y):\n",
      "“The 2 combined objects have no sequence levels in common. (Use\n",
      "  suppressWarnings() to suppress this warning.)”\n",
      "Warning message in .merge_two_Seqinfo_objects(x, y):\n",
      "“The 2 combined objects have no sequence levels in common. (Use\n",
      "  suppressWarnings() to suppress this warning.)”\n",
      "600 of 1323\n",
      "\n",
      "Warning message in .merge_two_Seqinfo_objects(x, y):\n",
      "“The 2 combined objects have no sequence levels in common. (Use\n",
      "  suppressWarnings() to suppress this warning.)”\n",
      "700 of 1323\n",
      "\n",
      "Warning message in .merge_two_Seqinfo_objects(x, y):\n",
      "“The 2 combined objects have no sequence levels in common. (Use\n",
      "  suppressWarnings() to suppress this warning.)”\n",
      "Warning message in .merge_two_Seqinfo_objects(x, y):\n",
      "“The 2 combined objects have no sequence levels in common. (Use\n",
      "  suppressWarnings() to suppress this warning.)”\n",
      "800 of 1323\n",
      "\n",
      "Warning message in .merge_two_Seqinfo_objects(x, y):\n",
      "“The 2 combined objects have no sequence levels in common. (Use\n",
      "  suppressWarnings() to suppress this warning.)”\n",
      "900 of 1323\n",
      "\n",
      "Warning message in .merge_two_Seqinfo_objects(x, y):\n",
      "“The 2 combined objects have no sequence levels in common. (Use\n",
      "  suppressWarnings() to suppress this warning.)”\n",
      "Warning message in .merge_two_Seqinfo_objects(x, y):\n",
      "“The 2 combined objects have no sequence levels in common. (Use\n",
      "  suppressWarnings() to suppress this warning.)”\n",
      "1000 of 1323\n",
      "\n",
      "Warning message in .merge_two_Seqinfo_objects(x, y):\n",
      "“The 2 combined objects have no sequence levels in common. (Use\n",
      "  suppressWarnings() to suppress this warning.)”\n",
      "Warning message in .merge_two_Seqinfo_objects(x, y):\n",
      "“The 2 combined objects have no sequence levels in common. (Use\n",
      "  suppressWarnings() to suppress this warning.)”\n",
      "1100 of 1323\n",
      "\n",
      "Warning message in .merge_two_Seqinfo_objects(x, y):\n",
      "“The 2 combined objects have no sequence levels in common. (Use\n",
      "  suppressWarnings() to suppress this warning.)”\n",
      "Warning message in .merge_two_Seqinfo_objects(x, y):\n",
      "“The 2 combined objects have no sequence levels in common. (Use\n",
      "  suppressWarnings() to suppress this warning.)”\n",
      "Warning message in .merge_two_Seqinfo_objects(x, y):\n",
      "“The 2 combined objects have no sequence levels in common. (Use\n",
      "  suppressWarnings() to suppress this warning.)”\n",
      "1200 of 1323\n",
      "\n",
      "Warning message in .merge_two_Seqinfo_objects(x, y):\n",
      "“The 2 combined objects have no sequence levels in common. (Use\n",
      "  suppressWarnings() to suppress this warning.)”\n",
      "Warning message in .merge_two_Seqinfo_objects(x, y):\n",
      "“The 2 combined objects have no sequence levels in common. (Use\n",
      "  suppressWarnings() to suppress this warning.)”\n",
      "Warning message in .merge_two_Seqinfo_objects(x, y):\n",
      "“The 2 combined objects have no sequence levels in common. (Use\n",
      "  suppressWarnings() to suppress this warning.)”\n",
      "1300 of 1323\n",
      "\n",
      "Warning message in .merge_two_Seqinfo_objects(x, y):\n",
      "“The 2 combined objects have no sequence levels in common. (Use\n",
      "  suppressWarnings() to suppress this warning.)”\n",
      "Computing Background...\n",
      "\n",
      "100 of 1190\n",
      "\n",
      "200 of 1190\n",
      "\n",
      "300 of 1190\n",
      "\n",
      "400 of 1190\n",
      "\n",
      "500 of 1190\n",
      "\n",
      "600 of 1190\n",
      "\n",
      "700 of 1190\n",
      "\n",
      "800 of 1190\n",
      "\n",
      "900 of 1190\n",
      "\n",
      "1000 of 1190\n",
      "\n",
      "1100 of 1190\n",
      "\n"
     ]
    }
   ],
   "source": [
    "cnaObj <- scCNA(windows, epi_fragments, neighbors = 100, LFC = 1.5, FDR = 0.1, force = FALSE, remove = c(\"chrM\",\"chrX\",\"chrY\"))"
   ]
  },
  {
   "cell_type": "code",
   "execution_count": 19,
   "metadata": {
    "vscode": {
     "languageId": "r"
    }
   },
   "outputs": [],
   "source": [
    "saveRDS(cnaObj, \"./ArchRProject_epithelial/epithelial_cna.rds\")"
   ]
  }
 ],
 "metadata": {
  "kernelspec": {
   "display_name": "R",
   "language": "R",
   "name": "ir"
  },
  "language_info": {
   "codemirror_mode": "r",
   "file_extension": ".r",
   "mimetype": "text/x-r-source",
   "name": "R",
   "pygments_lexer": "r",
   "version": "4.4.1"
  }
 },
 "nbformat": 4,
 "nbformat_minor": 2
}
