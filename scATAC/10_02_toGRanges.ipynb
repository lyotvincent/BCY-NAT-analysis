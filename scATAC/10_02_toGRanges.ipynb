{
 "cells": [
  {
   "cell_type": "code",
   "execution_count": 1,
   "metadata": {
    "vscode": {
     "languageId": "r"
    }
   },
   "outputs": [],
   "source": [
    "suppressMessages(library(GenomicRanges))\n",
    "suppressMessages(library(GenomeInfoDb))\n",
    "suppressMessages(library(data.table))\n",
    "suppressMessages(library(ggplot2))\n",
    "suppressMessages(library(ArchR))\n",
    "suppressMessages(library(Seurat))\n",
    "suppressMessages(library(Signac))"
   ]
  },
  {
   "cell_type": "code",
   "execution_count": 2,
   "metadata": {
    "vscode": {
     "languageId": "r"
    }
   },
   "outputs": [
    {
     "name": "stderr",
     "output_type": "stream",
     "text": [
      "Setting default number of Parallel threads to 64.\n",
      "\n"
     ]
    }
   ],
   "source": [
    "set.seed(42)\n",
    "addArchRThreads(threads = 64)"
   ]
  },
  {
   "cell_type": "code",
   "execution_count": 3,
   "metadata": {
    "vscode": {
     "languageId": "r"
    }
   },
   "outputs": [
    {
     "name": "stderr",
     "output_type": "stream",
     "text": [
      "Successfully loaded ArchRProject!\n",
      "\n"
     ]
    }
   ],
   "source": [
    "proj <- loadArchRProject(\"./ArchRProject_T\", showLogo = FALSE)"
   ]
  },
  {
   "cell_type": "code",
   "execution_count": 4,
   "metadata": {
    "vscode": {
     "languageId": "r"
    }
   },
   "outputs": [],
   "source": [
    "dataPath = \"/data/hanxue/BCY_ATAC/scATAC/fragments\"\n",
    "batches <- c(\"10T\", \"10N\", \"11T\", \"12N\", \"12T\", \"13T\", \"18T\", \"19T\", \"20T\", \"21T\", \"22T\")"
   ]
  },
  {
   "cell_type": "code",
   "execution_count": 5,
   "metadata": {
    "vscode": {
     "languageId": "r"
    }
   },
   "outputs": [
    {
     "name": "stdout",
     "output_type": "stream",
     "text": [
      "[1] \"/data/hanxue/BCY_ATAC/scATAC/fragments/10T/fragments.tsv.gz\"\n",
      "[1] \"/data/hanxue/BCY_ATAC/scATAC/fragments/10N/fragments.tsv.gz\"\n",
      "[1] \"/data/hanxue/BCY_ATAC/scATAC/fragments/11T/fragments.tsv.gz\"\n",
      "[1] \"/data/hanxue/BCY_ATAC/scATAC/fragments/12N/fragments.tsv.gz\"\n",
      "[1] \"/data/hanxue/BCY_ATAC/scATAC/fragments/12T/fragments.tsv.gz\"\n",
      "[1] \"/data/hanxue/BCY_ATAC/scATAC/fragments/13T/fragments.tsv.gz\"\n",
      "[1] \"/data/hanxue/BCY_ATAC/scATAC/fragments/18T/fragments.tsv.gz\"\n",
      "[1] \"/data/hanxue/BCY_ATAC/scATAC/fragments/19T/fragments.tsv.gz\"\n",
      "[1] \"/data/hanxue/BCY_ATAC/scATAC/fragments/20T/fragments.tsv.gz\"\n",
      "[1] \"/data/hanxue/BCY_ATAC/scATAC/fragments/21T/fragments.tsv.gz\"\n",
      "[1] \"/data/hanxue/BCY_ATAC/scATAC/fragments/22T/fragments.tsv.gz\"\n"
     ]
    },
    {
     "data": {
      "text/plain": [
       "$`10T`\n",
       "GRanges object with 770403 ranges and 2 metadata columns:\n",
       "             seqnames        ranges strand |                     RG read_count\n",
       "                <Rle>     <IRanges>  <Rle> |            <character>  <integer>\n",
       "       [1]       chr1 180885-180948      * | 10T#GTCCATCAGTGCTCGC-1          3\n",
       "       [2]       chr1 267965-268016      * | 10T#GTCTACCCATTACACG-1          3\n",
       "       [3]       chr1 267971-268031      * | 10T#TAGTCCCGTCTGTTGA-1          3\n",
       "       [4]       chr1 633996-634061      * | 10T#ACTGCGGCATTATGGC-1          1\n",
       "       [5]       chr1 634016-634068      * | 10T#AGGCCTGAGAAGACTT-1          3\n",
       "       ...        ...           ...    ... .                    ...        ...\n",
       "  [770399] KI270713.1   22160-22221      * | 10T#CCCACATTCACGATTG-1          1\n",
       "  [770400] KI270713.1   26721-26766      * | 10T#TAACAGCCAGGTGTGA-1          1\n",
       "  [770401] KI270713.1   28124-28330      * | 10T#TGGAAGGAGACTTGAA-1          1\n",
       "  [770402] KI270713.1   29096-29211      * | 10T#TGGACATGTTTCACCC-1          3\n",
       "  [770403] KI270713.1   32343-32599      * | 10T#TGGACATGTTTCACCC-1          1\n",
       "  -------\n",
       "  seqinfo: 33 sequences from an unspecified genome; no seqlengths\n",
       "\n",
       "$`10N`\n",
       "GRanges object with 15939381 ranges and 2 metadata columns:\n",
       "               seqnames      ranges strand |                     RG read_count\n",
       "                  <Rle>   <IRanges>  <Rle> |            <character>  <integer>\n",
       "         [1]       chr1 10132-10279      * | 10N#AACATCGAGTCCCTCT-1          1\n",
       "         [2]       chr1 10157-10214      * | 10N#CAGGGCTGTCCGTCGA-1          1\n",
       "         [3]       chr1 10168-10209      * | 10N#GATGGCCGTGTCTACA-1          3\n",
       "         [4]       chr1 10169-10215      * | 10N#GGACACCCACACTAGT-1          1\n",
       "         [5]       chr1 10256-10279      * | 10N#GATTGACAGAAACGCC-1          1\n",
       "         ...        ...         ...    ... .                    ...        ...\n",
       "  [15939377] KI270713.1 30055-30089      * | 10N#GAAAGTACACATTCTT-1          1\n",
       "  [15939378] KI270713.1 30290-30503      * | 10N#GAAGAGCTCGCACCTT-1          1\n",
       "  [15939379] KI270713.1 30294-30505      * | 10N#CGATGATTCAGGTCTA-1          1\n",
       "  [15939380] KI270713.1 31438-31475      * | 10N#TTTGGCCTCCACACCT-1          1\n",
       "  [15939381] KI270713.1 37294-37347      * | 10N#TTGACGAAGATCGCCC-1          2\n",
       "  -------\n",
       "  seqinfo: 39 sequences from an unspecified genome; no seqlengths\n",
       "\n",
       "$`11T`\n",
       "GRanges object with 26618545 ranges and 2 metadata columns:\n",
       "               seqnames      ranges strand |                     RG read_count\n",
       "                  <Rle>   <IRanges>  <Rle> |            <character>  <integer>\n",
       "         [1]       chr1 10132-10327      * | 11T#TATCGAGGTTGCCTGG-1          1\n",
       "         [2]       chr1 10151-10192      * | 11T#ACAAGCTGTTCCTATT-1          3\n",
       "         [3]       chr1 10151-10196      * | 11T#CCAGAATAGAATATCG-1          1\n",
       "         [4]       chr1 10163-10192      * | 11T#GTGACATGTGAGTCGA-1          1\n",
       "         [5]       chr1 10169-10209      * | 11T#GCTTTCGGTTCCTATT-1          1\n",
       "         ...        ...         ...    ... .                    ...        ...\n",
       "  [26618541] KI270713.1 34105-34157      * | 11T#GTCTACCCAGCTTACA-1          1\n",
       "  [26618542] KI270713.1 34826-34889      * | 11T#GGAGGATCATGGGACA-1          4\n",
       "  [26618543] KI270713.1 36239-36369      * | 11T#CCAGAATTCTGGCTAA-1          1\n",
       "  [26618544] KI270713.1 36276-36367      * | 11T#TCAAAGCAGATGCGCA-1          2\n",
       "  [26618545] KI270713.1 36500-36899      * | 11T#TTAGGTGGTGATGCTT-1          5\n",
       "  -------\n",
       "  seqinfo: 39 sequences from an unspecified genome; no seqlengths\n",
       "\n",
       "$`12N`\n",
       "GRanges object with 3031010 ranges and 2 metadata columns:\n",
       "              seqnames        ranges strand |                     RG read_count\n",
       "                 <Rle>     <IRanges>  <Rle> |            <character>  <integer>\n",
       "        [1]       chr1   10175-10204      * | 12N#GCCTACTTCCTGAAAC-1          2\n",
       "        [2]       chr1   79078-79148      * | 12N#GGAATCTCAGTGCTCG-1          1\n",
       "        [3]       chr1 180788-180819      * | 12N#CAAGAAAGTGCCCGAT-1          2\n",
       "        [4]       chr1 180886-180930      * | 12N#GGATGAGAGCGTTAGG-1          1\n",
       "        [5]       chr1 181470-181506      * | 12N#CCCAGAGTCGGATAGG-1          4\n",
       "        ...        ...           ...    ... .                    ...        ...\n",
       "  [3031006] KI270713.1   31679-31923      * | 12N#GATTGACGTTTCTACT-1          1\n",
       "  [3031007] KI270713.1   32458-32574      * | 12N#CTCACCAGTACCTATG-1          1\n",
       "  [3031008] KI270713.1   33148-33181      * | 12N#GCACCTTAGAAAGCAG-1          1\n",
       "  [3031009] KI270713.1   34414-34653      * | 12N#GTTACTTTCGCGCCAA-1          1\n",
       "  [3031010] KI270713.1   37661-37873      * | 12N#GTTACTTTCGCGCCAA-1          1\n",
       "  -------\n",
       "  seqinfo: 39 sequences from an unspecified genome; no seqlengths\n",
       "\n",
       "$`12T`\n",
       "GRanges object with 5765085 ranges and 2 metadata columns:\n",
       "              seqnames      ranges strand |                     RG read_count\n",
       "                 <Rle>   <IRanges>  <Rle> |            <character>  <integer>\n",
       "        [1]       chr1 10169-10192      * | 12T#GGTAGGAGTCCAAGAG-1          1\n",
       "        [2]       chr1 10272-10351      * | 12T#ACAAACCGTATTCGCA-1          1\n",
       "        [3]       chr1 58263-58476      * | 12T#CGCGCAAAGCGTCTGC-1          1\n",
       "        [4]       chr1 73218-73398      * | 12T#AAATGAGAGCCCATTA-1          1\n",
       "        [5]       chr1 79054-79223      * | 12T#AGGCCCATCGTTGTTT-1          1\n",
       "        ...        ...         ...    ... .                    ...        ...\n",
       "  [5765081] KI270713.1 32563-32607      * | 12T#CAAGGCCGTGATTCCA-1          1\n",
       "  [5765082] KI270713.1 32975-33214      * | 12T#CATAACGAGCAATAAC-1          1\n",
       "  [5765083] KI270713.1 33489-33650      * | 12T#AATACGCTCCATACCC-1          1\n",
       "  [5765084] KI270713.1 33650-33707      * | 12T#ACAATCGGTTACACTG-1          1\n",
       "  [5765085] KI270713.1 37276-37340      * | 12T#CACAACATCGCCCTTA-1          2\n",
       "  -------\n",
       "  seqinfo: 39 sequences from an unspecified genome; no seqlengths\n",
       "\n",
       "$`13T`\n",
       "GRanges object with 12193219 ranges and 2 metadata columns:\n",
       "               seqnames      ranges strand |                     RG read_count\n",
       "                  <Rle>   <IRanges>  <Rle> |            <character>  <integer>\n",
       "         [1]       chr1 10151-10180      * | 13T#GTAGGAGGTCACAGGA-1          1\n",
       "         [2]       chr1 10151-10198      * | 13T#ACAAAGAGTCCTTCAC-1          1\n",
       "         [3]       chr1 10151-10198      * | 13T#CTACTTACACCTCGTT-1          2\n",
       "         [4]       chr1 10156-10202      * | 13T#AGTGCGCTCAAACCAC-1          3\n",
       "         [5]       chr1 58263-58452      * | 13T#GTGCTGGTCCAAGTCA-1          1\n",
       "         ...        ...         ...    ... .                    ...        ...\n",
       "  [12193215] KI270713.1 32532-32568      * | 13T#GCTTGCTAGGCGTAGT-1          1\n",
       "  [12193216] KI270713.1 34412-34480      * | 13T#CGCTATCTCTCGTGAA-1          1\n",
       "  [12193217] KI270713.1 34857-34887      * | 13T#AACAGTCGTAAGTGCG-1          1\n",
       "  [12193218] KI270713.1 36303-36354      * | 13T#CGCTATCTCTCGTGAA-1          3\n",
       "  [12193219] KI270713.1 40349-40708      * | 13T#GTTACTTCACATATCG-1          3\n",
       "  -------\n",
       "  seqinfo: 39 sequences from an unspecified genome; no seqlengths\n",
       "\n",
       "$`18T`\n",
       "GRanges object with 4288617 ranges and 2 metadata columns:\n",
       "              seqnames      ranges strand |                     RG read_count\n",
       "                 <Rle>   <IRanges>  <Rle> |            <character>  <integer>\n",
       "        [1]       chr1 10097-10346      * | 18T#ATTTGTCCAGTGCTCG-1          1\n",
       "        [2]       chr1 10151-10185      * | 18T#GAGGTCCAGCAGAATT-1          1\n",
       "        [3]       chr1 10151-10185      * | 18T#TGTACAGCAGAGAGAA-1          1\n",
       "        [4]       chr1 10163-10220      * | 18T#GACTAACGTCACATTG-1          1\n",
       "        [5]       chr1 16222-16279      * | 18T#TAGCATGGTCAGAAGC-1          1\n",
       "        ...        ...         ...    ... .                    ...        ...\n",
       "  [4288613] KI270713.1 28129-28177      * | 18T#TGGCGCATCGGTACTA-1          3\n",
       "  [4288614] KI270713.1 29970-30079      * | 18T#CCCAGAGCATATTGGC-1          1\n",
       "  [4288615] KI270713.1 29996-30136      * | 18T#GGAGAACAGCTGAATA-1          3\n",
       "  [4288616] KI270713.1 30334-30483      * | 18T#ACAAAGAAGTGCTGAG-1          1\n",
       "  [4288617] KI270713.1 33451-33489      * | 18T#GGTGCTGGTCAGTGCC-1          1\n",
       "  -------\n",
       "  seqinfo: 38 sequences from an unspecified genome; no seqlengths\n",
       "\n",
       "$`19T`\n",
       "GRanges object with 9451282 ranges and 2 metadata columns:\n",
       "              seqnames      ranges strand |                     RG read_count\n",
       "                 <Rle>   <IRanges>  <Rle> |            <character>  <integer>\n",
       "        [1]       chr1 10157-10215      * | 19T#GTTACGATCGGATGTT-1          1\n",
       "        [2]       chr1 10175-10216      * | 19T#GTGTCAAGTCAGTGTT-1          1\n",
       "        [3]       chr1 10179-10192      * | 19T#ACTCGGGAGAGAGTAG-1          1\n",
       "        [4]       chr1 10235-10297      * | 19T#TGTTAGGCATGTATCG-1          1\n",
       "        [5]       chr1 10245-10340      * | 19T#TCAAAGCCACTCAAGT-1          1\n",
       "        ...        ...         ...    ... .                    ...        ...\n",
       "  [9451278] KI270713.1 31656-31700      * | 19T#CCTATTATCTAAACGC-1          4\n",
       "  [9451279] KI270713.1 32364-32391      * | 19T#ACAGCGCTCTTATCAC-1          1\n",
       "  [9451280] KI270713.1 32390-32584      * | 19T#TCCGACTAGTCACGCC-1          1\n",
       "  [9451281] KI270713.1 32719-32888      * | 19T#AAATGAGAGAGAGTTT-1          1\n",
       "  [9451282] KI270713.1 32843-33061      * | 19T#TGTAAGCAGTTGTCCA-1          1\n",
       "  -------\n",
       "  seqinfo: 39 sequences from an unspecified genome; no seqlengths\n",
       "\n",
       "$`20T`\n",
       "GRanges object with 52950860 ranges and 2 metadata columns:\n",
       "               seqnames      ranges strand |                     RG read_count\n",
       "                  <Rle>   <IRanges>  <Rle> |            <character>  <integer>\n",
       "         [1]       chr1 10071-10198      * | 20T#CGCTGGAGTATTCTCT-1          3\n",
       "         [2]       chr1 10097-10291      * | 20T#AGTGTACTCGTGGAAG-1          1\n",
       "         [3]       chr1 10151-10180      * | 20T#AGCCTCTTCTTGCGCT-1          1\n",
       "         [4]       chr1 10151-10180      * | 20T#ATAGTCGGTTATCGAC-1          1\n",
       "         [5]       chr1 10151-10191      * | 20T#TAATCGGTCGATCTTT-1          1\n",
       "         ...        ...         ...    ... .                    ...        ...\n",
       "  [52950856] KI270713.1 34845-34889      * | 20T#GCATTCCTCGCACAAT-1          1\n",
       "  [52950857] KI270713.1 36266-36357      * | 20T#TAGGAGGTCGCTTGAA-1          4\n",
       "  [52950858] KI270713.1 36320-36562      * | 20T#TTGAGCAGTAGACACG-1          1\n",
       "  [52950859] KI270713.1 37661-37693      * | 20T#CTAGGATGTGAATGGC-1          1\n",
       "  [52950860] KI270713.1 40663-40708      * | 20T#CCACAGGTCTCTGACC-1          2\n",
       "  -------\n",
       "  seqinfo: 39 sequences from an unspecified genome; no seqlengths\n",
       "\n",
       "$`21T`\n",
       "GRanges object with 26850807 ranges and 2 metadata columns:\n",
       "               seqnames      ranges strand |                     RG read_count\n",
       "                  <Rle>   <IRanges>  <Rle> |            <character>  <integer>\n",
       "         [1]       chr1 10072-10203      * | 21T#CTCATGCGTAATGCCT-1          1\n",
       "         [2]       chr1 10096-10308      * | 21T#TTACTTGGTATCGCGC-1          2\n",
       "         [3]       chr1 10151-10186      * | 21T#AGATAGAAGTCGATAA-1          1\n",
       "         [4]       chr1 10157-10185      * | 21T#CTTTGCGGTGCAAGAC-1          1\n",
       "         [5]       chr1 10157-10185      * | 21T#GGAGGATTCGGATCGC-1          1\n",
       "         ...        ...         ...    ... .                    ...        ...\n",
       "  [26850803] KI270713.1 33292-33650      * | 21T#TCCAGAATCCAGGTCG-1          1\n",
       "  [26850804] KI270713.1 33311-33494      * | 21T#GTCGTAAAGCGCAATG-1          1\n",
       "  [26850805] KI270713.1 33468-33535      * | 21T#CCTGCTACAGTAAGAT-1          3\n",
       "  [26850806] KI270713.1 34102-34144      * | 21T#GTTCAAGGTTCTGAGT-1          1\n",
       "  [26850807] KI270713.1 36534-36567      * | 21T#GACCTTCTCTCGTGAA-1          1\n",
       "  -------\n",
       "  seqinfo: 39 sequences from an unspecified genome; no seqlengths\n",
       "\n",
       "$`22T`\n",
       "GRanges object with 60319982 ranges and 2 metadata columns:\n",
       "               seqnames      ranges strand |                     RG read_count\n",
       "                  <Rle>   <IRanges>  <Rle> |            <character>  <integer>\n",
       "         [1]       chr1 10085-10209      * | 22T#CCCACATCACTTTGGA-1          1\n",
       "         [2]       chr1 10103-10285      * | 22T#GCCAGACGTCCGTCGA-1          4\n",
       "         [3]       chr1 10151-10186      * | 22T#CGTAAACCAATGAAAC-1          2\n",
       "         [4]       chr1 10151-10186      * | 22T#TGCATTTCACCCTTAC-1          1\n",
       "         [5]       chr1 10151-10196      * | 22T#ACCATCCTCAGAATGA-1          1\n",
       "         ...        ...         ...    ... .                    ...        ...\n",
       "  [60319978] KI270713.1 36293-36357      * | 22T#CGGTGCAAGGACTAGC-1          1\n",
       "  [60319979] KI270713.1 37276-37320      * | 22T#TTCAACTAGGCTAAAT-1          3\n",
       "  [60319980] KI270713.1 37276-37350      * | 22T#TCCAGAAGTGGTCGAA-1          2\n",
       "  [60319981] KI270713.1 37376-37442      * | 22T#GCATTCCTCAAAGTAG-1          1\n",
       "  [60319982] KI270713.1 38991-39218      * | 22T#CTCGCTATCTGGACAT-1          1\n",
       "  -------\n",
       "  seqinfo: 39 sequences from an unspecified genome; no seqlengths\n"
      ]
     },
     "metadata": {},
     "output_type": "display_data"
    }
   ],
   "source": [
    "gr_list <- list()\n",
    "all_fragments <- data.table(chr = character(), start = integer(), end = integer(), barcode = character(), read_count = integer())\n",
    "\n",
    "for (batch in batches) {\n",
    "    print(paste0(dataPath, \"/\", batch,\"/\", \"fragments.tsv.gz\"))\n",
    "    df <- fread(paste0(dataPath, \"/\", batch,\"/\", \"fragments.tsv.gz\"), sep = \"\\t\", header = FALSE)\n",
    "    colnames(df) <- c(\"chr\", \"start\", \"end\", \"barcode\", \"read_count\")\n",
    "    metadata <- as.data.frame(proj@cellColData)\n",
    "    cell_barcodes <- rownames(metadata)[metadata$Sample == batch]\n",
    "    cell_barcodes <- sub(\"^[^#]+#\", \"\", cell_barcodes)\n",
    "    cells <- df[barcode %in% cell_barcodes]\n",
    "    cells$barcode <- paste(batch, sep = \"#\", cells$barcode)\n",
    "    all_fragments <- rbind(all_fragments, cells)\n",
    "    gr <- GRanges(\n",
    "        seqnames = cells$chr,\n",
    "        ranges = IRanges(start = cells$start, end = cells$end),\n",
    "        RG = cells$barcode,\n",
    "        read_count = cells$read_count\n",
    "    )\n",
    "    gr\n",
    "    gr_list[[batch]] <- gr\n",
    "}\n",
    "gr_list"
   ]
  },
  {
   "cell_type": "code",
   "execution_count": 6,
   "metadata": {
    "vscode": {
     "languageId": "r"
    }
   },
   "outputs": [
    {
     "data": {
      "text/plain": [
       "GRanges object with 57059141 ranges and 2 metadata columns:\n",
       "               seqnames      ranges strand |                     RG read_count\n",
       "                  <Rle>   <IRanges>  <Rle> |            <character>  <integer>\n",
       "         [1]       chr1 10132-10327      * | 11T#TATCGAGGTTGCCTGG-1          1\n",
       "         [2]       chr1 10151-10192      * | 11T#ACAAGCTGTTCCTATT-1          3\n",
       "         [3]       chr1 10151-10196      * | 11T#CCAGAATAGAATATCG-1          1\n",
       "         [4]       chr1 10163-10192      * | 11T#GTGACATGTGAGTCGA-1          1\n",
       "         [5]       chr1 10169-10209      * | 11T#GCTTTCGGTTCCTATT-1          1\n",
       "         ...        ...         ...    ... .                    ...        ...\n",
       "  [57059137] KI270713.1 31656-31700      * | 19T#CCTATTATCTAAACGC-1          4\n",
       "  [57059138] KI270713.1 32364-32391      * | 19T#ACAGCGCTCTTATCAC-1          1\n",
       "  [57059139] KI270713.1 32390-32584      * | 19T#TCCGACTAGTCACGCC-1          1\n",
       "  [57059140] KI270713.1 32719-32888      * | 19T#AAATGAGAGAGAGTTT-1          1\n",
       "  [57059141] KI270713.1 32843-33061      * | 19T#TGTAAGCAGTTGTCCA-1          1\n",
       "  -------\n",
       "  seqinfo: 39 sequences from an unspecified genome; no seqlengths"
      ]
     },
     "metadata": {},
     "output_type": "display_data"
    }
   ],
   "source": [
    "all_gr <- c(gr_list[[\"11T\"]], gr_list[[\"12N\"]], gr_list[[\"12T\"]], gr_list[[\"13T\"]], gr_list[[\"19T\"]])\n",
    "all_gr"
   ]
  },
  {
   "cell_type": "code",
   "execution_count": 7,
   "metadata": {
    "vscode": {
     "languageId": "r"
    }
   },
   "outputs": [],
   "source": [
    "# 将合并后的所有 cells 写入一个 fragments.tsv 文件中\n",
    "fwrite(all_fragments, \"./ArchRProject_T/T_fragments.tsv\", sep = \"\\t\", col.names = FALSE)"
   ]
  },
  {
   "cell_type": "code",
   "execution_count": 8,
   "metadata": {
    "vscode": {
     "languageId": "r"
    }
   },
   "outputs": [],
   "source": [
    "# 保存合并后的 GRanges 对象（所有样本中的上皮细胞gr）\n",
    "saveRDS(all_gr, file = \"./ArchRProject_T/T_gr.rds\")"
   ]
  }
 ],
 "metadata": {
  "kernelspec": {
   "display_name": "R",
   "language": "R",
   "name": "ir"
  },
  "language_info": {
   "codemirror_mode": "r",
   "file_extension": ".r",
   "mimetype": "text/x-r-source",
   "name": "R",
   "pygments_lexer": "r",
   "version": "4.4.1"
  }
 },
 "nbformat": 4,
 "nbformat_minor": 2
}
