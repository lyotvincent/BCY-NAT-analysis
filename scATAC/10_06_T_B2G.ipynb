{
 "cells": [
  {
   "cell_type": "code",
   "execution_count": null,
   "id": "ab037ab5",
   "metadata": {
    "vscode": {
     "languageId": "plaintext"
    }
   },
   "outputs": [],
   "source": [
    "suppressMessages(library(ggplot2))\n",
    "suppressMessages(library(ArchR))\n",
    "suppressMessages(library(Seurat))\n",
    "suppressMessages(library(Signac))\n",
    "suppressMessages(library(Matrix))\n",
    "set.seed(42)\n",
    "addArchRThreads(threads = 64)"
   ]
  },
  {
   "cell_type": "code",
   "execution_count": null,
   "id": "f162aa6f",
   "metadata": {
    "vscode": {
     "languageId": "plaintext"
    }
   },
   "outputs": [],
   "source": [
    "proj <- loadArchRProject(\"./ArchRProject_T\", showLogo = FALSE)"
   ]
  },
  {
   "cell_type": "code",
   "execution_count": null,
   "id": "cc6ac03a",
   "metadata": {
    "vscode": {
     "languageId": "plaintext"
    }
   },
   "outputs": [],
   "source": [
    "savePath = \"/data/xwt/BCY_ATAC/output/B2G/scATAC/\""
   ]
  },
  {
   "cell_type": "code",
   "execution_count": null,
   "id": "484d0678",
   "metadata": {
    "vscode": {
     "languageId": "plaintext"
    }
   },
   "outputs": [],
   "source": [
    "cellColData <- proj@cellColData\n",
    "print(paste0(savePath, \"T_cellColData.csv\"))\n",
    "write.csv(as.data.frame(cellColData), paste0(savePath, \"T_cellColData.csv\"))"
   ]
  }
 ],
 "metadata": {
  "language_info": {
   "name": "python"
  }
 },
 "nbformat": 4,
 "nbformat_minor": 5
}
