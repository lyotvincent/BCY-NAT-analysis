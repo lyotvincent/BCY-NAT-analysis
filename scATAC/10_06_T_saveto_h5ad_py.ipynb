{
 "cells": [
  {
   "cell_type": "code",
   "execution_count": 44,
   "metadata": {},
   "outputs": [],
   "source": [
    "import anndata\n",
    "import scipy.io\n",
    "import pandas as pd"
   ]
  },
  {
   "cell_type": "code",
   "execution_count": 45,
   "metadata": {},
   "outputs": [],
   "source": [
    "filePath = \"../output/joint_annotation/archr_T.h5ad\"\n",
    "mtx_filePath = \"../output/joint_annotation/T_geneScore_matrix.mtx\"\n",
    "meta_filePath = \"../output/joint_annotation/T_cell_annotations.csv\"\n",
    "varName_filePath = \"../output/joint_annotation/T_gene_names.csv\"\n",
    "lsi_filePath = \"../output/joint_annotation/T_lsiMatrix.csv\""
   ]
  },
  {
   "cell_type": "code",
   "execution_count": 46,
   "metadata": {},
   "outputs": [],
   "source": [
    "# 读取稀疏矩阵文件\n",
    "gene_score_matrix = scipy.io.mmread(mtx_filePath).T.tocsr()"
   ]
  },
  {
   "cell_type": "code",
   "execution_count": 47,
   "metadata": {},
   "outputs": [],
   "source": [
    "lsi = pd.read_csv(lsi_filePath, index_col = 0)"
   ]
  },
  {
   "cell_type": "code",
   "execution_count": 48,
   "metadata": {},
   "outputs": [],
   "source": [
    "# 读取细胞注释文件\n",
    "cell_annotations = pd.read_csv(meta_filePath, index_col=0)"
   ]
  },
  {
   "cell_type": "code",
   "execution_count": 49,
   "metadata": {},
   "outputs": [],
   "source": [
    "var_names = pd.read_csv(varName_filePath, header=0).values.flatten()"
   ]
  },
  {
   "cell_type": "code",
   "execution_count": 50,
   "metadata": {},
   "outputs": [
    {
     "name": "stdout",
     "output_type": "stream",
     "text": [
      "AnnData object with n_obs × n_vars = 15977 × 24919\n",
      "    obs: 'Sample', 'TSSEnrichment', 'ReadsInTSS', 'ReadsInPromoter', 'ReadsInBlacklist', 'PromoterRatio', 'PassQC', 'NucleosomeRatio', 'nMultiFrags', 'nMonoFrags', 'nFrags', 'nDiFrags', 'DoubletScore', 'DoubletEnrichment', 'BlacklistRatio', 'neoadjuvant', 'ReadsInPeaks', 'FRIP', 'Clusters', 'Clusters_Harmony', 'majorType', 'predictedCellType', 'predictedMajorCellType', 'clusters', 'type', 'clusters_harmnoy', 'TCellType', 'clusters_harmony', 'predictedCell', 'predictedGroup', 'predictedScore'\n",
      "    obsm: 'X_lsi'\n"
     ]
    }
   ],
   "source": [
    "# 创建 AnnData 对象\n",
    "adata = anndata.AnnData(\n",
    "    X = gene_score_matrix,\n",
    "    obs = cell_annotations,\n",
    "    var = pd.DataFrame(index=var_names)\n",
    ")\n",
    "adata.obsm['X_lsi'] = lsi.values\n",
    "print(adata)"
   ]
  },
  {
   "cell_type": "code",
   "execution_count": 51,
   "metadata": {},
   "outputs": [
    {
     "data": {
      "text/html": [
       "<div>\n",
       "<style scoped>\n",
       "    .dataframe tbody tr th:only-of-type {\n",
       "        vertical-align: middle;\n",
       "    }\n",
       "\n",
       "    .dataframe tbody tr th {\n",
       "        vertical-align: top;\n",
       "    }\n",
       "\n",
       "    .dataframe thead th {\n",
       "        text-align: right;\n",
       "    }\n",
       "</style>\n",
       "<table border=\"1\" class=\"dataframe\">\n",
       "  <thead>\n",
       "    <tr style=\"text-align: right;\">\n",
       "      <th></th>\n",
       "    </tr>\n",
       "  </thead>\n",
       "  <tbody>\n",
       "    <tr>\n",
       "      <th>OR4F5</th>\n",
       "    </tr>\n",
       "    <tr>\n",
       "      <th>LOC729737</th>\n",
       "    </tr>\n",
       "    <tr>\n",
       "      <th>LOC101928626</th>\n",
       "    </tr>\n",
       "    <tr>\n",
       "      <th>FAM87B</th>\n",
       "    </tr>\n",
       "    <tr>\n",
       "      <th>LINC01128</th>\n",
       "    </tr>\n",
       "    <tr>\n",
       "      <th>...</th>\n",
       "    </tr>\n",
       "    <tr>\n",
       "      <th>RAB39B</th>\n",
       "    </tr>\n",
       "    <tr>\n",
       "      <th>CLIC2</th>\n",
       "    </tr>\n",
       "    <tr>\n",
       "      <th>H2AFB1</th>\n",
       "    </tr>\n",
       "    <tr>\n",
       "      <th>F8A2</th>\n",
       "    </tr>\n",
       "    <tr>\n",
       "      <th>TMLHE</th>\n",
       "    </tr>\n",
       "  </tbody>\n",
       "</table>\n",
       "<p>24919 rows × 0 columns</p>\n",
       "</div>"
      ],
      "text/plain": [
       "Empty DataFrame\n",
       "Columns: []\n",
       "Index: [OR4F5, LOC729737, LOC101928626, FAM87B, LINC01128, LINC00115, FAM41C, LINC02593, SAMD11, NOC2L, KLHL17, PLEKHN1, PERM1, ISG15, HES4, AGRN, RNF223, C1orf159, LINC01342, MIR200B, MIR200A, MIR429, TTLL10, TNFRSF18, TNFRSF4, SDF4, B3GALT6, C1QTNF12, UBE2J2, SCNN1D, ACAP3, MIR6726, PUSL1, INTS11, MIR6727, CPTP, TAS1R3, DVL1, MIR6808, MXRA8, AURKAIP1, CCNL2, MRPL20-AS1, MRPL20, ANKRD65, TMEM88B, VWA1, LINC01770, ATAD3C, ATAD3B, ATAD3A, TMEM240, SSU72, FNDC10, MIB2, MMP23B, MMP23A, CDK11B, SLC35E2B, CDK11A, SLC35E2A, NADK, GNB1, CALML6, TMEM52, CFAP74, GABRD, PRKCZ, FAAP20, SKI, MORN1, RER1, PEX10, PLCH2, PANK4, HES5, TNFRSF14-AS1, TNFRSF14, LOC100996583, PRXL2B, MMEL1, TTC34, ACTRT2, LINC00982, PRDM16, ARHGEF16, MEGF6, MIR551A, TPRG1L, WRAP73, TP73, TP73-AS1, CCDC27, SMIM1, LRRC47, CEP104, DFFB, C1orf174, LINC01134, LINC01346, ...]\n",
       "\n",
       "[24919 rows x 0 columns]"
      ]
     },
     "execution_count": 51,
     "metadata": {},
     "output_type": "execute_result"
    }
   ],
   "source": [
    "adata.var"
   ]
  },
  {
   "cell_type": "code",
   "execution_count": 52,
   "metadata": {},
   "outputs": [],
   "source": [
    "adata.write_h5ad(filePath)"
   ]
  }
 ],
 "metadata": {
  "kernelspec": {
   "display_name": "scseq",
   "language": "python",
   "name": "python3"
  },
  "language_info": {
   "codemirror_mode": {
    "name": "ipython",
    "version": 3
   },
   "file_extension": ".py",
   "mimetype": "text/x-python",
   "name": "python",
   "nbconvert_exporter": "python",
   "pygments_lexer": "ipython3",
   "version": "3.10.16"
  }
 },
 "nbformat": 4,
 "nbformat_minor": 2
}
