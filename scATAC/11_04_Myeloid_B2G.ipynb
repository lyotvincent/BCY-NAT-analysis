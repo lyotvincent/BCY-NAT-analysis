{
 "cells": [
  {
   "cell_type": "code",
   "execution_count": null,
   "id": "3710f36a",
   "metadata": {
    "vscode": {
     "languageId": "plaintext"
    }
   },
   "outputs": [],
   "source": [
    "suppressMessages(library(ggplot2))\n",
    "suppressMessages(library(ArchR))\n",
    "suppressMessages(library(Seurat))\n",
    "suppressMessages(library(Signac))\n",
    "suppressMessages(library(Matrix))\n",
    "set.seed(42)\n",
    "addArchRThreads(threads = 64)"
   ]
  },
  {
   "cell_type": "code",
   "execution_count": null,
   "id": "a928345a",
   "metadata": {
    "vscode": {
     "languageId": "plaintext"
    }
   },
   "outputs": [],
   "source": [
    "proj <- loadArchRProject(\"./ArchRProject_Myeloid\", showLogo = FALSE)"
   ]
  },
  {
   "cell_type": "code",
   "execution_count": null,
   "id": "d93df172",
   "metadata": {
    "vscode": {
     "languageId": "plaintext"
    }
   },
   "outputs": [],
   "source": [
    "savePath = \"/data/xwt/BCY_ATAC/output/B2G/scATAC/\""
   ]
  },
  {
   "cell_type": "code",
   "execution_count": null,
   "id": "2338af67",
   "metadata": {
    "vscode": {
     "languageId": "plaintext"
    }
   },
   "outputs": [],
   "source": [
    "cellColData <- proj@cellColData\n",
    "print(paste0(savePath, \"Myeloid_cellColData.csv\"))\n",
    "write.csv(as.data.frame(cellColData), paste0(savePath, \"Myeloid_cellColData.csv\"))"
   ]
  }
 ],
 "metadata": {
  "language_info": {
   "name": "python"
  }
 },
 "nbformat": 4,
 "nbformat_minor": 5
}
