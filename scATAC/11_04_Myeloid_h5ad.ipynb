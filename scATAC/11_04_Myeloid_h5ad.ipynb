{
 "cells": [
  {
   "cell_type": "code",
   "execution_count": 1,
   "metadata": {
    "vscode": {
     "languageId": "r"
    }
   },
   "outputs": [],
   "source": [
    "suppressMessages(library(ggplot2))\n",
    "suppressMessages(library(ArchR))\n",
    "suppressMessages(library(Seurat))\n",
    "suppressMessages(library(Signac))\n",
    "suppressMessages(library(purrr))\n",
    "suppressMessages(library(readr))"
   ]
  },
  {
   "cell_type": "code",
   "execution_count": 2,
   "metadata": {
    "vscode": {
     "languageId": "r"
    }
   },
   "outputs": [
    {
     "name": "stderr",
     "output_type": "stream",
     "text": [
      "Setting default number of Parallel threads to 64.\n",
      "\n"
     ]
    }
   ],
   "source": [
    "set.seed(42)\n",
    "addArchRThreads(threads = 64)"
   ]
  },
  {
   "cell_type": "code",
   "execution_count": 3,
   "metadata": {
    "vscode": {
     "languageId": "r"
    }
   },
   "outputs": [
    {
     "name": "stderr",
     "output_type": "stream",
     "text": [
      "Successfully loaded ArchRProject!\n",
      "\n"
     ]
    }
   ],
   "source": [
    "proj <- loadArchRProject(\"./ArchRProject_Myeloid\", showLogo = FALSE)"
   ]
  },
  {
   "cell_type": "code",
   "execution_count": 4,
   "metadata": {
    "vscode": {
     "languageId": "r"
    }
   },
   "outputs": [
    {
     "name": "stderr",
     "output_type": "stream",
     "text": [
      "ArchR logging to : ArchRLogs/ArchR-getMatrixFromProject-1a8d84efac39d-Date-2025-04-24_Time-13-51-43.28747.log\n",
      "If there is an issue, please report to github with logFile!\n",
      "\n"
     ]
    },
    {
     "name": "stderr",
     "output_type": "stream",
     "text": [
      "2025-04-24 13:52:03.610621 : Organizing colData, 0.339 mins elapsed.\n",
      "\n",
      "2025-04-24 13:52:04.044127 : Organizing rowData, 0.346 mins elapsed.\n",
      "\n",
      "2025-04-24 13:52:04.055656 : Organizing rowRanges, 0.346 mins elapsed.\n",
      "\n",
      "2025-04-24 13:52:04.06296 : Organizing Assays (1 of 1), 0.346 mins elapsed.\n",
      "\n",
      "2025-04-24 13:52:10.069906 : Constructing SummarizedExperiment, 0.446 mins elapsed.\n",
      "\n",
      "2025-04-24 13:52:10.716247 : Finished Matrix Creation, 0.457 mins elapsed.\n",
      "\n"
     ]
    }
   ],
   "source": [
    "## 基因表达矩阵\n",
    "geneExpr <- getMatrixFromProject(ArchRProj = proj,\n",
    "                             useMatrix = \"GeneScoreMatrix\")"
   ]
  },
  {
   "cell_type": "code",
   "execution_count": 5,
   "metadata": {
    "vscode": {
     "languageId": "r"
    }
   },
   "outputs": [],
   "source": [
    "cell_annotations <- proj@cellColData"
   ]
  },
  {
   "cell_type": "code",
   "execution_count": 6,
   "metadata": {
    "vscode": {
     "languageId": "r"
    }
   },
   "outputs": [],
   "source": [
    "gene_names <- rowData(geneExpr)$name"
   ]
  },
  {
   "cell_type": "code",
   "execution_count": 7,
   "metadata": {
    "vscode": {
     "languageId": "r"
    }
   },
   "outputs": [
    {
     "data": {
      "text/plain": [
       "NULL"
      ]
     },
     "metadata": {},
     "output_type": "display_data"
    }
   ],
   "source": [
    "# 导出峰值矩阵\n",
    "writeMM(geneExpr@assays@data$GeneScoreMatrix, \"../output/joint_annotation/Myeloid_geneScore_matrix.mtx\")\n",
    "write.csv(as.data.frame(cell_annotations), \"../output/joint_annotation/Myeloid_cell_annotations.csv\")"
   ]
  },
  {
   "cell_type": "code",
   "execution_count": 8,
   "metadata": {
    "vscode": {
     "languageId": "r"
    }
   },
   "outputs": [
    {
     "name": "stderr",
     "output_type": "stream",
     "text": [
      "Warning message in write.csv(gene_names, \"../output/joint_annotation/Myeloid_gene_names.csv\", :\n",
      "“attempt to set 'col.names' ignored”\n"
     ]
    }
   ],
   "source": [
    "write.csv(gene_names, \"../output/joint_annotation/Myeloid_gene_names.csv\", row.names = FALSE, col.names = FALSE)"
   ]
  }
 ],
 "metadata": {
  "kernelspec": {
   "display_name": "R",
   "language": "R",
   "name": "ir"
  },
  "language_info": {
   "codemirror_mode": "r",
   "file_extension": ".r",
   "mimetype": "text/x-r-source",
   "name": "R",
   "pygments_lexer": "r",
   "version": "4.4.1"
  }
 },
 "nbformat": 4,
 "nbformat_minor": 2
}
