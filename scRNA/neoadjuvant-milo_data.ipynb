{
 "cells": [
  {
   "cell_type": "code",
   "execution_count": 9,
   "metadata": {},
   "outputs": [],
   "source": [
    "import pandas as pd\n",
    "import anndata as ad\n",
    "import scanpy as sc\n",
    "import anndata\n",
    "import matplotlib.pyplot as plt\n",
    "import anndata2ri\n",
    "import rpy2.rinterface_lib.callbacks\n",
    "import logging\n",
    "import numpy as np\n",
    "rpy2.rinterface_lib.callbacks.logger.setLevel(logging.ERROR)"
   ]
  },
  {
   "cell_type": "code",
   "execution_count": 10,
   "metadata": {},
   "outputs": [
    {
     "name": "stderr",
     "output_type": "stream",
     "text": [
      "/tmp/ipykernel_3136231/4016445965.py:1: DeprecationWarning: The global conversion available with activate() is deprecated and will be removed in the next major release. Use a local converter.\n",
      "  anndata2ri.activate()\n"
     ]
    }
   ],
   "source": [
    "anndata2ri.activate()"
   ]
  },
  {
   "cell_type": "code",
   "execution_count": 11,
   "metadata": {},
   "outputs": [
    {
     "name": "stdout",
     "output_type": "stream",
     "text": [
      "The rpy2.ipython extension is already loaded. To reload it, use:\n",
      "  %reload_ext rpy2.ipython\n"
     ]
    }
   ],
   "source": [
    "%load_ext rpy2.ipython"
   ]
  },
  {
   "cell_type": "code",
   "execution_count": 12,
   "metadata": {},
   "outputs": [
    {
     "data": {
      "text/plain": [
       "AnnData object with n_obs × n_vars = 48293 × 41733\n",
       "    obs: 'batch', 'mt_frac', 'n_genes_by_counts', 'log1p_n_genes_by_counts', 'total_counts', 'log1p_total_counts', 'n_genes', 'n_counts', 'leiden', 'major_type', 'molecular_type', 'leiden_harmony', 'major_type_harmony', 'minor_type', 'minor-type', 'gender', 'doublet_score', 'predicted_doublet', 'leiden-harmony-female', 'majorType-Female', 'epi-subtype', 'treat', 'leiden-1', 'annotation', 'leiden-T', 'groups', 'anno-T', 'anno-subT'\n",
       "    var: 'n_cells_by_counts', 'mean_counts', 'log1p_mean_counts', 'pct_dropout_by_counts', 'total_counts', 'log1p_total_counts', 'n_cells', 'highly_variable', 'means', 'dispersions', 'dispersions_norm'\n",
       "    uns: 'anno-T_colors', 'anno-subT_colors', 'annotation_colors', 'batch_colors', 'dendrogram_anno-T', 'dendrogram_annotation', 'dendrogram_leiden', 'dendrogram_leiden-1', 'gender_colors', 'hvg', 'leiden', 'leiden-1_colors', 'leiden-T_colors', 'leiden-harmony-female_colors', 'leiden_colors', 'leiden_harmony_colors', 'log1p', 'majorType-Female_colors', 'major_type_colors', 'major_type_harmony_colors', 'minor-type_colors', 'minor_type_colors', 'neighbors', 'pca', 'rank_genes_groups', 'scrublet', 'tsne', 'umap'\n",
       "    obsm: 'X_pca', 'X_pca_harmony', 'X_tsne', 'X_umap'\n",
       "    varm: 'PCs'\n",
       "    obsp: 'connectivities', 'distances'"
      ]
     },
     "execution_count": 12,
     "metadata": {},
     "output_type": "execute_result"
    }
   ],
   "source": [
    "adata = sc.read_h5ad(\"/data/hanxue/hanxue_data/adata-xwt-annotated_T-0429.h5ad\")\n",
    "adata"
   ]
  },
  {
   "cell_type": "code",
   "execution_count": 13,
   "metadata": {},
   "outputs": [],
   "source": [
    "# adata.obs['batch'].unique()"
   ]
  },
  {
   "cell_type": "code",
   "execution_count": 14,
   "metadata": {},
   "outputs": [
    {
     "data": {
      "text/plain": [
       "['1T', '2T', '8T', '9T', '10T', ..., '17T', '19T', '20T', '21T', '22T']\n",
       "Length: 17\n",
       "Categories (17, object): ['1T', '2T', '8T', '9T', ..., '19T', '20T', '21T', '22T']"
      ]
     },
     "execution_count": 14,
     "metadata": {},
     "output_type": "execute_result"
    }
   ],
   "source": [
    "adata = adata[~adata.obs['batch'].isin(['16T'])].copy()\n",
    "adata.obs['batch'].unique()"
   ]
  },
  {
   "cell_type": "code",
   "execution_count": 15,
   "metadata": {},
   "outputs": [
    {
     "name": "stdout",
     "output_type": "stream",
     "text": [
      "Index(['Others', 'Post'], dtype='object')\n"
     ]
    }
   ],
   "source": [
    "# 标注数据\n",
    "def anno(adata:ad.AnnData, annoDict:dict, obsKey='cnv_status', obsVal='cnv_leiden', default=\"Unknown\"):\n",
    "  if default is not None:\n",
    "    adata.obs[obsKey] = default\n",
    "  for key in annoDict.keys():\n",
    "    adata.obs.loc[adata.obs[obsVal].isin(annoDict[key]), obsKey] = key\n",
    "  return adata\n",
    "\n",
    "# python环境中准备miloR数据（需要跑过sc.tl.neighbors）\n",
    "def prepare_miloR(adata: ad.AnnData, conDict: dict, condName, condVal, batch='batch'):\n",
    "    adata_no_knn = adata.copy()\n",
    "    adata_no_knn.obsp = None\n",
    "    adata_no_knn.uns.pop(\"neighbors\")\n",
    "    \n",
    "    # 标注分组\n",
    "    adata_no_knn = anno(adata_no_knn, annoDict=conDict, obsKey=condName, obsVal=condVal, default=None)\n",
    "    adata_no_knn.obs[condName] = adata_no_knn.obs[condName].astype('category')\n",
    "    used_cond = adata_no_knn.obs[condName].cat.categories\n",
    "    adata_no_knn = adata_no_knn[adata_no_knn.obs[condName].isin(used_cond)]  # 仅保留指定分组\n",
    "    \n",
    "    print(adata_no_knn.obs[condName].cat.categories)\n",
    "    \n",
    "    # 邻接矩阵\n",
    "    knn_adjacency = adata.obsp[\"connectivities\"]\n",
    "    \n",
    "    # 构造 design_df：两列，无索引\n",
    "    design_df = adata_no_knn.obs[[batch, condName]].drop_duplicates().reset_index(drop=True)\n",
    "    \n",
    "    return adata_no_knn, knn_adjacency, design_df\n",
    "\n",
    "#以标注TNBC数据为例\n",
    "conDict = {\n",
    "  'Post': ['After'],\n",
    "  'Others': ['Before', 'W/O Treat']\n",
    "}\n",
    "adata_no_knn, knn_adjacency, design_df = prepare_miloR(adata, conDict, 'TorN', 'treat') # 最后为分组依据"
   ]
  },
  {
   "cell_type": "code",
   "execution_count": 16,
   "metadata": {},
   "outputs": [],
   "source": [
    "adata_no_knn.write_h5ad(\"adata-for-milo.h5ad\")"
   ]
  },
  {
   "cell_type": "code",
   "execution_count": 17,
   "metadata": {},
   "outputs": [],
   "source": [
    "from scipy.io import mmwrite\n",
    "from scipy.sparse import csr_matrix\n",
    "\n",
    "# 假设 knn_adjacency 是 csr_matrix，如果不是请转换\n",
    "knn_adjacency = knn_adjacency.tocsr() # 确保格式兼容\n",
    "mmwrite(\"knn_adjacency.mtx\", knn_adjacency)"
   ]
  },
  {
   "cell_type": "code",
   "execution_count": 18,
   "metadata": {},
   "outputs": [],
   "source": [
    "design_df.to_csv(\"design_matrix.csv\", index=False)"
   ]
  }
 ],
 "metadata": {
  "kernelspec": {
   "display_name": "omicverse",
   "language": "python",
   "name": "python3"
  },
  "language_info": {
   "codemirror_mode": {
    "name": "ipython",
    "version": 3
   },
   "file_extension": ".py",
   "mimetype": "text/x-python",
   "name": "python",
   "nbconvert_exporter": "python",
   "pygments_lexer": "ipython3",
   "version": "3.10.14"
  }
 },
 "nbformat": 4,
 "nbformat_minor": 2
}
